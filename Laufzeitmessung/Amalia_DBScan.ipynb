{
 "cells": [
  {
   "cell_type": "code",
   "execution_count": 1,
   "metadata": {},
   "outputs": [],
   "source": [
    "from matplotlib import pyplot as plt\n",
    "from sklearn.datasets import make_blobs\n",
    "import time\n",
    "import numpy as np\n",
    "from numpy import linalg\n",
    "import networkx as nx\n",
    "from sklearn.cluster import DBSCAN"
   ]
  },
  {
   "cell_type": "code",
   "execution_count": 2,
   "metadata": {},
   "outputs": [
    {
     "name": "stdout",
     "output_type": "stream",
     "text": [
      "[0.0023581981658935547, 0.0014712810516357422, 0.0020775794982910156, 0.0025687217712402344, 0.0025904178619384766, 0.004958629608154297, 0.00771641731262207, 0.0050601959228515625, 0.0065042972564697266, 0.0075833797454833984, 0.008557319641113281, 0.012758016586303711, 0.015553712844848633, 0.023087739944458008, 0.010685443878173828, 0.019130706787109375, 0.018990516662597656, 0.014714956283569336, 0.01674199104309082, 0.01881241798400879, 0.02388143539428711, 0.018265962600708008, 0.027466535568237305, 0.03094959259033203, 0.021483659744262695, 0.03250908851623535, 0.03361177444458008, 0.03574061393737793, 0.026751041412353516, 0.042484283447265625, 0.04254412651062012, 0.03997349739074707, 0.04687047004699707, 0.04241442680358887, 0.04906821250915527, 0.04000544548034668, 0.049123287200927734, 0.06407332420349121, 0.07418489456176758, 0.0757448673248291, 0.07799792289733887, 0.06005740165710449, 0.0805504322052002, 0.07017755508422852, 0.055182456970214844, 0.1379392147064209, 0.09937810897827148, 0.07750391960144043, 0.07300543785095215, 0.07867026329040527, 0.06966733932495117, 0.13327622413635254, 0.11832785606384277, 0.08150577545166016, 0.10432171821594238, 0.12867331504821777, 0.10149526596069336, 0.09664368629455566, 0.09999990463256836, 0.09679651260375977, 0.13179850578308105, 0.13519597053527832, 0.1260526180267334, 0.11436343193054199, 0.20672869682312012, 0.12527775764465332, 0.1766524314880371, 0.13756227493286133, 0.1278228759765625, 0.12273907661437988, 0.1609821319580078, 0.17029976844787598, 0.15723943710327148, 0.17451977729797363, 0.17824268341064453, 0.28757381439208984, 0.20204901695251465, 0.20178651809692383, 0.20882415771484375, 0.1541130542755127]\n",
      "[ 1.  2.  3.  4.  5.  6.  7.  8.  9. 10. 11. 12. 13. 14. 15. 16. 17. 18.\n",
      " 19. 20. 21. 22. 23. 24. 25. 26. 27. 28. 29. 30. 31. 32. 33. 34. 35. 36.\n",
      " 37. 38. 39. 40. 41. 42. 43. 44. 45. 46. 47. 48. 49. 50. 51. 52. 53. 54.\n",
      " 55. 56. 57. 58. 59. 60. 61. 62. 63. 64. 65. 66. 67. 68. 69. 70. 71. 72.\n",
      " 73. 74. 75. 76. 77. 78. 79. 80.]\n"
     ]
    },
    {
     "ename": "NameError",
     "evalue": "name 'model' is not defined",
     "output_type": "error",
     "traceback": [
      "\u001b[0;31m---------------------------------------------------------------------------\u001b[0m",
      "\u001b[0;31mNameError\u001b[0m                                 Traceback (most recent call last)",
      "\u001b[0;32m<ipython-input-2-8f0ea42dfc2e>\u001b[0m in \u001b[0;36m<module>\u001b[0;34m\u001b[0m\n\u001b[1;32m     27\u001b[0m \u001b[0;34m\u001b[0m\u001b[0m\n\u001b[1;32m     28\u001b[0m \u001b[0;34m\u001b[0m\u001b[0m\n\u001b[0;32m---> 29\u001b[0;31m \u001b[0mprint\u001b[0m \u001b[0;34m(\u001b[0m\u001b[0mmodel\u001b[0m\u001b[0;34m.\u001b[0m\u001b[0mcluster_centers_\u001b[0m\u001b[0;34m)\u001b[0m\u001b[0;34m\u001b[0m\u001b[0;34m\u001b[0m\u001b[0m\n\u001b[0m",
      "\u001b[0;31mNameError\u001b[0m: name 'model' is not defined"
     ]
    },
    {
     "data": {
      "image/png": "[encoded data removed]",
      "text/plain": [
       "<Figure size 432x288 with 1 Axes>"
      ]
     },
     "metadata": {
      "needs_background": "light"
     },
     "output_type": "display_data"
    }
   ],
   "source": [
    "table_kmeans = []\n",
    "k = 80\n",
    "for h in range (1,k+1):\n",
    "    start_time = time.time()\n",
    "    x,y = make_blobs (n_samples=100*h, centers=4, cluster_std= 1)\n",
    "  #plt.plot ( x[:,0], x[:,1], ls = \"\", marker = \"o\")\n",
    "    clustering = DBSCAN(eps=3, min_samples=2).fit(x)\n",
    "    end_time = time.time()\n",
    "    table_kmeans.append(end_time - start_time)\n",
    "\n",
    "print(table_kmeans)\n",
    "hh = np.linspace(1,k,k)\n",
    "x = 100*hh\n",
    "print(hh)\n",
    "plt.plot (x, table_kmeans, ls = \"\", marker = \"o\")\n",
    "\n",
    "X = np.zeros((k, 2))\n",
    "for i in range(k):\n",
    "    X[i][0] = 1\n",
    "    X[i][1] = x[i]*x[i]\n",
    "XT = X.transpose()\n",
    "V = np.dot(linalg.inv(np.dot(XT, X)), XT)\n",
    "a = np.dot(V, table_kmeans)\n",
    "plt.plot(x, X.dot(a))\n",
    "a #cofficients\n",
    "\n",
    "\n",
    "\n",
    "print (model.cluster_centers_)\n"
   ]
  },
  {
   "cell_type": "code",
   "execution_count": 3,
   "metadata": {},
   "outputs": [
    {
     "data": {
      "text/plain": [
       "array([ 100.,  200.,  300.,  400.,  500.,  600.,  700.,  800.,  900.,\n",
       "       1000., 1100., 1200., 1300., 1400., 1500., 1600., 1700., 1800.,\n",
       "       1900., 2000., 2100., 2200., 2300., 2400., 2500., 2600., 2700.,\n",
       "       2800., 2900., 3000., 3100., 3200., 3300., 3400., 3500., 3600.,\n",
       "       3700., 3800., 3900., 4000., 4100., 4200., 4300., 4400., 4500.,\n",
       "       4600., 4700., 4800., 4900., 5000., 5100., 5200., 5300., 5400.,\n",
       "       5500., 5600., 5700., 5800., 5900., 6000., 6100., 6200., 6300.,\n",
       "       6400., 6500., 6600., 6700., 6800., 6900., 7000., 7100., 7200.,\n",
       "       7300., 7400., 7500., 7600., 7700., 7800., 7900., 8000.])"
      ]
     },
     "execution_count": 3,
     "metadata": {},
     "output_type": "execute_result"
    }
   ],
   "source": [
    "x"
   ]
  },
  {
   "cell_type": "code",
   "execution_count": null,
   "metadata": {},
   "outputs": [],
   "source": []
  }
 ],
 "metadata": {
  "kernelspec": {
   "display_name": "Python 3",
   "language": "python",
   "name": "python3"
  },
  "language_info": {
   "codemirror_mode": {
    "name": "ipython",
    "version": 3
   },
   "file_extension": ".py",
   "mimetype": "text/x-python",
   "name": "python",
   "nbconvert_exporter": "python",
   "pygments_lexer": "ipython3",
   "version": "3.8.5"
  }
 },
 "nbformat": 4,
 "nbformat_minor": 4
}
