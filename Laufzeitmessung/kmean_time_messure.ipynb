{
 "cells": [
  {
   "cell_type": "markdown",
   "metadata": {},
   "source": [
    "# Laufzeituntersuchung"
   ]
  },
  {
   "cell_type": "code",
   "execution_count": 2,
   "metadata": {},
   "outputs": [],
   "source": [
    "from sklearn.datasets import make_blobs\n",
    "import matplotlib.pyplot as plt\n",
    "import numpy as np\n",
    "from sklearn.cluster import KMeans\n",
    "import time"
   ]
  },
  {
   "cell_type": "markdown",
   "metadata": {},
   "source": [
    "## Durchführung\n",
    "\n",
    "Durchführung des DBscans für $ 1000\\cdot 2^i,\\ i \\in [0,9]\\cap \\mathbb{N}$ zufällig erzeugte Knoten im Graphen"
   ]
  },
  {
   "cell_type": "code",
   "execution_count": 15,
   "metadata": {},
   "outputs": [
    {
     "name": "stdout",
     "output_type": "stream",
     "text": [
      "Problemgröße:\n",
      "[100, 200, 400, 800, 1600, 3200, 6400, 12800, 25600, 51200]\n",
      "Berechnungszeiten\n",
      "[0.01641559600830078, 0.0202486515045166, 0.060260772705078125, 0.030374526977539062, 0.04239773750305176, 0.0668799877166748, 0.1180117130279541, 0.22106146812438965, 0.4485900402069092, 1.2990922927856445]\n",
      "Berechnungszeiten normalisiert auf kleinste Problemgröße\n",
      "[1.0, 1.2335008423865683, 3.6709463777377564, 1.8503456689711264, 2.5827717422878056, 4.0741735897286935, 7.188999593330622, 13.466551443676291, 27.327063847092315, 79.13768663219659]\n"
     ]
    }
   ],
   "source": [
    "time_values=[]\n",
    "for i in range(10):#10\n",
    "    X, y = make_blobs(n_samples=1000*(2**(i)), centers=4,\n",
    "                   random_state=42)#, cluster.std=0.7)\n",
    "\n",
    "\n",
    "\n",
    "    #print(X.shape)\n",
    "    start = time.time()\n",
    "    #plt.show()\n",
    "    model=KMeans(4)\n",
    "    model.fit(X)\n",
    "    centers = np.array(model.cluster_centers_)\n",
    "    #print(clustering.labels_)\n",
    "    end = time.time()\n",
    "    elapsed=end-start\n",
    "    time_values.append(elapsed)\n",
    "time_values_normalised=[]\n",
    "problemsize=[]\n",
    "for i in range(10):#10\n",
    "    time_values_normalised.append(time_values[i]/time_values[0])\n",
    "    problemsize.append(100*(2**i))\n",
    "    #plt.scatter(centers[:,0], centers[:,1], marker=\"x\", color='r')\n",
    "    #xsquar.append(2**(2*i))\n",
    "print(\"Problemgröße:\")\n",
    "print(problemsize)\n",
    "print(\"Berechnungszeiten\")\n",
    "print(time_values)\n",
    "print(\"Berechnungszeiten normalisiert auf kleinste Problemgröße\")\n",
    "print(time_values_normalised)"
   ]
  },
  {
   "cell_type": "code",
   "execution_count": 16,
   "metadata": {},
   "outputs": [],
   "source": [
    "log_time_values_normalised=[]\n",
    "log_time_values_normalised=np.log2(time_values_normalised)\n",
    "#print(log_time_values_normalised)"
   ]
  },
  {
   "cell_type": "markdown",
   "metadata": {},
   "source": [
    "## Laufzeitunterschiede mit Vergrößerung der Problemgröße\n",
    "\n",
    "Sei $t_j$ die Laufzeit zur Problemgröße $j$. \n",
    "Wir berechnen: $\\frac{t_{j+1}}{t_j}$"
   ]
  },
  {
   "cell_type": "code",
   "execution_count": 13,
   "metadata": {},
   "outputs": [
    {
     "name": "stdout",
     "output_type": "stream",
     "text": [
      "[2.3819653755137624, 0.6147933573161549, 1.334586402218102, 1.5462662027300884, 1.6822290087661815, 1.861905916882875, 1.9762689874417088, 3.3118780864721553, 1.3855910719505542]\n"
     ]
    }
   ],
   "source": [
    "changes=[]\n",
    "for i in range(9):\n",
    "    changes.append(time_values[i+1]/time_values[i])\n",
    "print(changes)"
   ]
  },
  {
   "cell_type": "markdown",
   "metadata": {},
   "source": [
    "## Plotten der Resultate"
   ]
  },
  {
   "cell_type": "code",
   "execution_count": 18,
   "metadata": {},
   "outputs": [
    {
     "data": {
      "text/plain": [
       "Text(0, 0.5, 'log_2(Ausführzeit_normalized)')"
      ]
     },
     "execution_count": 18,
     "metadata": {},
     "output_type": "execute_result"
    },
    {
     "data": {
      "image/png": "[encoded data removed]",
      "text/plain": [
       "<Figure size 432x288 with 1 Axes>"
      ]
     },
     "metadata": {
      "needs_background": "light"
     },
     "output_type": "display_data"
    }
   ],
   "source": [
    "plt.plot(log_time_values_normalised)\n",
    "plt.plot(range(10))#10\n",
    "plt.plot(range(0,20,2))#0,20,2\n",
    "plt.xlabel(\"log_2(Problemgröße/1000)\")\n",
    "plt.ylabel(\"log_2(Ausführzeit_normalized)\")\n",
    "#plt.axis([0, 20, 0 , 40])\n",
    "#plt.plot(range(10))"
   ]
  },
  {
   "cell_type": "markdown",
   "metadata": {},
   "source": [
    "## Zusammenhänge\n",
    "\n",
    "Let assume that the Runtime $t$ increase to the Problemsize $n$ linear. ($t(n)=a*n$) If we increase the Problemsize by power to 2, then the Runtime should also increase by a power of 2. $i=2^n,\\ t(i)=a*i=a*2^n$.\n",
    "If we take the $\\log_2$ to this function we get $\\log_2(a*2^n)=\\log_2(a)+\\log_2(2^n)\\log_a(a)+n$.\n",
    "\n",
    "Let assume that the Runtime $t$ increase to the Problemsize $n$ quatratic. $t(n)=a*n^2$. If we increase that Problemsize by power to 2, the Runtime increase now fast. Problem $i=2^n$, $t(i)=a*i^2=a*2^2n$.\n",
    "If we take now the log to this function we get: $\\log_2(t(i))=\\log_2(a)+\\log_2(2^2n)=\\log_2(a)+2n$\n",
    "\n",
    "So if we have a linear runtime, we would get in the log log Graph a linear function($lt(x)=ax+b$) with a=1, if we have a quadratic runtim we would get a linear funciton ($lt(x)=ax+b$) with a=2\n",
    "\n",
    "In the graph, the blue line ist our Runtime Data from DBSCAN, the organge line is a linear function with $y=x$, the green line a linear function with $y=2x$. In the beginning we got some overlap, but later, the function grows similar then $y=x$, so i would assume a linear Runtime."
   ]
  },
  {
   "cell_type": "code",
   "execution_count": null,
   "metadata": {},
   "outputs": [],
   "source": []
  },
  {
   "cell_type": "code",
   "execution_count": null,
   "metadata": {},
   "outputs": [],
   "source": []
  }
 ],
 "metadata": {
  "kernelspec": {
   "display_name": "Python 3",
   "language": "python",
   "name": "python3"
  },
  "language_info": {
   "codemirror_mode": {
    "name": "ipython",
    "version": 3
   },
   "file_extension": ".py",
   "mimetype": "text/x-python",
   "name": "python",
   "nbconvert_exporter": "python",
   "pygments_lexer": "ipython3",
   "version": "3.8.5"
  }
 },
 "nbformat": 4,
 "nbformat_minor": 4
}
