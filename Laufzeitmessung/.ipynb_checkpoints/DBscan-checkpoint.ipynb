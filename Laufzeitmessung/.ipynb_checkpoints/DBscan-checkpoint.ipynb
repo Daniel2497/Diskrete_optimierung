{
 "cells": [
  {
   "cell_type": "markdown",
   "metadata": {},
   "source": [
    "## Laufzeituntersuchung"
   ]
  },
  {
   "cell_type": "code",
   "execution_count": 1,
   "metadata": {},
   "outputs": [],
   "source": [
    "from sklearn.datasets import make_blobs\n",
    "import matplotlib.pyplot as plt\n",
    "import numpy as np\n",
    "from sklearn.cluster import DBSCAN\n",
    "import time"
   ]
  },
  {
   "cell_type": "code",
   "execution_count": 2,
   "metadata": {},
   "outputs": [],
   "source": [
    "time_values=[]"
   ]
  },
  {
   "cell_type": "code",
   "execution_count": 3,
   "metadata": {},
   "outputs": [
    {
     "name": "stdout",
     "output_type": "stream",
     "text": [
      "Problemgröße:\n",
      "[100, 200, 400, 800, 1600, 3200, 6400, 12800, 25600, 51200]\n",
      "Berechnungszeiten\n",
      "[0.001482248306274414, 0.0012104511260986328, 0.0020203590393066406, 0.004722118377685547, 0.009593486785888672, 0.03515911102294922, 0.136460542678833, 0.34325742721557617, 1.2287981510162354, 4.6153950691223145]\n",
      "Berechnungszeiten normalisiert auf kleinste Problemgröße\n",
      "[1.0, 0.8166318159884188, 1.3630368344860866, 3.1857809232748915, 6.4722534984719315, 23.720122245456007, 92.06321376869873, 231.57889657391024, 829.0096509570533, 3113.779958179186]\n"
     ]
    }
   ],
   "source": [
    "for i in range(10):#10\n",
    "    X, y = make_blobs(n_samples=100*(2**(i)), centers=4,\n",
    "                   random_state=42)#, cluster.std=0.7)\n",
    "\n",
    "\n",
    "\n",
    "    #print(X.shape)\n",
    "    start = time.time()\n",
    "    #plt.show()\n",
    "    clustering = DBSCAN(eps=3, min_samples=2).fit(X)\n",
    "    #print(clustering.labels_)\n",
    "    end = time.time()\n",
    "    elapsed=end-start\n",
    "    time_values.append(elapsed)\n",
    "time_values_normalised=[]\n",
    "problemsize=[]\n",
    "for i in range(10):#10\n",
    "    time_values_normalised.append(time_values[i]/time_values[0])\n",
    "    problemsize.append(100*(2**i))\n",
    "    #plt.scatter(centers[:,0], centers[:,1], marker=\"x\", color='r')\n",
    "    #xsquar.append(2**(2*i))\n",
    "print(\"Problemgröße:\")\n",
    "print(problemsize)\n",
    "print(\"Berechnungszeiten\")\n",
    "print(time_values)\n",
    "print(\"Berechnungszeiten normalisiert auf kleinste Problemgröße\")\n",
    "print(time_values_normalised)"
   ]
  },
  {
   "cell_type": "code",
   "execution_count": null,
   "metadata": {},
   "outputs": [],
   "source": []
  }
 ],
 "metadata": {
  "kernelspec": {
   "display_name": "Python 3",
   "language": "python",
   "name": "python3"
  },
  "language_info": {
   "codemirror_mode": {
    "name": "ipython",
    "version": 3
   },
   "file_extension": ".py",
   "mimetype": "text/x-python",
   "name": "python",
   "nbconvert_exporter": "python",
   "pygments_lexer": "ipython3",
   "version": "3.8.5"
  }
 },
 "nbformat": 4,
 "nbformat_minor": 4
}
