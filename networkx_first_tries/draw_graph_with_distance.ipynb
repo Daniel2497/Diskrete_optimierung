{
 "cells": [
  {
   "cell_type": "code",
   "execution_count": 27,
   "metadata": {},
   "outputs": [],
   "source": [
    "import random\n",
    "import networkx as nx\n",
    "import matplotlib.pyplot as plt\n",
    "import math"
   ]
  },
  {
   "cell_type": "code",
   "execution_count": 73,
   "metadata": {},
   "outputs": [
    {
     "name": "stdout",
     "output_type": "stream",
     "text": [
      "{0: (5.369989972821736, -0.03878688041457639), 1: (-5.794799139742435, -1.4298447420631912), 2: (-5.265882706553369, 2.090748236445838), 3: (-2.010419180861616, -6.641638236960261), 4: (-3.468303259953562, 2.8107982096466886), 5: (-6.506719819203064, -5.675899430992951), 6: (1.1434257397383796, 0.6681129644206327), 7: (-1.1023592319385689, 4.0505259448698645), 8: (2.076892053619784, 3.6328899847180103), 9: (-2.8330141335293297, 2.3487818818237485)}\n"
     ]
    },
    {
     "data": {
      "image/png": "[encoded data removed]",
      "text/plain": [
       "<Figure size 432x288 with 1 Axes>"
      ]
     },
     "metadata": {},
     "output_type": "display_data"
    }
   ],
   "source": [
    "n = 10\n",
    "random.seed(4212)\n",
    "rad=4\n",
    "pos = {i: (random.gauss(0, 4), random.gauss(0, 4)) for i in range(n)}\n",
    "print(pos)\n",
    "G = nx.random_geometric_graph(n,seed=3413, radius=rad,pos=pos)\n",
    "#G=geographical_threshold_graph(n,2,pos=pos)\n",
    "nx.draw(G,with_labels=True)\n",
    "plt.show()"
   ]
  },
  {
   "cell_type": "code",
   "execution_count": 74,
   "metadata": {},
   "outputs": [
    {
     "data": {
      "image/png": "[encoded data removed]",
      "text/plain": [
       "<Figure size 432x288 with 1 Axes>"
      ]
     },
     "metadata": {},
     "output_type": "display_data"
    }
   ],
   "source": [
    "for i in range(n):\n",
    "    for j in range(0,i):\n",
    "        if((pos[i][0]-pos[j][0])**2+(pos[i][1]-pos[j][1])**2<=rad**2):\n",
    "            dist=math.sqrt((pos[i][0]-pos[j][0])**2+(pos[i][1]-pos[j][1])**2)\n",
    "            G.add_weighted_edges_from([(i,j,dist)])\n",
    "    for j in range(i+1,n):\n",
    "        if((pos[i][0]-pos[j][0])**2+(pos[i][1]-pos[j][1])**2<=rad**2):\n",
    "            dist=math.sqrt((pos[i][0]-pos[j][0])**2+(pos[i][1]-pos[j][1])**2)\n",
    "            G.add_weighted_edges_from([(i,j,dist)])\n",
    "\n",
    "edge_labels=dict([((u,v,),d['weight'])\n",
    "                 for u,v,d in G.edges(data=True)])\n",
    "\n",
    "#nx.draw(G,with_labels=True)\n",
    "#print(type(edge_labels))\n",
    "#print(edge_labels[(0,16)])\n",
    "#print(edge_labels.keys())\n",
    "for pair in edge_labels.keys():\n",
    "    edge_labels[pair]=round(edge_labels[pair],1)\n",
    "nx.draw_networkx_edge_labels(G,pos,edge_labels=edge_labels)\n",
    "nx.draw(G,pos)\n",
    "plt.show()"
   ]
  },
  {
   "cell_type": "code",
   "execution_count": 75,
   "metadata": {},
   "outputs": [
    {
     "data": {
      "text/plain": [
       "2.23"
      ]
     },
     "execution_count": 75,
     "metadata": {},
     "output_type": "execute_result"
    }
   ],
   "source": [
    "pos[0]\n",
    "round(2.2324,2)"
   ]
  },
  {
   "cell_type": "code",
   "execution_count": 21,
   "metadata": {},
   "outputs": [
    {
     "data": {
      "text/plain": [
       "4.0"
      ]
     },
     "execution_count": 21,
     "metadata": {},
     "output_type": "execute_result"
    }
   ],
   "source": [
    "math.sqrt(16)"
   ]
  },
  {
   "cell_type": "code",
   "execution_count": 25,
   "metadata": {},
   "outputs": [
    {
     "data": {
      "text/plain": [
       "3.560102177413525"
      ]
     },
     "execution_count": 25,
     "metadata": {},
     "output_type": "execute_result"
    }
   ],
   "source": [
    "i=1\n",
    "j=2\n",
    "math.sqrt((pos[i][0]-pos[j][0])**2+(pos[i][1]-pos[j][1])**2)"
   ]
  },
  {
   "cell_type": "code",
   "execution_count": null,
   "metadata": {},
   "outputs": [],
   "source": []
  }
 ],
 "metadata": {
  "kernelspec": {
   "display_name": "Python 3",
   "language": "python",
   "name": "python3"
  },
  "language_info": {
   "codemirror_mode": {
    "name": "ipython",
    "version": 3
   },
   "file_extension": ".py",
   "mimetype": "text/x-python",
   "name": "python",
   "nbconvert_exporter": "python",
   "pygments_lexer": "ipython3",
   "version": "3.8.5"
  }
 },
 "nbformat": 4,
 "nbformat_minor": 4
}
