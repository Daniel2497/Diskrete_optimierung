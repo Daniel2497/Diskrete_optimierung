{
 "cells": [
  {
   "cell_type": "code",
   "execution_count": 1,
   "metadata": {},
   "outputs": [],
   "source": [
    "import networkx as nx\n",
    "import csv\n",
    "import math\n",
    "import time\n",
    "import random\n",
    "import numpy as np\n",
    "import matplotlib.pyplot as plt\n",
    "from sklearn.linear_model import LinearRegression"
   ]
  },
  {
   "cell_type": "code",
   "execution_count": 2,
   "metadata": {},
   "outputs": [],
   "source": [
    "G_all_roads = nx.DiGraph()\n",
    "both_false=[]\n",
    "with open('Straßengraph/edges_th_with_frc.csv', newline='') as csvfile:\n",
    "    with open('Straßengraph/coordinates_th.csv', newline='') as coordinates:    \n",
    "        spamreader = csv.reader(csvfile, delimiter=';')\n",
    "        cooreader = csv.reader(coordinates, delimiter=';')\n",
    "        count=0\n",
    "        coorrows = list(cooreader)\n",
    "        for row in spamreader:        \n",
    "            Id,u,v,length,maxspeed, maxspeedtrucks, IsF, IsB, Frc=row\n",
    "            #print(type(Id))\n",
    "            #print(Id)\n",
    "            #interestingrows=[row for idx, row in enumerate(cooreader) if idx ==int(Id)]\n",
    "            #interestingrows=[row2 for idx, row2 in enumerate(cooreader) if idx ==2]\n",
    "            #print(coorrow[int(Id)])\n",
    "            coorrow=coorrows[int(Id)]\n",
    "            #length_of_coorrow=len(coorrow[int(Id)])\n",
    "            #print(interestingrows)\n",
    "            if(IsF=='True'):#forward=True\n",
    "            #print(length1)\n",
    "                G_all_roads.add_node(u,y=coorrow[1],x=coorrow[2])\n",
    "                G_all_roads.add_node(v,y=coorrow[-2],x=coorrow[-1])\n",
    "                G_all_roads.add_edge(u,v,Id=Id,length=int(length),maxspeed=float(maxspeed),maxspeedtrucks=float(maxspeedtrucks),\n",
    "                            y1=coorrow[1],x1=coorrow[2],y2=coorrow[-2],x2=coorrow[-1],frc=int(Frc),time=int(length)/float(maxspeedtrucks))\n",
    "            #WEprint(int(list(row)[1]), int(list(row)[2]))\n",
    "            if(IsB=='True'):#forward=True\n",
    "                G_all_roads.add_node(u,y=coorrow[1],x=coorrow[2])\n",
    "                G_all_roads.add_node(v,y=coorrow[-2],x=coorrow[-1])\n",
    "                G_all_roads.add_edge(v,u,Id=Id,length=int(length),maxspeed=float(maxspeed),maxspeedtrucks=float(maxspeedtrucks),\n",
    "                           y1=coorrow[1],x1=coorrow[2],y2=coorrow[-2],x2=coorrow[-1],frc=int(Frc),time=int(length)/float(maxspeedtrucks))\n",
    "            #if(IsF!='True' and IsB !=\"True\"):\n",
    "            #   both_false.append(Id)\n",
    "            #count+=1\n",
    "            #if count>3:\n",
    "            #    break"
   ]
  },
  {
   "cell_type": "code",
   "execution_count": 3,
   "metadata": {},
   "outputs": [],
   "source": [
    "coory=nx.get_node_attributes(G_all_roads,\"y\")\n",
    "coorx=nx.get_node_attributes(G_all_roads,\"x\")\n",
    "def dist(a, b):\n",
    "    x1=float(coorx[a])\n",
    "    x2=float(coorx[b])\n",
    "    y1=float(coory[a])\n",
    "    y2=float(coory[b])\n",
    "    return(math.sqrt(((x1-x2)*71)**2+((y1-y2)*111)**2)*1000*100)"
   ]
  },
  {
   "cell_type": "markdown",
   "metadata": {},
   "source": [
    "## Heuristic search\n",
    "\n",
    "first check for some nodes the difference bettween the euclidean distance and the distance from the edge attributes"
   ]
  },
  {
   "cell_type": "code",
   "execution_count": 4,
   "metadata": {},
   "outputs": [],
   "source": [
    "nodelist=list(G_all_roads.nodes())"
   ]
  },
  {
   "cell_type": "code",
   "execution_count": 5,
   "metadata": {},
   "outputs": [],
   "source": [
    "random.seed(42)\n",
    "sample_nodes=random.sample(nodelist,20)"
   ]
  },
  {
   "cell_type": "code",
   "execution_count": 6,
   "metadata": {},
   "outputs": [
    {
     "name": "stdout",
     "output_type": "stream",
     "text": [
      "1.2072613396177674 146.97555 1.3754701614379883\n",
      "1.1720939396747547 221.37405 2.1194753646850586\n",
      "1.1937509400519302 154.93744 1.2374107837677002\n",
      "1.2389876064219005 51.43946 0.11693263053894043\n",
      "1.1955897183368311 183.13892 1.363724946975708\n",
      "1.2820849345817191 68.17375 0.23101472854614258\n",
      "1.2517675992824933 133.16647 0.7375600337982178\n",
      "1.3472483599744982 72.98993 0.38023829460144043\n",
      "1.1889134113336794 154.74121 1.354346513748169\n",
      "1.214087478092779 138.7104 1.2211155891418457\n",
      "1.2465131890957408 140.62042 0.8000698089599609\n",
      "1.2079013207760763 136.60461 0.9880449771881104\n",
      "1.182976475070832 157.68779 1.1771540641784668\n",
      "1.259730238583179 143.29351 1.361076831817627\n",
      "1.1710943408924723 138.01379 1.0434341430664062\n",
      "1.2321989475521087 55.56902 0.13437175750732422\n",
      "1.2381117820381118 102.82701 0.5802309513092041\n",
      "1.17553118147935 142.06998 0.9643604755401611\n",
      "1.213451224452841 208.23508 2.790527582168579\n"
     ]
    }
   ],
   "source": [
    "#start_node=sample_nodes[0]\n",
    "#for i in range(1,len(sample_nodes)):\n",
    "#    start=time.time()\n",
    "#    len_1=dist(start_node,sample_nodes[i])\n",
    "#    len_2=nx.astar_path_length(G_all_roads, start_node,sample_nodes[i], heuristic=dist, weight='length')\n",
    "#    end=time.time()\n",
    "#    print(len_2/len_1,len_2/100000,end-start)"
   ]
  },
  {
   "cell_type": "markdown",
   "metadata": {},
   "source": [
    "## First Impression\n",
    "- Großer Zusammenhang zwischen Länge des Weges und Berechnungszeit in Astar\n",
    "- There is a big dependance between the eucledean distance and the calculationtime of Astar\n",
    "\n",
    "- Faktor liegt bei Circa 1,2 bis 1,3, Suche mehr um es genau herauszufinden\n",
    "- the factor, between the eucledean length and the real distance is mostly between 1.17 and 1.3"
   ]
  },
  {
   "cell_type": "markdown",
   "metadata": {},
   "source": [
    "## Create for 100 nodes the Factor between the Astar and Eucleadean difference to determine a factor"
   ]
  },
  {
   "cell_type": "code",
   "execution_count": 6,
   "metadata": {},
   "outputs": [],
   "source": [
    "random.seed(5234)\n",
    "sample_nodes=random.sample(nodelist,100)\n",
    "start_sample=random.sample(sample_nodes,5)"
   ]
  },
  {
   "cell_type": "code",
   "execution_count": 7,
   "metadata": {},
   "outputs": [],
   "source": [
    "important_list=[]\n",
    "for i in range(len(start_sample)):\n",
    "    for j in range(len(sample_nodes)):\n",
    "        if start_sample[i]==sample_nodes[j]:\n",
    "            continue\n",
    "        start=time.time()\n",
    "        len_1=dist(start_sample[i],sample_nodes[j])\n",
    "        len_2=nx.astar_path_length(G_all_roads, start_sample[i],sample_nodes[j], heuristic=dist, weight='length')\n",
    "        end=time.time()\n",
    "        important_list.append([start_sample[i],sample_nodes[j],len_2/len_1,len_2,len_1,end-start])"
   ]
  },
  {
   "cell_type": "code",
   "execution_count": 9,
   "metadata": {},
   "outputs": [
    {
     "data": {
      "text/plain": [
       "495"
      ]
     },
     "execution_count": 9,
     "metadata": {},
     "output_type": "execute_result"
    }
   ],
   "source": [
    "len(important_list)"
   ]
  },
  {
   "cell_type": "markdown",
   "metadata": {},
   "source": [
    "The factor over all testsed difference between nodes is 1.206"
   ]
  },
  {
   "cell_type": "code",
   "execution_count": 11,
   "metadata": {},
   "outputs": [],
   "source": [
    "edgelist=list(G_all_roads.edges)"
   ]
  },
  {
   "cell_type": "markdown",
   "metadata": {},
   "source": [
    "# Lineare Regression für das Schätzen der distance Matrix"
   ]
  },
  {
   "cell_type": "code",
   "execution_count": 8,
   "metadata": {},
   "outputs": [],
   "source": [
    "factorlist=[]##y\n",
    "lengthlist=[]##x\n",
    "midpoint_2=11280000+(16000000-11280000)/2\n",
    "for item in important_list:\n",
    "    if(item[4]>1300000 and item[4]<midpoint_2):\n",
    "    #if(item[4]>4000000 and item[4]<16000000):\n",
    "        factorlist.append(item[2])\n",
    "        lengthlist.append(item[4])\n",
    "factorarray=np.zeros(len(factorlist))\n",
    "lengtharray=np.zeros(len(lengthlist))\n",
    "for i in range(len(lengthlist)):\n",
    "    lengtharray[i]=lengthlist[i]\n",
    "    factorarray[i]=factorlist[i]\n",
    "lengtharray=lengtharray.reshape(-1, 1)"
   ]
  },
  {
   "cell_type": "code",
   "execution_count": 9,
   "metadata": {},
   "outputs": [
    {
     "data": {
      "text/plain": [
       "numpy.float64"
      ]
     },
     "execution_count": 9,
     "metadata": {},
     "output_type": "execute_result"
    }
   ],
   "source": [
    "model_13 = LinearRegression()\n",
    "model_13.fit(lengtharray, factorarray)\n",
    "model_13.coef_\n",
    "type(model_13.intercept_)"
   ]
  },
  {
   "cell_type": "markdown",
   "metadata": {},
   "source": [
    "## Use that heuristic for creating a distance Matrix"
   ]
  },
  {
   "cell_type": "code",
   "execution_count": 12,
   "metadata": {},
   "outputs": [],
   "source": [
    "random.seed(523324)\n",
    "sample_edges=random.sample(edgelist,20)\n",
    "#start_sample=random.sample(sample_nodes,5)\n",
    "distanc_matrix_classic=np.zeros((20,20))\n",
    "distanc_matrix_13=np.zeros((20,20))\n",
    "distanc_matrix_40=np.zeros((20,20))"
   ]
  },
  {
   "cell_type": "code",
   "execution_count": 13,
   "metadata": {},
   "outputs": [],
   "source": [
    "def give_fact_of_length_13(euc_dist):\n",
    "    if(euc_dist<1300000):\n",
    "        return 1.37\n",
    "    elif(euc_dist<midpoint_2):\n",
    "        return model_13.intercept_+ euc_dist*model_13.coef_\n",
    "    else:\n",
    "        return 1.177"
   ]
  },
  {
   "cell_type": "code",
   "execution_count": 19,
   "metadata": {},
   "outputs": [
    {
     "data": {
      "text/plain": [
       "[('9956186', '6811037'),\n",
       " ('5437693', '5261371'),\n",
       " ('7629207', '9383530'),\n",
       " ('8775519', '8775562'),\n",
       " ('7462207', '9144174'),\n",
       " ('9120528', '9076722'),\n",
       " ('9423094', '9394739'),\n",
       " ('8897373', '8868558'),\n",
       " ('9118956', '9410235'),\n",
       " ('7510353', '7510354'),\n",
       " ('8510754', '6996316'),\n",
       " ('5210312', '5195970'),\n",
       " ('9188064', '9169632'),\n",
       " ('5279368', '5279369'),\n",
       " ('7261849', '7717623'),\n",
       " ('7368360', '7220033'),\n",
       " ('8773900', '7269980'),\n",
       " ('6346392', '10231793'),\n",
       " ('12465358', '12461426'),\n",
       " ('7051155', '7394251')]"
      ]
     },
     "execution_count": 19,
     "metadata": {},
     "output_type": "execute_result"
    }
   ],
   "source": [
    "sample_edges"
   ]
  },
  {
   "cell_type": "code",
   "execution_count": 14,
   "metadata": {},
   "outputs": [
    {
     "name": "stdout",
     "output_type": "stream",
     "text": [
      "0.0643155574798584\n"
     ]
    }
   ],
   "source": [
    "## With Heuristic long way from 13km:\n",
    "start=time.time()\n",
    "for i in range(20):\n",
    "    for j in range(20):\n",
    "        euc_dist=dist(sample_edges[i][0],sample_edges[j][0])\n",
    "        if(euc_dist<1300000):\n",
    "            distanc_matrix_13[i][j]=nx.astar_path_length(G_all_roads,sample_edges[i][0],sample_edges[j][0],heuristic=dist,weight='length')\n",
    "            \n",
    "        else:\n",
    "            distanc_matrix_13[i][j]=euc_dist*give_fact_of_length_13(euc_dist)\n",
    "end=time.time()\n",
    "time_13=end-start\n",
    "print(end-start)"
   ]
  },
  {
   "cell_type": "markdown",
   "metadata": {},
   "source": [
    "for a 500 time 500 Matrix instead of a 20 times time Matrix, we need approx the (500/20)*(500/20)=25*25=625 amount of calculation time then in the current situation\n",
    "\n",
    "that would lead, that we would need with the 13 heuristic 0.065*625 approx 40s of computation time\n",
    "\n",
    "with the 40 heuristic, we would need 2.2*625 approx 1375s,=22min+55s\n",
    "\n",
    "with the classic way, we would ne 295*625 approx 107675s=29,9h =29h+54min"
   ]
  },
  {
   "cell_type": "markdown",
   "metadata": {},
   "source": [
    "## Arbeiten mit den Längen"
   ]
  },
  {
   "cell_type": "code",
   "execution_count": null,
   "metadata": {},
   "outputs": [],
   "source": [
    "(nx.astar_path_length(G_all_roads, sample_edges[0][0], sample_edges[1][0], heuristic=dist, weight='time'))"
   ]
  },
  {
   "cell_type": "code",
   "execution_count": 15,
   "metadata": {},
   "outputs": [],
   "source": [
    "def tdist_60(a,b):##Heuristic für Durschnittsgeschwindigkeit von 60km/h\n",
    "    return dist(a,b)/(60/36)"
   ]
  },
  {
   "cell_type": "markdown",
   "metadata": {},
   "source": [
    "## Erstellen von Touren mit Neighrest Neighbors Approach\n",
    "\n",
    "Idea, always choose the nearest neighbor of the current point to achieve the next point on the subtour,\n",
    "if the subtour is longer then a specific length (or time), abort the subtour and go back to the depot"
   ]
  },
  {
   "cell_type": "code",
   "execution_count": 42,
   "metadata": {},
   "outputs": [],
   "source": [
    "##Try the tour first with a 20*20 Distance Matrix\n",
    "\n",
    "##Station left:\n",
    "stations_left=list(range(1,20))\n",
    "## Abruchkriterium mit maximal 500km per Tour\n",
    "tourlist=[] #Listen von allen Subtouren, welche derzeitig bestehen\n",
    "last_station=0#letzte Station, wird in der Iteration häufig benutzt werden\n",
    "curr_tour=[]\n",
    "while(len(stations_left)>0):#\n",
    "    #print(\"in while\")\n",
    "    if(curr_tour==[]):#Beginn beim Depot\n",
    "        min_Distanz=1000000000000#some big Number\n",
    "        next_station=32 ##Out auf Bound, falls es nicht funktion\n",
    "        for station in stations_left:##Kleinste Station herausgefunden, add it to function\n",
    "            if(distanc_matrix_13[last_station][station]<min_Distanz):\n",
    "                next_station=station\n",
    "                min_Distanz=distanc_matrix_13[last_station][station]\n",
    "        curr_tour.append([next_station])\n",
    "        curr_tour.append(min_Distanz)\n",
    "        last_station=next_station\n",
    "        stations_left.remove(next_station)\n",
    "    else:\n",
    "        min_Distanz=1000000000000#some big Number\n",
    "        next_station=32 ##Out auf Bound, falls es nicht funktion\n",
    "        no_valid_Station=True#Check später in der Iteration, ob man Überhaupt noch eine Tour hinzufügen kann\n",
    "        for station in stations_left:##Kleinste Station herausgefunden, add it to function\n",
    "            this_station_is_valid=False#Check ob aktuell zu überprüfende Station gemäß des Abbruchkriterium valide ist\n",
    "            #print(curr_tour)\n",
    "            if(curr_tour[1]+distanc_matrix_13[last_station][station]+distanc_matrix_13[station][0]<50000000):\n",
    "                this_station_is_valid=True\n",
    "                no_valid_Station=False\n",
    "            if(distanc_matrix_13[last_station][station]<min_Distanz and this_station_is_valid):\n",
    "                next_station=station\n",
    "                min_Distanz=distanc_matrix_13[last_station][station]\n",
    "        if(no_valid_Station):##Es gibt keine Station mehr, die wir der Tour hinzufügen können\n",
    "            curr_tour[1]+=distanc_matrix_13[last_station][0]#Distanz von Endstation zu Depot muss noch hinzugefügt werden\n",
    "            tourlist.append(curr_tour)\n",
    "            last_station=0\n",
    "            curr_tour=[]\n",
    "            \n",
    "        else:#Es wird eine Station hinzugefügt\n",
    "            curr_tour[0].append(next_station)\n",
    "            curr_tour[1]+=min_Distanz\n",
    "            last_station=next_station\n",
    "            #print(next_station)\n",
    "            stations_left.remove(next_station)"
   ]
  },
  {
   "cell_type": "code",
   "execution_count": 43,
   "metadata": {},
   "outputs": [
    {
     "data": {
      "text/plain": [
       "[[[18, 17, 19, 15, 7, 5, 4, 14, 6, 8], 49551443.16280386],\n",
       " [[1, 13, 11], 44386912.81701267],\n",
       " [[3, 10, 16], 44407243.56600118],\n",
       " [[9, 12], 47832146.897616476]]"
      ]
     },
     "execution_count": 43,
     "metadata": {},
     "output_type": "execute_result"
    }
   ],
   "source": [
    "tourlist"
   ]
  },
  {
   "cell_type": "markdown",
   "metadata": {},
   "source": [
    "## Touren mit Nearest Neighbor mit Zeitlimit"
   ]
  },
  {
   "cell_type": "code",
   "execution_count": 29,
   "metadata": {},
   "outputs": [],
   "source": [
    "time_matrix=np.zeros((20,20))"
   ]
  },
  {
   "cell_type": "code",
   "execution_count": 91,
   "metadata": {},
   "outputs": [],
   "source": [
    "def search_tour_with_time_limt(distance_matrix,timelimit=9,size=20,time_matrix=np.zeros((20,20)),sample_edges=sample_edges):\n",
    "#def search_tour_with_time_limt(distance_matrix,timelimit=9,size=20,time_matrix,sample_edges):\n",
    "    stations_left=list(range(1,size))\n",
    "## Abruchkriterium mit maximal timelimit per Tour\n",
    "    tourlist=[] #Listen von allen Subtouren, welche derzeitig bestehen\n",
    "    last_station=0#letzte Station, wird in der Iteration häufig benutzt werden\n",
    "    curr_tour=[]\n",
    "    while(len(stations_left)>0):#\n",
    "    #print(\"in while\")\n",
    "        if(curr_tour==[]):#Beginn beim Depot\n",
    "            #print(\"wieder hier\")\n",
    "            min_Distanz=1000000000000#some big Number\n",
    "            next_station=32 ##Out auf Bound, falls es nicht funktion\n",
    "            for station in stations_left:##Kleinste Station herausgefunden, add it to function\n",
    "                if(distance_matrix[last_station][station]<min_Distanz):\n",
    "                    next_station=station\n",
    "                    min_Distanz=distance_matrix[last_station][station]\n",
    "            #print(next_station)\n",
    "            ##Station ist klar, jetzt kann die Zeit zur nächsten Station berechnet werden\n",
    "            add_time=0\n",
    "            if(time_matrix[last_station][next_station]>0):\n",
    "                add_time=time_matrix[last_station][next_station]\n",
    "            else:\n",
    "                time_matrix[last_station][next_station]=nx.astar_path_length(G_all_roads,sample_edges[last_station][0],sample_edges[next_station][0],heuristic=tdist_60,weight='time')/(3600*1000)\n",
    "                add_time=time_matrix[last_station][next_station]\n",
    "            curr_tour.append([next_station])\n",
    "            curr_tour.append(min_Distanz)\n",
    "            curr_tour.append(add_time)\n",
    "            last_station=next_station\n",
    "            stations_left.remove(next_station)\n",
    "            #print(curr_tour,stations_left)\n",
    "        else:\n",
    "            min_Distanz=1000000000000#some big Number\n",
    "            next_station=32 ##Out auf Bound, falls es nicht funktion\n",
    "            no_valid_Station=True#Check später in der Iteration, ob man Überhaupt noch eine Tour hinzufügen kann\n",
    "            stations_for_this_station=stations_left.copy()\n",
    "            \n",
    "            counter=0\n",
    "            no_more_valid_points=True\n",
    "            #while((counter<5 or counter<len(stations_for_this_station)) and len(stations_for_this_station)>0):#Es reicht die ersten fünf zu überprüfen, sehr unwahrscheinlich, dass eine Strecke, mit längerer Entfernung eine kürzere Zeit in Anspruch nimmt\n",
    "            while(counter<5 and len(stations_for_this_station)>counter):\n",
    "            #while(counter==0):\n",
    "                min_Distanz=1000000000000\n",
    "                for station in stations_for_this_station:##Kleinste Station herausgefunden, add it to function\n",
    "                    #this_station_is_valid=False#Check ob aktuell zu überprüfende Station gemäß des Abbruchkriterium valide ist\n",
    "            #print(curr_tour)\n",
    "                    if(distance_matrix[last_station][station]<min_Distanz):\n",
    "                        next_station=station\n",
    "                        min_Distanz=distance_matrix[last_station][station]\n",
    "                add_time=0\n",
    "                if(time_matrix[last_station][next_station]>0):\n",
    "                    add_time=time_matrix[last_station][next_station]\n",
    "                else:\n",
    "                    time_matrix[last_station][next_station]=nx.astar_path_length(G_all_roads,sample_edges[last_station][0],sample_edges[next_station][0],heuristic=tdist_60,weight='time')/(3600*1000)\n",
    "                    add_time=time_matrix[last_station][next_station]\n",
    "                back_to_depot_time=0\n",
    "                if(time_matrix[next_station][0]>0):\n",
    "                    back_to_depot_time=time_matrix[next_station][0]\n",
    "                else:\n",
    "                    time_matrix[next_station][0]=nx.astar_path_length(G_all_roads,sample_edges[next_station][0],sample_edges[0][0],heuristic=tdist_60,weight='time')/(3600*1000)\n",
    "                    back_to_depot_time=time_matrix[next_station][0]\n",
    "                if(curr_tour[2]+add_time+back_to_depot_time<timelimit):#Ausgewählte station is valide\n",
    "                    ##Hinzufügen der Station zur Tour\n",
    "                    curr_tour[0].append(next_station)\n",
    "                    curr_tour[1]+=min_Distanz\n",
    "                    curr_tour[2]+=add_time\n",
    "                    #print(curr_tour)\n",
    "                    stations_left.remove(next_station)\n",
    "                    last_station=next_station\n",
    "                    no_more_valid_points=False\n",
    "                    if(len(stations_left)==0):##Tour muss hinzugefügt werden, Programm geht in oberste while Schleife, weil len==0 Bedingung nicht erfüllt-> Tour würde nicht hinzugefügt werden\n",
    "                        curr_tour[1]+=distance_matrix[next_station][0]\n",
    "                        curr_tour[2]+=back_to_depot_time\n",
    "                        tourlist.append(curr_tour)\n",
    "                    break\n",
    "                else:\n",
    "                    counter+=1\n",
    "                    #print(next_station,stations_for_this_station,counter)\n",
    "                    stations_for_this_station.remove(next_station)#im Nächsten Versuch der While Schleife soll natürlich diese Station nicht mehr abgefragt werden\n",
    "            if(no_more_valid_points):#->Es wurde keine weitere Station gefunden, welche das Kriterium erfüllt, zurück zum Depot\n",
    "                back_to_depot_time\n",
    "                if(time_matrix[last_station][0]>0):\n",
    "                    back_to_depot_time=time_matrix[last_station][0]\n",
    "                else:\n",
    "                    time_matrix[last_station][0]=nx.astar_path_length(G_all_roads,sample_edges[last_station][0],sample_edges[0][0],heuristic=tdist_60,weight='time')/(3600*1000)\n",
    "                    back_to_depot_time=time_matrix[last_station][0]\n",
    "                curr_tour[1]+=distance_matrix[last_station][0]\n",
    "                curr_tour[2]+=back_to_depot_time\n",
    "                tourlist.append(curr_tour)\n",
    "                curr_tour=[]\n",
    "                last_station=0\n",
    "    return tourlist"
   ]
  },
  {
   "cell_type": "code",
   "execution_count": 92,
   "metadata": {},
   "outputs": [
    {
     "data": {
      "text/plain": [
       "[[[18, 17, 19, 15, 7, 5, 4, 14, 6], 44761994.71224299, 8.663843873783975],\n",
       " [[8, 1, 13, 11], 45292093.475845724, 8.658722748129973],\n",
       " [[3, 10, 16, 2], 54713613.95026906, 8.165486374983836],\n",
       " [[9, 12], 47832146.897616476, 7.313923330793774]]"
      ]
     },
     "execution_count": 92,
     "metadata": {},
     "output_type": "execute_result"
    }
   ],
   "source": [
    "search_tour_with_time_limt(distanc_matrix_13,9,20,time_matrix)"
   ]
  },
  {
   "cell_type": "code",
   "execution_count": null,
   "metadata": {},
   "outputs": [],
   "source": [
    "## Measure the Runtime of this algorithm"
   ]
  },
  {
   "cell_type": "code",
   "execution_count": 96,
   "metadata": {},
   "outputs": [],
   "source": [
    "time_matrix=np.zeros((20,20))"
   ]
  },
  {
   "cell_type": "code",
   "execution_count": 97,
   "metadata": {},
   "outputs": [
    {
     "name": "stdout",
     "output_type": "stream",
     "text": [
      "22.66212511062622\n"
     ]
    }
   ],
   "source": [
    "begin=time.time()\n",
    "search_tour_with_time_limt(distanc_matrix_13,9,20,time_matrix)\n",
    "end=time.time()\n",
    "print(end-begin)"
   ]
  },
  {
   "cell_type": "code",
   "execution_count": 98,
   "metadata": {},
   "outputs": [
    {
     "name": "stdout",
     "output_type": "stream",
     "text": [
      "0.0004775524139404297\n"
     ]
    }
   ],
   "source": [
    "##Runtime, when time Distance Matrix is already meassured:\n",
    "begin=time.time()\n",
    "search_tour_with_time_limt(distanc_matrix_13,9,20,time_matrix)\n",
    "end=time.time()\n",
    "print(end-begin)"
   ]
  },
  {
   "cell_type": "markdown",
   "metadata": {},
   "source": [
    "## Compare that Runtime with the Runtime, from the other algorithm"
   ]
  },
  {
   "cell_type": "markdown",
   "metadata": {},
   "source": [
    "### Erstelle ein Liste von Subtouren und hänge die entsprechenden Zeiten an, die pro Tour benötigt werden"
   ]
  },
  {
   "cell_type": "code",
   "execution_count": null,
   "metadata": {},
   "outputs": [],
   "source": [
    "##You have to measure the time from the Starttours in the beginn too, so add this"
   ]
  },
  {
   "cell_type": "code",
   "execution_count": 100,
   "metadata": {},
   "outputs": [
    {
     "name": "stdout",
     "output_type": "stream",
     "text": [
      "32.947712421417236\n"
     ]
    }
   ],
   "source": [
    "begin=time.time()\n",
    "tourlist_with_times=[]\n",
    "for i in range(1,20):##Es soll jeweils eine Liste mit den entsprechenden Zeiten für die Tour erstellt werden\n",
    "    ##Die Liste besteht aus einer Liste mit Anfahrtsknoten, und einer Liste von Zeiten, die Liste von Zeiten\n",
    "    ##soll aus drei Elementen bestehen, der \n",
    "    times=[nx.astar_path_length(G_all_roads,sample_edges[0][0],sample_edges[i][0],heuristic=tdist_60,weight='time')/(3600*1000),0,\n",
    "          nx.astar_path_length(G_all_roads,sample_edges[i][0],sample_edges[0][0],heuristic=tdist_60,weight='time')/(3600*1000)]\n",
    "    #tour_with_time=[[i],times,distanc_matrix_13[0][i]/100000]\n",
    "    tour_with_time=[[i],times]\n",
    "    tourlist_with_times.append(tour_with_time)\n",
    "end=time.time()\n",
    "print(end-begin)\n",
    "#print(tourlist_with_times)"
   ]
  },
  {
   "cell_type": "code",
   "execution_count": 101,
   "metadata": {},
   "outputs": [],
   "source": [
    "##Combine tour i and j in tour to tour [i,j]\n",
    "def combine_with_time(i,j):\n",
    "    last_stop_tour_i=tourlist_with_times[i][0][-1]\n",
    "    first_stop_tour_j=tourlist_with_times[j][0][0]\n",
    "    tourlist_with_times[i][0]+=tourlist_with_times[j][0]\n",
    "    tourlist_with_times[i][1][1]+=nx.astar_path_length(G_all_roads, sample_edges[last_stop_tour_i][0], sample_edges[first_stop_tour_j][0], heuristic=tdist_60, weight='time')/(3600*1000)\n",
    "    tourlist_with_times[i][1][1]+=tourlist_with_times[j][1][1]\n",
    "    tourlist_with_times[i][1][2]=tourlist_with_times[j][1][2]\n",
    "    tourlist_with_times.remove(tourlist_with_times[j])"
   ]
  },
  {
   "cell_type": "code",
   "execution_count": 102,
   "metadata": {},
   "outputs": [],
   "source": [
    "def length_of_all_tours(tourlist,distance_matrix):\n",
    "    length=0\n",
    "    for tour in tourlist:\n",
    "        length_tour=0\n",
    "        length_tour+=distance_matrix[0][tour[0][0]]\n",
    "        for i in range(1,len(tour[0])):#Len of tour[0] because in tour[0] is the list with all the stations of the subtour\n",
    "            #print(len(tour))\n",
    "            #print(i)\n",
    "            length_tour+=distance_matrix[tour[0][i-1]][tour[0][i]]\n",
    "        length_tour+=distance_matrix[tour[0][-1]][0]\n",
    "        length+=length_tour\n",
    "    return length"
   ]
  },
  {
   "cell_type": "code",
   "execution_count": 104,
   "metadata": {},
   "outputs": [],
   "source": [
    "def search_short_tour_timelimit_depot_to_depot(tourlist,distance_matrix,timelimit):\n",
    "    #start_value=length_of_all_tours(tourlist,distance_matrix)\n",
    "    maxdiff=0\n",
    "    combinetour_1=-1\n",
    "    combinetour_2=-1\n",
    "    for i in range(0,len(tourlist)):    \n",
    "        for j in range(0,i):\n",
    "            curr_diff=distance_matrix[tourlist[i][0][-1]][0]+distance_matrix[0][tourlist[j][0][0]]-distance_matrix[tourlist[i][0][-1]][tourlist[j][0][0]]\n",
    "        #Der Einzusparende Weg beschreibt sich durch Endpunkt i zu Depot, Depot zu Begin j - Endpunkt i Startpunkt j\n",
    "            if(curr_diff>maxdiff):#Wenn der gesparte Weg maximal ist, save Change Option 1 und 2\n",
    "                #Überprüfe erst hier auf das Zeitlimit, da es nur im Fall curr_diff>maxdiff benötigt wird\n",
    "                #und einiges an Rechnenzeit benötigt\n",
    "                #Überprüfe, ob dies Schonmal berechnet wurde\n",
    "                combine_time=0\n",
    "                if(time_matrix[tourlist[i][0][-1]][tourlist[j][0][0]]>0):\n",
    "                    combine_time=time_matrix[tourlist[i][0][-1]][tourlist[j][0][0]]\n",
    "                else:\n",
    "                    combine_time=nx.astar_path_length(G_all_roads, sample_edges[tourlist[i][0][-1]][0], sample_edges[tourlist[j][0][0]][0], heuristic=tdist_60, weight='time')/(3600*1000)\n",
    "                    time_matrix[tourlist[i][0][-1]][tourlist[j][0][0]]=combine_time\n",
    "                if(combine_time+tourlist[i][1][1]+tourlist[j][1][1]+tourlist[i][1][0]+tourlist[j][1][2]<timelimit):\n",
    "                    #tourlist[i][1][0] Zeit vom Depot zum Start von Tour i\n",
    "                    #tourlist[j][1][2] Zeit vom Ende der Tour j zum Depot\n",
    "                    maxdiff=curr_diff\n",
    "                    combinetour_1=i\n",
    "                    combinetour_2=j\n",
    "        for j in range(i+1,len(tourlist)):\n",
    "            curr_diff=distance_matrix[tourlist[i][0][-1]][0]+distance_matrix[0][tourlist[j][0][0]]-distance_matrix[tourlist[i][0][-1]][tourlist[j][0][0]]\n",
    "            if(curr_diff>maxdiff):#Wenn der gesparte Weg maximal ist, save Change Option 1 und 2\n",
    "                combine_time=0\n",
    "                if(time_matrix[tourlist[i][0][-1]][tourlist[j][0][0]]>0):\n",
    "                    combine_time=time_matrix[tourlist[i][0][-1]][tourlist[j][0][0]]\n",
    "                else:\n",
    "                    combine_time=nx.astar_path_length(G_all_roads, sample_edges[tourlist[i][0][-1]][0], sample_edges[tourlist[j][0][0]][0], heuristic=tdist_60, weight='time')/(3600*1000)\n",
    "                    time_matrix[tourlist[i][0][-1]][tourlist[j][0][0]]=combine_time\n",
    "                if(combine_time+tourlist[i][1][1]+tourlist[j][1][1]+tourlist[i][1][0]+tourlist[j][1][2]<timelimit):\n",
    "                    maxdiff=curr_diff\n",
    "                    combinetour_1=i\n",
    "                    combinetour_2=j\n",
    "    return(combinetour_1,combinetour_2)"
   ]
  },
  {
   "cell_type": "code",
   "execution_count": 106,
   "metadata": {},
   "outputs": [],
   "source": [
    "time_matrix=np.zeros((20,20))"
   ]
  },
  {
   "cell_type": "code",
   "execution_count": 108,
   "metadata": {},
   "outputs": [
    {
     "name": "stdout",
     "output_type": "stream",
     "text": [
      "-35.69537949562073\n"
     ]
    }
   ],
   "source": [
    "begin=time.time()\n",
    "still_time_reserve=True\n",
    "while(len(tourlist_with_times)>3 and still_time_reserve):\n",
    "    i_j=search_short_tour_timelimit_depot_to_depot(tourlist_with_times,distanc_matrix_13,9)\n",
    "    if(i_j==[-1,-1]):\n",
    "        still_time_reserve=False\n",
    "    else:\n",
    "        combine_with_time(i_j[0],i_j[1])\n",
    "end=time.time()\n",
    "print(begin-end)"
   ]
  },
  {
   "cell_type": "code",
   "execution_count": 109,
   "metadata": {},
   "outputs": [
    {
     "data": {
      "text/plain": [
       "[[[4, 6, 11, 13, 1, 8],\n",
       "  [2.2795813525062543, 3.800682443054232, 2.758713487230837]],\n",
       " [[9, 12, 2, 16, 3],\n",
       "  [3.4812060193688974, 3.1860393447208244, 2.294164324312118]],\n",
       " [[14, 5, 7, 10, 15],\n",
       "  [2.501352756404942, 4.48766806986368, 1.915878668536517]]]"
      ]
     },
     "execution_count": 109,
     "metadata": {},
     "output_type": "execute_result"
    }
   ],
   "source": [
    "tourlist_with_times"
   ]
  },
  {
   "cell_type": "code",
   "execution_count": null,
   "metadata": {},
   "outputs": [],
   "source": [
    "##35+35 seconds adds up 70s vs 20s in the other case\n",
    "##here you have to check every combination of two subtours, in the other one you just go throw one element at each"
   ]
  },
  {
   "cell_type": "code",
   "execution_count": 133,
   "metadata": {},
   "outputs": [],
   "source": [
    "tourlist_with_times=[]\n",
    "for i in range(1,20):##Es soll jeweils eine Liste mit den entsprechenden Zeiten für die Tour erstellt werden\n",
    "    ##Die Liste besteht aus einer Liste mit Anfahrtsknoten, und einer Liste von Zeiten, die Liste von Zeiten\n",
    "    ##soll aus drei Elementen bestehen, der \n",
    "    times=[nx.astar_path_length(G_all_roads,sample_edges[0][0],sample_edges[i][0],heuristic=tdist_60,weight='time')/(3600*1000),0,\n",
    "          nx.astar_path_length(G_all_roads,sample_edges[i][0],sample_edges[0][0],heuristic=tdist_60,weight='time')/(3600*1000)]\n",
    "    #tour_with_time=[[i],times,distanc_matrix_13[0][i]/100000]\n",
    "    tour_with_time=[[i],times]\n",
    "    tourlist_with_times.append(tour_with_time)"
   ]
  },
  {
   "cell_type": "code",
   "execution_count": 134,
   "metadata": {},
   "outputs": [],
   "source": [
    "still_time_reserve=True\n",
    "while(len(tourlist_with_times)>3 and still_time_reserve):\n",
    "    i_j=search_short_tour_timelimit_depot_to_depot(tourlist_with_times,distanc_matrix_13,9)\n",
    "    if(i_j==[-1,-1]):\n",
    "        still_time_reserve=False\n",
    "    else:\n",
    "        combine_with_time(i_j[0],i_j[1])"
   ]
  },
  {
   "cell_type": "code",
   "execution_count": 135,
   "metadata": {},
   "outputs": [
    {
     "data": {
      "text/plain": [
       "[[[1, 8, 5, 7], [3.34899294281731, 2.6585437580759828, 2.4050088283061126]],\n",
       " [[2], [4.962907552922863, 0, 4.7785322619087625]],\n",
       " [[4, 6, 11, 13, 14],\n",
       "  [2.7642788094580806, 3.455875525281443, 2.7691209210833674]]]"
      ]
     },
     "execution_count": 135,
     "metadata": {},
     "output_type": "execute_result"
    }
   ],
   "source": [
    "tourlist_with_times"
   ]
  },
  {
   "cell_type": "code",
   "execution_count": 136,
   "metadata": {},
   "outputs": [
    {
     "data": {
      "text/plain": [
       "array([[0.        , 0.        , 0.        , 0.        , 0.        ,\n",
       "        0.        , 0.        , 0.        , 0.        , 0.        ,\n",
       "        0.        , 0.        , 0.        , 0.        , 0.        ,\n",
       "        0.        , 0.        , 0.        , 0.        , 0.        ],\n",
       "       [0.        , 0.        , 4.15070669, 3.70958939, 1.75807098,\n",
       "        2.32781927, 1.74169241, 2.46182065, 0.50460645, 3.18843967,\n",
       "        4.37831302, 1.46303946, 3.2148899 , 1.44158234, 1.28833541,\n",
       "        3.11345857, 4.06796045, 3.67390408, 3.49336503, 3.68341911],\n",
       "       [0.        , 4.01125812, 0.        , 1.69935419, 2.70680892,\n",
       "        2.52496766, 2.38722331, 2.62543023, 3.59184571, 1.22977073,\n",
       "        1.85265387, 2.66322312, 1.28208917, 2.91197576, 2.92426189,\n",
       "        2.59157041, 1.24963091, 4.68569064, 4.72100056, 3.30904488],\n",
       "       [0.        , 3.91484886, 1.72770547, 0.        , 2.2112366 ,\n",
       "        1.58923009, 2.25361649, 1.52328832, 3.40824148, 1.93000378,\n",
       "        0.55619746, 2.36611147, 2.04554238, 2.6018397 , 2.65410308,\n",
       "        0.80111579, 0.64818537, 2.12439193, 1.97398068, 1.25895072],\n",
       "       [0.        , 1.73181118, 2.79171399, 2.1903124 , 0.        ,\n",
       "        0.82170743, 0.45753031, 1.07097718, 1.278009  , 2.02760439,\n",
       "        2.70609145, 1.35293769, 2.18736094, 1.67021493, 0.50527874,\n",
       "        1.82513361, 2.38410006, 2.65814917, 2.74510295, 2.19597944],\n",
       "       [0.        , 2.23138835, 2.568816  , 1.48791598, 0.84520934,\n",
       "        0.        , 1.15272252, 0.26325203, 1.77758617, 2.08143415,\n",
       "        2.04297083, 2.02593985, 2.27884147, 2.34321709, 1.24003482,\n",
       "        1.02060168, 1.76825303, 2.28317185, 2.54225214, 1.57644983],\n",
       "       [0.        , 1.72765465, 2.49896161, 2.1566129 , 0.43492418,\n",
       "        1.16008108, 0.        , 1.42932609, 1.36427979, 1.60510023,\n",
       "        2.78923524, 1.02078736, 1.78633916, 1.36346868, 0.65099365,\n",
       "        2.17887761, 2.34472683, 3.09199052, 3.18195341, 2.71973821],\n",
       "       [0.        , 2.57416976, 2.65092025, 1.49277031, 1.10860236,\n",
       "        0.26519817, 1.41611554, 0.        , 2.01289899, 2.34482717,\n",
       "        2.07899151, 2.28933287, 2.54223449, 2.60661011, 1.48913531,\n",
       "        0.82594222, 1.84516098, 2.1220902 , 2.40095575, 1.38179037],\n",
       "       [0.        , 0.51199487, 3.90646257, 3.44741698, 1.368965  ,\n",
       "        1.89068527, 1.41019924, 2.0168561 , 0.        , 3.02511047,\n",
       "        3.96319604, 1.5780826 , 3.18656741, 1.66038694, 0.93457689,\n",
       "        2.66849402, 3.64878075, 3.13083473, 3.17136254, 3.2346817 ],\n",
       "       [0.        , 3.21381394, 1.16819993, 1.92162354, 1.9556325 ,\n",
       "        2.10909502, 1.67855227, 2.33726456, 2.97048739, 0.        ,\n",
       "        2.25857816, 1.24768426, 0.26247828, 1.85436669, 2.25455904,\n",
       "        2.68983485, 1.69619255, 4.04172041, 4.48141421, 3.46984464],\n",
       "       [0.        , 4.38760395, 1.771167  , 0.52778433, 2.68399169,\n",
       "        2.10094893, 2.81780265, 1.95430787, 3.94305919, 2.28633899,\n",
       "        0.        , 2.62484539, 2.42343432, 3.29606446, 3.10879006,\n",
       "        1.57870653, 0.70103758, 3.02571919, 3.4624903 , 1.92224007],\n",
       "       [0.        , 1.37235825, 2.65465853, 2.94813242, 1.33975518,\n",
       "        2.11835548, 1.02535193, 2.38760049, 1.58453215, 1.728048  ,\n",
       "        3.46830792, 0.        , 1.71237037, 0.41403588, 1.24833116,\n",
       "        2.99434353, 2.72636708, 4.10213651, 4.13523648, 3.67801262],\n",
       "       [0.        , 3.23665696, 1.30776973, 2.37446628, 2.18627871,\n",
       "        2.09376127, 1.88763497, 2.56924879, 3.07287263, 0.26259801,\n",
       "        2.39267163, 1.39313299, 0.        , 1.85427494, 2.41060623,\n",
       "        2.78739385, 1.83133448, 4.5402451 , 4.81776914, 3.56175831],\n",
       "       [0.        , 1.44490635, 2.4998274 , 3.25861571, 1.70170328,\n",
       "        2.37744407, 1.33443529, 2.64668908, 1.6129593 , 1.71848673,\n",
       "        2.58856615, 0.39927334, 1.56551228, 0.        , 1.56352197,\n",
       "        3.30976926, 3.02604917, 4.43394378, 4.40002455, 3.9371012 ],\n",
       "       [0.        , 1.27854561, 3.04216354, 2.45017438, 0.49935618,\n",
       "        1.2395938 , 0.72459397, 1.45948285, 0.90279039, 2.28967695,\n",
       "        3.118898  , 1.24204575, 2.47091587, 1.5584841 , 0.        ,\n",
       "        2.21959722, 2.69124794, 2.8522088 , 2.97275168, 2.7450098 ],\n",
       "       [0.        , 3.11608213, 2.55424436, 0.9582823 , 1.74853738,\n",
       "        1.032909  , 2.0634379 , 0.8475276 , 2.69029136, 2.62508484,\n",
       "        1.43140589, 2.94179401, 2.7622098 , 3.24304741, 2.02789834,\n",
       "        0.        , 1.51376728, 1.91449871, 2.13293495, 0.80874142],\n",
       "       [0.        , 4.18091854, 1.08629913, 0.70973406, 2.10908831,\n",
       "        1.78898014, 2.52084029, 1.93328012, 3.2757903 , 1.65592719,\n",
       "        0.70912077, 2.56452643, 1.72721289, 2.7723209 , 2.45186691,\n",
       "        1.5881859 , 0.        , 3.29791047, 3.71294785, 2.31835599],\n",
       "       [0.        , 3.67723879, 4.37712922, 2.79080167, 2.61034889,\n",
       "        2.26118298, 3.03827325, 2.13631078, 3.11955758, 4.31781148,\n",
       "        2.96242171, 3.91969786, 4.5152188 , 4.28309815, 2.82042868,\n",
       "        1.85618108, 3.3656834 , 0.        , 0.5685281 , 1.49625148],\n",
       "       [0.        , 3.56454781, 4.83835239, 3.28496101, 2.74903445,\n",
       "        2.50578251, 3.18190143, 2.42939699, 3.39832383, 4.50151058,\n",
       "        2.52762172, 4.0545004 , 4.6989179 , 4.59560557, 2.88028202,\n",
       "        2.27677411, 3.89440303, 0.62728172, 0.        , 2.11315678],\n",
       "       [0.        , 3.62306267, 3.24032551, 1.64291886, 2.19976862,\n",
       "        1.60620854, 2.72785821, 1.40742388, 3.16926048, 3.43264167,\n",
       "        1.87750207, 3.60621432, 3.25206471, 3.90746772, 2.59115062,\n",
       "        0.89756956, 2.21775383, 1.48763258, 2.04319394, 0.        ]])"
      ]
     },
     "execution_count": 136,
     "metadata": {},
     "output_type": "execute_result"
    }
   ],
   "source": [
    "time_matrix"
   ]
  },
  {
   "cell_type": "code",
   "execution_count": 142,
   "metadata": {},
   "outputs": [
    {
     "name": "stdout",
     "output_type": "stream",
     "text": [
      "1.6847103533506445\n",
      "1.2310457229614258\n",
      "2.079828029110536\n",
      "0.023407459259033203\n"
     ]
    }
   ],
   "source": [
    "begin=time.time()\n",
    "print(nx.astar_path_length(G_all_roads,sample_edges[i][0],sample_edges[0][0],weight='time')/(3600*1000))\n",
    "end=time.time()\n",
    "print(end-begin)\n",
    "\n",
    "begin=time.time()\n",
    "print(nx.astar_path_length(G_all_roads,sample_edges[i][0],sample_edges[0][0],heuristic=dist,weight='time')/(3600*1000))\n",
    "end=time.time()\n",
    "print(end-begin)\n",
    "#Gibt eindeutig mit heuristic disc anderes Ergebnis und anderes Rechenzeit aus"
   ]
  },
  {
   "cell_type": "code",
   "execution_count": 143,
   "metadata": {},
   "outputs": [
    {
     "name": "stdout",
     "output_type": "stream",
     "text": [
      "0.3379523754119873\n"
     ]
    }
   ],
   "source": [
    "begin=time.time()\n",
    "nx.astar_path_length(G_all_roads,sample_edges[i][0],sample_edges[0][0],heuristic=dist,weight='length')/(3600*1000)\n",
    "end=time.time()\n",
    "print(end-begin)"
   ]
  },
  {
   "cell_type": "code",
   "execution_count": null,
   "metadata": {},
   "outputs": [],
   "source": [
    "##Alternative heuristic für Astar\n",
    "##gehe von einer Durschnittgeschwindigkeit von 50km/h aus /=3.6 m/s /10 cm/ms"
   ]
  },
  {
   "cell_type": "code",
   "execution_count": 148,
   "metadata": {},
   "outputs": [
    {
     "data": {
      "text/plain": [
       "1.3888888888888888"
      ]
     },
     "execution_count": 148,
     "metadata": {},
     "output_type": "execute_result"
    }
   ],
   "source": [
    "50/36 #50 km/h sind .... cm/ms"
   ]
  },
  {
   "cell_type": "code",
   "execution_count": null,
   "metadata": {},
   "outputs": [],
   "source": [
    "#t=length/spped"
   ]
  },
  {
   "cell_type": "code",
   "execution_count": 149,
   "metadata": {},
   "outputs": [],
   "source": [
    "##Zeitheurist depend on dist\n",
    "def tdist(a,b):\n",
    "    return dist(a,b)/1.3888888888"
   ]
  },
  {
   "cell_type": "code",
   "execution_count": 150,
   "metadata": {},
   "outputs": [
    {
     "name": "stdout",
     "output_type": "stream",
     "text": [
      "1.6851067352513482\n",
      "0.07683610916137695\n"
     ]
    }
   ],
   "source": [
    "begin=time.time()\n",
    "print(nx.astar_path_length(G_all_roads,sample_edges[i][0],sample_edges[0][0],heuristic=tdist,weight='time')/(3600*1000))\n",
    "end=time.time()\n",
    "print(end-begin)"
   ]
  },
  {
   "cell_type": "markdown",
   "metadata": {},
   "source": [
    "### Testen dieser Heuristic"
   ]
  },
  {
   "cell_type": "code",
   "execution_count": 155,
   "metadata": {},
   "outputs": [
    {
     "name": "stdout",
     "output_type": "stream",
     "text": [
      "0.9490989382416681 0.9436876800973975 1.0057341621157037\n",
      "2.223068445884355 2.2043917916559055 1.0084724749471234\n",
      "1.3291678864599106 1.3243601001065635 1.0036302712177452\n",
      "1.6360941916995206 1.6360941916995206 1.0\n",
      "0.683772581913019 0.683772581913019 1.0\n",
      "1.5450730263523835 1.533207277268209 1.0077391682521337\n",
      "3.2097844594007006 3.1666859028795917 1.013609987805206\n",
      "4.157507947592512 4.157507947592512 1.0\n",
      "0.47954670585234377 0.47954670585234377 1.0\n",
      "1.7168920810643966 1.7168920810643966 1.0\n",
      "2.582436206334995 2.582436206334995 1.0\n",
      "3.9785202943624465 3.925480177366893 1.0135117526007051\n",
      "2.03658136275994 2.03658136275994 1.0\n",
      "0.6134470546327615 0.5920288118390397 1.0361777034587043\n",
      "1.568561401524167 1.568561401524167 1.0\n",
      "2.6698197340422465 2.6698197340422465 1.0\n",
      "0.8593326447051705 0.8593326447051705 1.0\n",
      "1.823898559436906 1.823898559436906 1.0\n",
      "1.5253607599558376 1.5253607599558376 1.0\n",
      "2.5340081074719945 2.4912010773728355 1.0171832898146875\n",
      "1.3447373368925142 1.2201485972867023 1.1021094806672445\n",
      "0.6730092306079406 0.6730092306079406 1.0\n",
      "3.4445868367917214 3.2381752563401243 1.0637431775959183\n",
      "2.0861374624537388 1.9979246883311865 1.044152201851129\n",
      "1.7298976987393888 1.7298976987393888 1.0\n",
      "1.979540868779819 1.952100471877313 1.0140568568564081\n",
      "2.70335077468494 2.703305899680452 1.0000166000468143\n",
      "3.197835522508164 2.98468415131996 1.0714150511014504\n",
      "1.2406650613210342 1.2406650613210342 1.0\n",
      "2.7729393355778593 2.7729393355778593 1.0\n",
      "3.199652049154515 3.069643928838896 1.0423528341819095\n",
      "1.5961445891547514 1.5961445891547514 1.0\n",
      "2.748949183007268 2.4767810881923187 1.109887828243065\n",
      "0.9835506882541956 0.9835506882541956 1.0\n",
      "1.8028538198330408 1.5873268991125065 1.1357797948494655\n",
      "1.7045094062949229 1.7037834036696113 1.0004261120420284\n",
      "1.5745803584060627 1.5106402878912355 1.0423264697938672\n",
      "0.8633255591474591 0.8250728805554696 1.046362787450045\n",
      "2.4148544182717346 2.207838881312845 1.0937638786557613\n",
      "0.628383232361979 0.628383232361979 1.0\n",
      "2.818078908514855 2.766947954972896 1.018479188757441\n",
      "2.5865648231167575 2.46537550823195 1.0491565339560458\n",
      "3.459892712725056 3.2080750644714695 1.0784949364316303\n",
      "1.8918838254726387 1.8918838254726387 1.0\n",
      "3.7458442148247015 3.7458442148247015 1.0\n",
      "2.7258941869054705 2.7258941869054705 1.0\n",
      "3.2702133575000825 3.077468904728869 1.0626308368136688\n",
      "0.16728086573919204 0.16728086573919204 1.0\n",
      "3.0767755422618612 3.004680587045978 1.0239942160663282\n",
      "1.702551412608278 1.702551412608278 1.0\n"
     ]
    }
   ],
   "source": [
    "random.seed(42)\n",
    "test_samples_1=random.sample(nodelist,50)\n",
    "test_samples_2=random.sample(nodelist,50)\n",
    "complete_1=np.zeros(50)\n",
    "complete_2=np.zeros(50)\n",
    "compare=np.zeros(50)\n",
    "for i in range(50):\n",
    "    complete_1[i]=nx.astar_path_length(G_all_roads,test_samples_1[i],test_samples_2[i],heuristic=tdist,weight='time')/(3600*1000)\n",
    "    complete_2[i]=nx.astar_path_length(G_all_roads,test_samples_1[i],test_samples_2[i],weight='time')/(3600*1000)\n",
    "    compare[i]=complete_1[i]/complete_2[i]\n",
    "    print(complete_1[i],complete_2[i],compare[i])"
   ]
  },
  {
   "cell_type": "code",
   "execution_count": 157,
   "metadata": {},
   "outputs": [
    {
     "name": "stdout",
     "output_type": "stream",
     "text": [
      "1.1357797948494655\n",
      "1.0221041519114444\n"
     ]
    }
   ],
   "source": [
    "print(max(compare))\n",
    "print(np.mean(compare))\n",
    "#Man erhällt durch die Verwendung von einen Falschen Astar nur eine obere Zeitschranke der Benötigten Zeit von a nach b\n",
    "#Weniger Problematisch als kleinerer Wert, da somit in der Erstellung der Touren gewährleistet werden kann, dass\n",
    "# nicht mehr als die gesetzlich vorgeschriebene Lenkzeit gefahren wird.\n",
    "\n",
    "#versuche es nochmal mit ungenauerer Abschätzung:"
   ]
  },
  {
   "cell_type": "code",
   "execution_count": 158,
   "metadata": {},
   "outputs": [],
   "source": [
    "def tdist_60(a,b):##Heuristic für Durschnittsgeschwindigkeit von 60km/h\n",
    "    return dist(a,b)/(60/36)"
   ]
  },
  {
   "cell_type": "code",
   "execution_count": 159,
   "metadata": {},
   "outputs": [
    {
     "name": "stdout",
     "output_type": "stream",
     "text": [
      "0.9436876800973975 0.9436876800973975 1.0\n",
      "2.2043917916559055 2.2043917916559055 1.0\n",
      "1.3243601001065635 1.3243601001065635 1.0\n",
      "1.6360941916995206 1.6360941916995206 1.0\n",
      "0.683772581913019 0.683772581913019 1.0\n",
      "1.533207277268209 1.533207277268209 1.0\n",
      "3.1666859028795917 3.1666859028795917 1.0\n",
      "4.157507947592512 4.157507947592512 1.0\n",
      "0.47954670585234377 0.47954670585234377 1.0\n",
      "1.7168920810643966 1.7168920810643966 1.0\n",
      "2.582436206334995 2.582436206334995 1.0\n",
      "3.925480177366893 3.925480177366893 1.0\n",
      "2.03658136275994 2.03658136275994 1.0\n",
      "0.5920288118390397 0.5920288118390397 1.0\n",
      "1.568561401524167 1.568561401524167 1.0\n",
      "2.6698197340422465 2.6698197340422465 1.0\n",
      "0.8593326447051705 0.8593326447051705 1.0\n",
      "1.823898559436906 1.823898559436906 1.0\n",
      "1.5253607599558376 1.5253607599558376 1.0\n",
      "2.4912010773728355 2.4912010773728355 1.0\n",
      "1.2201485972867023 1.2201485972867023 1.0\n",
      "0.6730092306079406 0.6730092306079406 1.0\n",
      "3.2381752563401243 3.2381752563401243 1.0\n",
      "1.9979246883311865 1.9979246883311865 1.0\n",
      "1.7298976987393888 1.7298976987393888 1.0\n",
      "1.952100471877313 1.952100471877313 1.0\n",
      "2.703305899680452 2.703305899680452 1.0\n",
      "2.9901692156765853 2.98468415131996 1.0018377369525682\n",
      "1.2406650613210342 1.2406650613210342 1.0\n",
      "2.7729393355778593 2.7729393355778593 1.0\n",
      "3.0884871957399027 3.069643928838896 1.0061385839328063\n",
      "1.5961445891547514 1.5961445891547514 1.0\n",
      "2.5007822184338333 2.4767810881923187 1.009690452804221\n",
      "0.9835506882541956 0.9835506882541956 1.0\n",
      "1.5909462559751304 1.5873268991125065 1.002280158463041\n",
      "1.7037834036696113 1.7037834036696113 1.0\n",
      "1.5106402878912355 1.5106402878912355 1.0\n",
      "0.8250728805554696 0.8250728805554696 1.0\n",
      "2.207838881312845 2.207838881312845 1.0\n",
      "0.628383232361979 0.628383232361979 1.0\n",
      "2.766947954972896 2.766947954972896 1.0\n",
      "2.46537550823195 2.46537550823195 1.0\n",
      "3.2247453374111075 3.2080750644714695 1.0051963475307222\n",
      "1.8918838254726387 1.8918838254726387 1.0\n",
      "3.7458442148247015 3.7458442148247015 1.0\n",
      "2.7258941869054705 2.7258941869054705 1.0\n",
      "3.1409051594616137 3.077468904728869 1.020613126142483\n",
      "0.16728086573919204 0.16728086573919204 1.0\n",
      "3.004680587045978 3.004680587045978 1.0\n",
      "1.702551412608278 1.702551412608278 1.0\n"
     ]
    }
   ],
   "source": [
    "complete_1=np.zeros(50)\n",
    "complete_2=np.zeros(50)\n",
    "compare=np.zeros(50)\n",
    "for i in range(50):\n",
    "    complete_1[i]=nx.astar_path_length(G_all_roads,test_samples_1[i],test_samples_2[i],heuristic=tdist_60,weight='time')/(3600*1000)\n",
    "    complete_2[i]=nx.astar_path_length(G_all_roads,test_samples_1[i],test_samples_2[i],weight='time')/(3600*1000)\n",
    "    compare[i]=complete_1[i]/complete_2[i]\n",
    "    print(complete_1[i],complete_2[i],compare[i])"
   ]
  },
  {
   "cell_type": "code",
   "execution_count": 163,
   "metadata": {},
   "outputs": [
    {
     "name": "stdout",
     "output_type": "stream",
     "text": [
      "1.020613126142483\n",
      "1.0009151281165167\n"
     ]
    }
   ],
   "source": [
    "print(max(compare))\n",
    "print(np.mean(compare))"
   ]
  },
  {
   "cell_type": "code",
   "execution_count": 164,
   "metadata": {},
   "outputs": [],
   "source": [
    "## Compare Performance of Astar with 50 and 60% estimated average Speed"
   ]
  },
  {
   "cell_type": "code",
   "execution_count": 171,
   "metadata": {},
   "outputs": [
    {
     "name": "stdout",
     "output_type": "stream",
     "text": [
      "50 vs 60 0.13439083099365234 0.13941478729248047\n",
      "Speedup 50 to 60 1.0373831775700935\n",
      "50 vs 60 0.07457447052001953 0.14487862586975098\n",
      "Speedup 50 to 60 1.9427375730526746\n",
      "50 vs 60 0.1666240692138672 0.4331624507904053\n",
      "Speedup 50 to 60 2.5996391327739556\n",
      "50 vs 60 0.42340517044067383 0.626056432723999\n",
      "Speedup 50 to 60 1.4786225498200902\n",
      "50 vs 60 0.04890871047973633 0.0745091438293457\n",
      "Speedup 50 to 60 1.52343300607396\n",
      "50 vs 60 0.06618261337280273 0.19106841087341309\n",
      "Speedup 50 to 60 2.88698800389063\n",
      "50 vs 60 0.22218966484069824 0.2975757122039795\n",
      "Speedup 50 to 60 1.3392869214566314\n",
      "50 vs 60 0.557154655456543 3.554900884628296\n",
      "Speedup 50 to 60 6.380456215905337\n",
      "50 vs 60 0.01320505142211914 0.015743732452392578\n",
      "Speedup 50 to 60 1.1922507492868233\n",
      "50 vs 60 0.34033632278442383 0.7022655010223389\n",
      "Speedup 50 to 60 2.0634456389398337\n",
      "50 vs 60 0.8676629066467285 1.2598683834075928\n",
      "Speedup 50 to 60 1.4520251744731458\n",
      "50 vs 60 0.847895622253418 2.846219062805176\n",
      "Speedup 50 to 60 3.3568035830175584\n",
      "50 vs 60 0.1280992031097412 0.6573328971862793\n",
      "Speedup 50 to 60 5.131436271489911\n",
      "50 vs 60 0.016408205032348633 0.04335665702819824\n",
      "Speedup 50 to 60 2.642376600165647\n",
      "50 vs 60 0.3172452449798584 0.4343550205230713\n",
      "Speedup 50 to 60 1.3691458812901927\n",
      "50 vs 60 0.8920090198516846 1.5866296291351318\n",
      "Speedup 50 to 60 1.7787147818291598\n",
      "50 vs 60 0.07790637016296387 0.1182403564453125\n",
      "Speedup 50 to 60 1.517723854904013\n",
      "50 vs 60 0.3668792247772217 0.6052625179290771\n",
      "Speedup 50 to 60 1.6497595858599183\n",
      "50 vs 60 0.11366772651672363 0.12950491905212402\n",
      "Speedup 50 to 60 1.1393288404784827\n",
      "50 vs 60 0.20013999938964844 0.9469707012176514\n",
      "Speedup 50 to 60 4.731541441518712\n",
      "50 vs 60 0.1696178913116455 0.12235879898071289\n",
      "Speedup 50 to 60 0.7213790835065762\n",
      "50 vs 60 0.08527088165283203 0.12233781814575195\n",
      "Speedup 50 to 60 1.434696296959055\n",
      "50 vs 60 0.44867539405822754 1.3637259006500244\n",
      "Speedup 50 to 60 3.0394488280608605\n",
      "50 vs 60 0.596735954284668 0.7058658599853516\n",
      "Speedup 50 to 60 1.1828780466756057\n",
      "50 vs 60 0.11536550521850586 0.3668053150177002\n",
      "Speedup 50 to 60 3.1795059911795946\n",
      "50 vs 60 0.20470952987670898 0.7740132808685303\n",
      "Speedup 50 to 60 3.781031988763286\n",
      "50 vs 60 0.08765578269958496 0.25673580169677734\n",
      "Speedup 50 to 60 2.9289088955678557\n",
      "50 vs 60 0.05173850059509277 0.10433340072631836\n",
      "Speedup 50 to 60 2.016552461441336\n",
      "50 vs 60 0.06110787391662598 0.20056796073913574\n",
      "Speedup 50 to 60 3.282195041064357\n",
      "50 vs 60 0.45060253143310547 1.6263723373413086\n",
      "Speedup 50 to 60 3.6093280083641806\n",
      "50 vs 60 1.3649423122406006 2.1063361167907715\n",
      "Speedup 50 to 60 1.5431685998019558\n",
      "50 vs 60 0.4536762237548828 0.677354097366333\n",
      "Speedup 50 to 60 1.4930341549754684\n",
      "50 vs 60 0.14047837257385254 0.3623950481414795\n",
      "Speedup 50 to 60 2.5797212873530446\n",
      "50 vs 60 0.044930219650268555 0.10481691360473633\n",
      "Speedup 50 to 60 2.332882287703435\n",
      "50 vs 60 0.04339933395385742 0.05866742134094238\n",
      "Speedup 50 to 60 1.3518046475855627\n",
      "50 vs 60 0.14334940910339355 0.2964050769805908\n",
      "Speedup 50 to 60 2.067710490294403\n",
      "50 vs 60 0.12077522277832031 0.23156118392944336\n",
      "Speedup 50 to 60 1.917290472355143\n",
      "50 vs 60 0.03053426742553711 0.07216882705688477\n",
      "Speedup 50 to 60 2.3635355664870774\n",
      "50 vs 60 0.13562393188476562 0.41388583183288574\n",
      "Speedup 50 to 60 3.0517168030827215\n",
      "50 vs 60 0.01869797706604004 0.023060083389282227\n",
      "Speedup 50 to 60 1.233292955052598\n",
      "50 vs 60 0.8170127868652344 1.7722516059875488\n",
      "Speedup 50 to 60 2.1691846620754056\n",
      "50 vs 60 0.28258824348449707 0.815464973449707\n",
      "Speedup 50 to 60 2.8857002803601906\n",
      "50 vs 60 0.9767265319824219 1.8932454586029053\n",
      "Speedup 50 to 60 1.938357766078354\n",
      "50 vs 60 0.27704286575317383 0.7522642612457275\n",
      "Speedup 50 to 60 2.715335257598524\n",
      "50 vs 60 1.5297744274139404 2.8151166439056396\n",
      "Speedup 50 to 60 1.8402168276956687\n",
      "50 vs 60 0.5140089988708496 0.9637455940246582\n",
      "Speedup 50 to 60 1.874958602167994\n",
      "50 vs 60 0.33552002906799316 0.652991533279419\n",
      "Speedup 50 to 60 1.946207310166542\n",
      "50 vs 60 0.00680232048034668 0.007004976272583008\n",
      "Speedup 50 to 60 1.0297921559005994\n",
      "50 vs 60 0.6676373481750488 0.8667154312133789\n",
      "Speedup 50 to 60 1.2981829635242836\n",
      "50 vs 60 0.40523695945739746 0.5703198909759521\n",
      "Speedup 50 to 60 1.4073738282401407\n"
     ]
    }
   ],
   "source": [
    "speedup=np.zeros(50)\n",
    "for i in range(50):\n",
    "    begin_50=time.time()\n",
    "    complete_1[i]=nx.astar_path_length(G_all_roads,test_samples_1[i],test_samples_2[i],heuristic=tdist,weight='time')/(3600*1000)\n",
    "    end_50=time.time()\n",
    "    \n",
    "    begin_60=time.time()\n",
    "    complete_2[i]=nx.astar_path_length(G_all_roads,test_samples_1[i],test_samples_2[i],heuristic=tdist_60,weight='time')/(3600*1000)\n",
    "    end_60=time.time()\n",
    "    print(\"50 vs 60\",end_50-begin_50,end_60-begin_60)\n",
    "    print(\"Speedup 50 to 60\",(end_60-begin_60)/(end_50-begin_50))\n",
    "    speedup[i]=(end_60-begin_60)/(end_50-begin_50)"
   ]
  },
  {
   "cell_type": "code",
   "execution_count": 174,
   "metadata": {},
   "outputs": [
    {
     "name": "stdout",
     "output_type": "stream",
     "text": [
      "2.2285698108775716\n",
      "6.380456215905337\n"
     ]
    }
   ],
   "source": [
    "print(np.mean(speedup))\n",
    "print(max(speedup))"
   ]
  },
  {
   "cell_type": "code",
   "execution_count": 175,
   "metadata": {},
   "outputs": [
    {
     "name": "stdout",
     "output_type": "stream",
     "text": [
      "50 vs 60 0.1525895595550537 0.46671509742736816\n",
      "Speedup 50 to 60 3.058630608727717\n",
      "50 vs 60 0.14644527435302734 3.6768336296081543\n",
      "Speedup 50 to 60 25.107219374963368\n",
      "50 vs 60 0.4215996265411377 1.1737127304077148\n",
      "Speedup 50 to 60 2.7839510675970427\n",
      "50 vs 60 0.6318883895874023 3.0764336585998535\n",
      "Speedup 50 to 60 4.868634571065059\n",
      "50 vs 60 0.10657882690429688 0.3438904285430908\n",
      "Speedup 50 to 60 3.2266298901177564\n",
      "50 vs 60 0.17627429962158203 1.8027021884918213\n",
      "Speedup 50 to 60 10.226687567965289\n",
      "50 vs 60 0.457059383392334 5.851772308349609\n",
      "Speedup 50 to 60 12.80308975371483\n",
      "50 vs 60 4.060821294784546 6.71739935874939\n",
      "Speedup 50 to 60 1.6541972352678458\n",
      "50 vs 60 0.022149085998535156 0.05127716064453125\n",
      "Speedup 50 to 60 2.315091496232508\n",
      "50 vs 60 0.7055408954620361 2.4024267196655273\n",
      "Speedup 50 to 60 3.4050849994914256\n",
      "50 vs 60 1.5021889209747314 5.356801509857178\n",
      "Speedup 50 to 60 3.5659972158370654\n",
      "50 vs 60 2.8316478729248047 5.8687427043914795\n",
      "Speedup 50 to 60 2.072553851241985\n",
      "50 vs 60 0.8074824810028076 5.115729093551636\n",
      "Speedup 50 to 60 6.335405676168284\n",
      "50 vs 60 0.05986332893371582 0.43599486351013184\n",
      "Speedup 50 to 60 7.283171037696397\n",
      "50 vs 60 0.5325760841369629 2.5341663360595703\n",
      "Speedup 50 to 60 4.7583179409307785\n",
      "50 vs 60 2.0172042846679688 5.124497652053833\n",
      "Speedup 50 to 60 2.5403959782374366\n",
      "50 vs 60 0.1415877342224121 0.6862165927886963\n",
      "Speedup 50 to 60 4.846582202599257\n",
      "50 vs 60 0.7056155204772949 3.937375545501709\n",
      "Speedup 50 to 60 5.580058022020796\n",
      "50 vs 60 0.14621186256408691 3.813605308532715\n",
      "Speedup 50 to 60 26.082735296947284\n",
      "50 vs 60 1.2175676822662354 4.115886211395264\n",
      "Speedup 50 to 60 3.3804167697145537\n",
      "50 vs 60 0.1598505973815918 2.043616771697998\n",
      "Speedup 50 to 60 12.784542598983984\n",
      "50 vs 60 0.1675431728363037 0.5064799785614014\n",
      "Speedup 50 to 60 3.0229818976643847\n",
      "50 vs 60 2.2641382217407227 7.846003293991089\n",
      "Speedup 50 to 60 3.465337592313113\n",
      "50 vs 60 0.9498968124389648 3.8105080127716064\n",
      "Speedup 50 to 60 4.011496788780359\n",
      "50 vs 60 0.45880961418151855 3.622187614440918\n",
      "Speedup 50 to 60 7.894750899896954\n",
      "50 vs 60 1.1457698345184326 3.469073534011841\n",
      "Speedup 50 to 60 3.0277228719936526\n",
      "50 vs 60 0.32622551918029785 6.10460352897644\n",
      "Speedup 50 to 60 18.712832596037824\n",
      "50 vs 60 0.12735390663146973 5.1175055503845215\n",
      "Speedup 50 to 60 40.1833417265581\n",
      "50 vs 60 0.25490260124206543 2.122694253921509\n",
      "Speedup 50 to 60 8.32747191899276\n",
      "50 vs 60 2.188241958618164 4.697741746902466\n",
      "Speedup 50 to 60 2.1468109266440565\n",
      "50 vs 60 2.502350091934204 5.372863531112671\n",
      "Speedup 50 to 60 2.1471270340752717\n",
      "50 vs 60 0.7847139835357666 3.53159761428833\n",
      "Speedup 50 to 60 4.500490227503844\n",
      "50 vs 60 0.5290942192077637 3.8288416862487793\n",
      "Speedup 50 to 60 7.236597088476745\n",
      "50 vs 60 0.1731548309326172 1.0318570137023926\n",
      "Speedup 50 to 60 5.959158102287874\n",
      "50 vs 60 0.09222698211669922 3.036849021911621\n",
      "Speedup 50 to 60 32.927988666797646\n",
      "50 vs 60 0.39301371574401855 2.4041852951049805\n",
      "Speedup 50 to 60 6.117306340196273\n",
      "50 vs 60 0.30026721954345703 2.0112404823303223\n",
      "Speedup 50 to 60 6.698168669188479\n",
      "50 vs 60 0.11047530174255371 0.5819973945617676\n",
      "Speedup 50 to 60 5.268122244354907\n",
      "50 vs 60 0.5656564235687256 4.754687547683716\n",
      "Speedup 50 to 60 8.40561045464029\n",
      "50 vs 60 0.034658193588256836 0.16059136390686035\n",
      "Speedup 50 to 60 4.633575708379481\n",
      "50 vs 60 2.3871517181396484 5.876014947891235\n",
      "Speedup 50 to 60 2.4615171726372393\n",
      "50 vs 60 1.1294937133789062 5.636801719665527\n",
      "Speedup 50 to 60 4.990556080921341\n",
      "50 vs 60 2.186068058013916 5.486113548278809\n",
      "Speedup 50 to 60 2.509580398545801\n",
      "50 vs 60 0.8035945892333984 3.8090715408325195\n",
      "Speedup 50 to 60 4.740041299265395\n",
      "50 vs 60 3.944833278656006 8.561752796173096\n",
      "Speedup 50 to 60 2.1703712657509473\n",
      "50 vs 60 1.53834867477417 5.382519960403442\n",
      "Speedup 50 to 60 3.4988946580615723\n",
      "50 vs 60 1.0060162544250488 6.1592912673950195\n",
      "Speedup 50 to 60 6.122457008326504\n",
      "50 vs 60 0.011907577514648438 0.03241705894470215\n",
      "Speedup 50 to 60 2.722389075764857\n",
      "50 vs 60 1.1938083171844482 6.3670125007629395\n",
      "Speedup 50 to 60 5.333362491374912\n",
      "50 vs 60 0.7953305244445801 1.5618259906768799\n",
      "Speedup 50 to 60 1.9637445598703542\n"
     ]
    }
   ],
   "source": [
    "##Vergleich Sppeedup 60er zu Disjkstra\n",
    "speedup=np.zeros(50)\n",
    "for i in range(50):\n",
    "    begin_50=time.time()\n",
    "    complete_1[i]=nx.astar_path_length(G_all_roads,test_samples_1[i],test_samples_2[i],heuristic=tdist_60,weight='time')/(3600*1000)\n",
    "    end_50=time.time()\n",
    "    \n",
    "    begin_60=time.time()\n",
    "    complete_2[i]=nx.astar_path_length(G_all_roads,test_samples_1[i],test_samples_2[i],weight='time')/(3600*1000)\n",
    "    end_60=time.time()\n",
    "    print(\"50 vs 60\",end_50-begin_50,end_60-begin_60)\n",
    "    print(\"Speedup 50 to 60\",(end_60-begin_60)/(end_50-begin_50))\n",
    "    speedup[i]=(end_60-begin_60)/(end_50-begin_50)\n"
   ]
  },
  {
   "cell_type": "code",
   "execution_count": 176,
   "metadata": {},
   "outputs": [
    {
     "name": "stdout",
     "output_type": "stream",
     "text": [
      "7.197583978416431\n",
      "40.1833417265581\n"
     ]
    }
   ],
   "source": [
    "print(np.mean(speedup))\n",
    "print(max(speedup))\n",
    "#60er Approximation deutlich schneller als dijkstra, von daher durchaus sinnvoll diese zu nehmen"
   ]
  },
  {
   "cell_type": "code",
   "execution_count": 184,
   "metadata": {},
   "outputs": [
    {
     "data": {
      "text/plain": [
       "[[[1], [3.001430180086722, 0, 2.991308751797267]],\n",
       " [[2], [3.6020001221959315, 0, 3.608852318498066]],\n",
       " [[3], [2.300070679953922, 0, 2.294164324312118]],\n",
       " [[4], [2.2795813525062543, 0, 2.2472817898522433]],\n",
       " [[5], [2.14960433945284, 0, 2.1199945575647106]],\n",
       " [[6], [2.711976302131432, 0, 2.6811231402562132]],\n",
       " [[7], [2.2458832879741455, 0, 2.248175546040066]],\n",
       " [[8], [2.737061553034224, 0, 2.758713487230837]],\n",
       " [[9], [3.4812060193688974, 0, 3.5023056556299315]],\n",
       " [[10], [2.750622905073625, 0, 2.720370651567102]],\n",
       " [[11], [3.5909450094705506, 0, 3.5737798005590706]],\n",
       " [[12], [3.5776207401090643, 0, 3.5702390306378087]],\n",
       " [[13], [3.821998952139944, 0, 3.8260598717448095]],\n",
       " [[14], [2.501352756404942, 0, 2.470241562299617]],\n",
       " [[15], [1.8259363871063996, 0, 1.915878668536517]],\n",
       " [[16], [2.8336647938771935, 0, 2.8371025735931914]],\n",
       " [[17], [0.8174281960989725, 0, 0.8154576141726012]],\n",
       " [[18], [0.30206924164520116, 0, 0.3201836449681798]],\n",
       " [[19], [1.682128309438968, 0, 1.6847103533506445]]]"
      ]
     },
     "execution_count": 184,
     "metadata": {},
     "output_type": "execute_result"
    }
   ],
   "source": [
    "## Vergleichen der Resultierenden Touren 13er Distanz Heuristic und \"Dijkstra\" Berechneter Matrix\n",
    "tourlist_with_times"
   ]
  },
  {
   "cell_type": "code",
   "execution_count": 188,
   "metadata": {},
   "outputs": [],
   "source": [
    "still_time_reserve=True\n",
    "while(len(tourlist_with_times)>3 and still_time_reserve):\n",
    "    i_j=search_short_tour_timelimit_depot_to_depot(tourlist_with_times,distanc_matrix_13,9)\n",
    "    if(i_j==[-1,-1]):\n",
    "        still_time_reserve=False\n",
    "    else:\n",
    "        combine_with_time(i_j[0],i_j[1])"
   ]
  },
  {
   "cell_type": "code",
   "execution_count": 189,
   "metadata": {},
   "outputs": [
    {
     "data": {
      "text/plain": [
       "[[[4, 6, 11, 13, 1, 8],\n",
       "  [2.2795813525062543, 3.800682443054232, 2.758713487230837]],\n",
       " [[9, 12, 2, 16, 3],\n",
       "  [3.4812060193688974, 3.1860393447208244, 2.294164324312118]],\n",
       " [[14, 5, 7, 10, 15],\n",
       "  [2.501352756404942, 4.48766806986368, 1.915878668536517]]]"
      ]
     },
     "execution_count": 189,
     "metadata": {},
     "output_type": "execute_result"
    }
   ],
   "source": [
    "tourlist_with_times"
   ]
  },
  {
   "cell_type": "code",
   "execution_count": 190,
   "metadata": {},
   "outputs": [
    {
     "data": {
      "text/plain": [
       "array([[0.        , 0.        , 0.        , 0.        , 0.        ,\n",
       "        0.        , 0.        , 0.        , 0.        , 0.        ,\n",
       "        0.        , 0.        , 0.        , 0.        , 0.        ,\n",
       "        0.        , 0.        , 0.        , 0.        , 0.        ],\n",
       "       [0.        , 0.        , 3.49634039, 3.22153691, 1.72454996,\n",
       "        0.        , 1.72550499, 0.        , 0.50460645, 0.        ,\n",
       "        0.        , 0.        , 0.        , 1.43661318, 0.        ,\n",
       "        0.        , 0.        , 0.        , 0.        , 0.        ],\n",
       "       [0.        , 0.        , 0.        , 1.51910537, 0.        ,\n",
       "        0.        , 0.        , 0.        , 0.        , 1.14053765,\n",
       "        1.60883418, 0.        , 1.19820575, 0.        , 0.        ,\n",
       "        0.        , 1.07570228, 0.        , 0.        , 0.        ],\n",
       "       [0.        , 0.        , 0.        , 0.        , 1.90955679,\n",
       "        1.46932633, 0.        , 0.        , 0.        , 1.81564   ,\n",
       "        0.50703065, 0.        , 0.        , 0.        , 2.26292593,\n",
       "        0.80111579, 0.64818537, 2.01147753, 1.97398068, 1.25895072],\n",
       "       [0.        , 0.        , 0.        , 0.        , 0.        ,\n",
       "        0.8197924 , 0.45753031, 0.        , 0.        , 0.        ,\n",
       "        0.        , 0.        , 0.        , 0.        , 0.        ,\n",
       "        0.        , 0.        , 0.        , 0.        , 0.        ],\n",
       "       [0.        , 0.        , 0.        , 0.        , 0.81299356,\n",
       "        0.        , 0.        , 0.26325203, 0.        , 1.65407844,\n",
       "        0.        , 0.        , 0.        , 0.        , 0.        ,\n",
       "        0.        , 0.        , 0.        , 0.        , 0.        ],\n",
       "       [0.        , 0.        , 0.        , 0.        , 0.        ,\n",
       "        0.        , 0.        , 0.        , 0.        , 1.52195085,\n",
       "        0.        , 1.01160254, 0.        , 0.        , 0.        ,\n",
       "        0.        , 0.        , 0.        , 0.        , 0.        ],\n",
       "       [0.        , 0.        , 0.        , 0.        , 1.06877291,\n",
       "        0.        , 0.        , 0.        , 0.        , 1.91747146,\n",
       "        1.78283792, 0.        , 0.        , 0.        , 0.        ,\n",
       "        0.        , 0.        , 0.        , 0.        , 0.        ],\n",
       "       [0.        , 0.        , 0.        , 0.        , 0.        ,\n",
       "        1.62228328, 0.        , 1.84788917, 0.        , 2.53540659,\n",
       "        3.22712459, 0.        , 0.        , 0.        , 0.90352703,\n",
       "        2.10626836, 0.        , 2.98857254, 2.9223101 , 2.78158538],\n",
       "       [0.        , 0.        , 0.        , 0.        , 0.        ,\n",
       "        0.        , 0.        , 0.        , 0.        , 0.        ,\n",
       "        0.        , 0.        , 0.26247828, 0.        , 0.        ,\n",
       "        0.        , 0.        , 0.        , 0.        , 0.        ],\n",
       "       [0.        , 0.        , 0.        , 0.        , 0.        ,\n",
       "        0.        , 0.        , 0.        , 0.        , 2.04825447,\n",
       "        0.        , 0.        , 0.        , 0.        , 0.        ,\n",
       "        1.22732212, 0.        , 0.        , 0.        , 0.        ],\n",
       "       [0.        , 0.        , 0.        , 0.        , 0.        ,\n",
       "        0.        , 0.        , 0.        , 0.        , 0.        ,\n",
       "        0.        , 0.        , 0.        , 0.40272262, 0.        ,\n",
       "        0.        , 0.        , 0.        , 0.        , 0.        ],\n",
       "       [0.        , 0.        , 1.18602947, 0.        , 0.        ,\n",
       "        0.        , 0.        , 0.        , 0.        , 0.        ,\n",
       "        0.        , 0.        , 0.        , 0.        , 0.        ,\n",
       "        0.        , 0.        , 0.        , 0.        , 0.        ],\n",
       "       [0.        , 1.42422052, 0.        , 0.        , 0.        ,\n",
       "        0.        , 0.        , 0.        , 0.        , 1.31940148,\n",
       "        0.        , 0.        , 0.        , 0.        , 0.        ,\n",
       "        0.        , 0.        , 0.        , 0.        , 0.        ],\n",
       "       [0.        , 0.        , 0.        , 0.        , 0.49747435,\n",
       "        1.214256  , 0.65778737, 0.        , 0.        , 2.10475133,\n",
       "        0.        , 0.        , 0.        , 0.        , 0.        ,\n",
       "        0.        , 0.        , 0.        , 0.        , 0.        ],\n",
       "       [0.        , 0.        , 0.        , 0.        , 1.41241603,\n",
       "        0.        , 0.        , 0.        , 0.        , 2.40066039,\n",
       "        0.        , 0.        , 0.        , 0.        , 1.74633229,\n",
       "        0.        , 0.        , 1.55189379, 1.59569502, 0.79936697],\n",
       "       [0.        , 0.        , 0.        , 0.66182931, 0.        ,\n",
       "        0.        , 0.        , 0.        , 0.        , 0.        ,\n",
       "        0.66246487, 0.        , 0.        , 0.        , 0.        ,\n",
       "        0.        , 0.        , 0.        , 0.        , 0.        ],\n",
       "       [0.        , 0.        , 0.        , 0.        , 2.48990331,\n",
       "        0.        , 0.        , 0.        , 0.        , 3.6179638 ,\n",
       "        0.        , 0.        , 0.        , 0.        , 2.71402858,\n",
       "        0.        , 0.        , 0.        , 0.49527397, 1.39852766],\n",
       "       [0.        , 0.        , 0.        , 0.        , 0.        ,\n",
       "        0.        , 0.        , 0.        , 0.        , 0.        ,\n",
       "        0.        , 0.        , 0.        , 0.        , 0.        ,\n",
       "        0.        , 0.        , 0.58167904, 0.        , 0.        ],\n",
       "       [0.        , 0.        , 0.        , 0.        , 2.06792161,\n",
       "        0.        , 0.        , 0.        , 0.        , 2.86805075,\n",
       "        0.        , 0.        , 0.        , 0.        , 2.40183786,\n",
       "        0.        , 0.        , 0.        , 1.36452671, 0.        ]])"
      ]
     },
     "execution_count": 190,
     "metadata": {},
     "output_type": "execute_result"
    }
   ],
   "source": [
    "time_matrix"
   ]
  },
  {
   "cell_type": "code",
   "execution_count": 191,
   "metadata": {
    "scrolled": true
   },
   "outputs": [
    {
     "name": "stdout",
     "output_type": "stream",
     "text": [
      "[[[1], [3.001430180086722, 0, 2.991308751797267]], [[2], [3.6020001221959315, 0, 3.608852318498066]], [[3], [2.300070679953922, 0, 2.294164324312118]], [[4], [2.2795813525062543, 0, 2.2472817898522433]], [[5], [2.14960433945284, 0, 2.1199945575647106]], [[6], [2.711976302131432, 0, 2.6811231402562132]], [[7], [2.2458832879741455, 0, 2.248175546040066]], [[8], [2.737061553034224, 0, 2.758713487230837]], [[9], [3.4812060193688974, 0, 3.5023056556299315]], [[10], [2.750622905073625, 0, 2.720370651567102]], [[11], [3.5909450094705506, 0, 3.5737798005590706]], [[12], [3.5776207401090643, 0, 3.5702390306378087]], [[13], [3.821998952139944, 0, 3.8260598717448095]], [[14], [2.501352756404942, 0, 2.470241562299617]], [[15], [1.8259363871063996, 0, 1.915878668536517]], [[16], [2.8336647938771935, 0, 2.8371025735931914]], [[17], [0.8174281960989725, 0, 0.8154576141726012]], [[18], [0.30206924164520116, 0, 0.3201836449681798]], [[19], [1.682128309438968, 0, 1.6847103533506445]]]\n"
     ]
    }
   ],
   "source": [
    "tourlist_with_times=[]\n",
    "for i in range(1,20):##Es soll jeweils eine Liste mit den entsprechenden Zeiten für die Tour erstellt werden\n",
    "    ##Die Liste besteht aus einer Liste mit Anfahrtsknoten, und einer Liste von Zeiten, die Liste von Zeiten\n",
    "    ##soll aus drei Elementen bestehen, der \n",
    "    times=[nx.astar_path_length(G_all_roads,sample_edges[0][0],sample_edges[i][0],heuristic=tdist_60,weight='time')/(3600*1000),0,\n",
    "          nx.astar_path_length(G_all_roads,sample_edges[i][0],sample_edges[0][0],heuristic=tdist_60,weight='time')/(3600*1000)]\n",
    "    #tour_with_time=[[i],times,distanc_matrix_13[0][i]/100000]\n",
    "    tour_with_time=[[i],times]\n",
    "    tourlist_with_times.append(tour_with_time)\n",
    "print(tourlist_with_times)"
   ]
  },
  {
   "cell_type": "code",
   "execution_count": 192,
   "metadata": {},
   "outputs": [],
   "source": [
    "still_time_reserve=True\n",
    "while(len(tourlist_with_times)>3 and still_time_reserve):\n",
    "    i_j=search_short_tour_timelimit_depot_to_depot(tourlist_with_times,distanc_matrix_classic,9)\n",
    "    if(i_j==[-1,-1]):\n",
    "        still_time_reserve=False\n",
    "    else:\n",
    "        combine_with_time(i_j[0],i_j[1])"
   ]
  },
  {
   "cell_type": "code",
   "execution_count": 193,
   "metadata": {},
   "outputs": [
    {
     "data": {
      "text/plain": [
       "[[[4, 6, 11, 13, 1, 8],\n",
       "  [2.2795813525062543, 3.800682443054232, 2.758713487230837]],\n",
       " [[9, 12, 2, 16, 3, 18],\n",
       "  [3.4812060193688974, 5.160020024064762, 0.3201836449681798]],\n",
       " [[15, 10, 7, 5, 14],\n",
       "  [1.8259363871063996, 4.489428624982601, 2.470241562299617]]]"
      ]
     },
     "execution_count": 193,
     "metadata": {},
     "output_type": "execute_result"
    }
   ],
   "source": [
    "tourlist_with_times"
   ]
  },
  {
   "cell_type": "code",
   "execution_count": null,
   "metadata": {},
   "outputs": [],
   "source": [
    "## Man kann tatsächlich beobachten, dass mit der klassichen Distanz Matrix eine andere Tourenliste herauskommt wie\n",
    "#mit der heuristic für die Distanzen "
   ]
  }
 ],
 "metadata": {
  "kernelspec": {
   "display_name": "Python 3",
   "language": "python",
   "name": "python3"
  },
  "language_info": {
   "codemirror_mode": {
    "name": "ipython",
    "version": 3
   },
   "file_extension": ".py",
   "mimetype": "text/x-python",
   "name": "python",
   "nbconvert_exporter": "python",
   "pygments_lexer": "ipython3",
   "version": "3.8.5"
  }
 },
 "nbformat": 4,
 "nbformat_minor": 4
}
