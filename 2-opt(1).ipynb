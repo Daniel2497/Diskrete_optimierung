{
 "cells": [
  {
   "cell_type": "markdown",
   "metadata": {},
   "source": [
    "# TSP heuristic: 2-opt"
   ]
  },
  {
   "cell_type": "code",
   "execution_count": 1039,
   "metadata": {},
   "outputs": [],
   "source": [
    "import math\n",
    "import random as rd\n",
    "import numpy as np\n",
    "import networkx\n",
    "#import itertools #permutations\n",
    "import matplotlib.pyplot as plt\n",
    "import time"
   ]
  },
  {
   "cell_type": "markdown",
   "metadata": {},
   "source": [
    "## Initialize the problem with random data"
   ]
  },
  {
   "cell_type": "code",
   "execution_count": 999,
   "metadata": {},
   "outputs": [
    {
     "name": "stdout",
     "output_type": "stream",
     "text": [
      "[[1], [2], [3], [4], [5], [6], [7], [8], [9], [10], [11], [12], [13], [14], [15], [16], [17], [18], [19], [20]]\n"
     ]
    }
   ],
   "source": [
    "#create tourlist initialized for savings heuristic with n costumers\n",
    "n=20\n",
    "tourlist=[]\n",
    "for i in range(1,n+1):\n",
    "    tourlist.append([i])\n",
    "print(tourlist)"
   ]
  },
  {
   "cell_type": "code",
   "execution_count": 1000,
   "metadata": {},
   "outputs": [],
   "source": [
    "#random distance matrix; not symmetric\n",
    "\n",
    "#get coordinates of n costumers; depot at origin by default\n",
    "\n",
    "x_depot_costumers=np.zeros(n+1)\n",
    "y_depot_costumers=np.zeros(n+1)\n",
    "\n",
    "x_depot_costumers[0]=0\n",
    "y_depot_costumers[0]=0\n",
    "\n",
    "for i in range(1,n+1):\n",
    "    x_depot_costumers[i]=rd.uniform(-10, 10)\n",
    "    y_depot_costumers[i]=rd.uniform(-10, 10)\n",
    "    \n",
    "#compute the distance matrix (euclidean distance times random factor greater than 1)\n",
    "\n",
    "distance_matrix=np.zeros((n+1,n+1))\n",
    "\n",
    "for i in range(0,n+1):\n",
    "    for j in range(0,n+1):\n",
    "        if i==j:\n",
    "            distance_matrix[i][j]=0\n",
    "        else:\n",
    "            alpha=rd.uniform(1, 1.15)\n",
    "            #alpha=1 #makes it easier to see if solution is correct\n",
    "            distance_matrix[i][j]=math.sqrt(((x_depot_costumers[i]-x_depot_costumers[j])**2)+((y_depot_costumers[i]-y_depot_costumers[j])**2))*alpha\n",
    "            "
   ]
  },
  {
   "cell_type": "code",
   "execution_count": 1001,
   "metadata": {},
   "outputs": [
    {
     "name": "stdout",
     "output_type": "stream",
     "text": [
      "[19  9 13 17  0 12 14 16  6  2  3 11 15 10  8  7  5  1 18  4]\n"
     ]
    }
   ],
   "source": [
    "#choose random TSP solution\n",
    "\n",
    "random_tour=np.random.permutation(n) #the element i in random_tour corresponds to costumer i+1\n",
    "print(random_tour)"
   ]
  },
  {
   "cell_type": "markdown",
   "metadata": {},
   "source": [
    "## The length of a tour"
   ]
  },
  {
   "cell_type": "code",
   "execution_count": 1002,
   "metadata": {},
   "outputs": [],
   "source": [
    "#compute the length of the initial tour\n",
    "\n",
    "def length_of_tour(random_tour,distance_matrix):\n",
    "    length=0\n",
    "\n",
    "    length=length+distance_matrix[0][int(random_tour[0])+1]\n",
    "    for i in range(0,n-1):\n",
    "        length=length+distance_matrix[int(random_tour[i])+1][int(random_tour[i+1])+1]\n",
    "    length=length+distance_matrix[int(random_tour[n-1])+1][0]\n",
    "    return length\n"
   ]
  },
  {
   "cell_type": "code",
   "execution_count": 1003,
   "metadata": {},
   "outputs": [
    {
     "name": "stdout",
     "output_type": "stream",
     "text": [
      "255.25811431303055\n"
     ]
    }
   ],
   "source": [
    "tour_length=length_of_tour(random_tour,distance_matrix)\n",
    "print(tour_length)"
   ]
  },
  {
   "cell_type": "markdown",
   "metadata": {},
   "source": [
    "## 2-opt Algorithm"
   ]
  },
  {
   "cell_type": "code",
   "execution_count": 1004,
   "metadata": {},
   "outputs": [],
   "source": [
    "#2-opt with first improvement strategy: remove two edges and put two other edges in -> inverse a segment of costumer ordering\n",
    "\n",
    "\n",
    "#a 2-opt step:\n",
    "\n",
    "new_tour=np.zeros(n)\n",
    "for m in range(0,n):\n",
    "    new_tour[m]=int(random_tour[m])\n",
    "\n",
    "def first_improvement(new_tour,distance_matrix,tour_length):\n",
    "    \n",
    "    for i in range(2,n): #size of segment; 1 and n don't change the tour\n",
    "        for j in range(0,n-i+1): #start of segment j end of segment i+j-1\n",
    "            \n",
    "            loop_tour=np.zeros(n)\n",
    "            for m in range(0,n):\n",
    "                loop_tour[m]=int(new_tour[m])\n",
    "            \n",
    "            inverse_segment=np.zeros(i)\n",
    "            \n",
    "            for m in range(0,i):\n",
    "                inverse_segment[m]=loop_tour[j:i+j][::-1][m]\n",
    "                \n",
    "            s=0\n",
    "            \n",
    "            for k in range(j,i+j): #create the new tour\n",
    "                while s<i:\n",
    "                    loop_tour[j+s]=inverse_segment[s]\n",
    "                    #print(inverse_segment[s])\n",
    "                    s=s+1\n",
    "                \n",
    "            current_l=length_of_tour(loop_tour,distance_matrix)\n",
    "            #print(l)\n",
    "        \n",
    "            if current_l<tour_length: #do change the tour if an improvement is found\n",
    "                #new_tour_length=current_l\n",
    "                new_tour=loop_tour\n",
    "                #print(loop_tour)\n",
    "                break\n",
    "            \n",
    "            #else:\n",
    "                #new_tour=np.zeros(n)\n",
    "                #for m in range(0,n):\n",
    "                    #new_tour[m]=int(random_tour[m])\n",
    "                    \n",
    "        if current_l<tour_length: #do change the tour if an improvement is found\n",
    "            break\n",
    "                    \n",
    "    return new_tour,current_l\n",
    "      "
   ]
  },
  {
   "cell_type": "code",
   "execution_count": 1005,
   "metadata": {},
   "outputs": [],
   "source": [
    "#multiple 2-opt steps:\n",
    "\n",
    "def twoopt(random_tour,distance_matrix):\n",
    "    \n",
    "    #initialize tour_length and new_tour\n",
    "    \n",
    "    tour_length=length_of_tour(random_tour,distance_matrix)\n",
    "    \n",
    "    new_tour=np.zeros(n)\n",
    "    for m in range(0,n):\n",
    "        new_tour[m]=int(random_tour[m])\n",
    "        \n",
    "    #do multiple 2-opt steps\n",
    "        \n",
    "    new_length=tour_length\n",
    "    \n",
    "    while new_length<=tour_length:\n",
    "        \n",
    "        FI2OPT=first_improvement(new_tour,distance_matrix,tour_length)\n",
    "    \n",
    "        new_length=FI2OPT[1]\n",
    "    \n",
    "        if new_length<tour_length:\n",
    "            new_tour=FI2OPT[0]\n",
    "            tour_length=FI2OPT[1]\n",
    "            #print(tour_length)\n",
    "        \n",
    "        else:\n",
    "            break\n",
    "        \n",
    "    return new_tour,tour_length"
   ]
  },
  {
   "cell_type": "code",
   "execution_count": 1006,
   "metadata": {},
   "outputs": [
    {
     "data": {
      "text/plain": [
       "(array([17.,  7.,  4., 19., 11., 12.,  1., 10.,  5.,  6.,  9., 16.,  0.,\n",
       "        14.,  8.,  3.,  2., 15., 13., 18.]),\n",
       " 90.63408831453421)"
      ]
     },
     "execution_count": 1006,
     "metadata": {},
     "output_type": "execute_result"
    }
   ],
   "source": [
    "twoopt(random_tour,distance_matrix) #solution"
   ]
  },
  {
   "cell_type": "markdown",
   "metadata": {},
   "source": [
    "## Tour plots"
   ]
  },
  {
   "cell_type": "code",
   "execution_count": 1007,
   "metadata": {},
   "outputs": [],
   "source": [
    "#plot current tour (random_tour)\n",
    "\n",
    "x_depot_costumers_depot=np.append(x_depot_costumers,0)\n",
    "y_depot_costumers_depot=np.append(y_depot_costumers,0)\n",
    "\n",
    "x_tour=np.zeros(n+2)\n",
    "y_tour=np.zeros(n+2)\n",
    "\n",
    "for i in range(1,n+1):\n",
    "    x_tour[i]=x_depot_costumers[random_tour[i-1]+1]\n",
    "    y_tour[i]=y_depot_costumers[random_tour[i-1]+1]\n",
    "\n",
    "#plt.plot(x_depot_costumers_depot,y_depot_costumers_depot) #tour 0 1 2 3 ... 9 10 0"
   ]
  },
  {
   "cell_type": "code",
   "execution_count": 1008,
   "metadata": {},
   "outputs": [],
   "source": [
    "test_new_tour=twoopt(random_tour,distance_matrix)[0]\n",
    "#print(test_new_tour)"
   ]
  },
  {
   "cell_type": "code",
   "execution_count": 1009,
   "metadata": {},
   "outputs": [],
   "source": [
    "#plot optimized tour (test_new_tour)\n",
    "x_opttour=np.zeros(n+2)\n",
    "y_opttour=np.zeros(n+2)\n",
    "\n",
    "for i in range(1,n+1):\n",
    "    x_opttour[i]=x_depot_costumers[int(test_new_tour[i-1])+1]\n",
    "    y_opttour[i]=y_depot_costumers[int(test_new_tour[i-1])+1]"
   ]
  },
  {
   "cell_type": "code",
   "execution_count": 1010,
   "metadata": {},
   "outputs": [
    {
     "data": {
      "text/plain": [
       "[<matplotlib.lines.Line2D at 0x7fd962184af0>]"
      ]
     },
     "execution_count": 1010,
     "metadata": {},
     "output_type": "execute_result"
    },
    {
     "data": {
      "image/png": "[encoded data removed]",
      "text/plain": [
       "<Figure size 432x288 with 1 Axes>"
      ]
     },
     "metadata": {
      "needs_background": "light"
     },
     "output_type": "display_data"
    }
   ],
   "source": [
    "plt.plot(x_tour,y_tour) #original tour"
   ]
  },
  {
   "cell_type": "code",
   "execution_count": 1011,
   "metadata": {},
   "outputs": [
    {
     "ename": "NameError",
     "evalue": "name 'c' is not defined",
     "output_type": "error",
     "traceback": [
      "\u001b[0;31m---------------------------------------------------------------------------\u001b[0m",
      "\u001b[0;31mNameError\u001b[0m                                 Traceback (most recent call last)",
      "\u001b[0;32m/var/folders/lc/1rbnbxj14yq10jwltsl52wvm0000gn/T/ipykernel_64499/3235490055.py\u001b[0m in \u001b[0;36m<module>\u001b[0;34m\u001b[0m\n\u001b[0;32m----> 1\u001b[0;31m \u001b[0mc\u001b[0m\u001b[0;34m\u001b[0m\u001b[0;34m\u001b[0m\u001b[0m\n\u001b[0m",
      "\u001b[0;31mNameError\u001b[0m: name 'c' is not defined"
     ]
    }
   ],
   "source": [
    "c"
   ]
  },
  {
   "cell_type": "markdown",
   "metadata": {},
   "source": [
    "# A special case of 3-opt: Replacing one costumer"
   ]
  },
  {
   "cell_type": "code",
   "execution_count": 1012,
   "metadata": {},
   "outputs": [],
   "source": [
    "#fist improvement strategy\n",
    "\n",
    "def tour_replace(random_tour,tour_length):\n",
    "    \n",
    "    new_tour=np.zeros(n)\n",
    "    for m in range(0,n):\n",
    "        new_tour[m]=int(random_tour[m])\n",
    "        \n",
    "    current_length=0\n",
    "    l=tour_length\n",
    "    a=0\n",
    "    \n",
    "    for i in range(0,n): #pick the position of the costumer to replace #PROBLEM: doesn't increase i!!!\n",
    "        \n",
    "        #print('i:',i)\n",
    "        \n",
    "        replace=int(new_tour[i]) #costumer-1\n",
    "        #print(replace)\n",
    "        \n",
    "        for j in range(0,n): #pick new spot for the costumer\n",
    "            \n",
    "            #print('j:',j)\n",
    "            \n",
    "            if i==j:\n",
    "                #print(\"gleich\")\n",
    "                continue #no change would happen\n",
    "               \n",
    "            \n",
    "            new_tour=np.zeros(n)\n",
    "            for m in range(0,n):\n",
    "                new_tour[m]=int(random_tour[m])\n",
    "               \n",
    "            \n",
    "            loop_tour=np.zeros(n)\n",
    "            for m in range(0,n): #create the new tour\n",
    "                loop_tour[m]=int(new_tour[m])\n",
    "                \n",
    "            #print(loop_tour)\n",
    "            \n",
    "            loop_tour[j]=replace\n",
    "                \n",
    "            for m in range(0,n):\n",
    "                                 \n",
    "                if j>i:\n",
    "                        \n",
    "                    if m>=i and m<j:\n",
    "                        \n",
    "                        loop_tour[m]=new_tour[m+1]\n",
    "                        #print(new_tour[m+1])\n",
    "                                        \n",
    "                if j<i:\n",
    "                        \n",
    "                    if m>j and m<=i:\n",
    "                        \n",
    "                        loop_tour[m]=new_tour[m-1]\n",
    "                        #print(new_tour[m-1])\n",
    "                        \n",
    "            #print(loop_tour)                \n",
    "                        \n",
    "            current_length=length_of_tour(loop_tour,distance_matrix) #length of the created tour\n",
    "            #print(current_length)\n",
    "                \n",
    "            if current_length<l and current_length>0:\n",
    "                new_tour=loop_tour\n",
    "                l=current_length\n",
    "                #print(l)\n",
    "                #print(loop_tour)\n",
    "                a=1\n",
    "                break\n",
    "                    \n",
    "        if a==1:\n",
    "            break\n",
    "                \n",
    "    return new_tour,l\n",
    "                    "
   ]
  },
  {
   "cell_type": "code",
   "execution_count": 1013,
   "metadata": {},
   "outputs": [
    {
     "name": "stdout",
     "output_type": "stream",
     "text": [
      "255.25811431303055\n",
      "[19  9 13 17  0 12 14 16  6  2  3 11 15 10  8  7  5  1 18  4]\n"
     ]
    }
   ],
   "source": [
    "tour_length=length_of_tour(random_tour,distance_matrix)\n",
    "print(tour_length)\n",
    "print(random_tour)"
   ]
  },
  {
   "cell_type": "code",
   "execution_count": 1014,
   "metadata": {},
   "outputs": [
    {
     "data": {
      "text/plain": [
       "(array([ 9., 19., 13., 17.,  0., 12., 14., 16.,  6.,  2.,  3., 11., 15.,\n",
       "        10.,  8.,  7.,  5.,  1., 18.,  4.]),\n",
       " 250.87597221661318)"
      ]
     },
     "execution_count": 1014,
     "metadata": {},
     "output_type": "execute_result"
    }
   ],
   "source": [
    "tour_replace(random_tour,tour_length)"
   ]
  },
  {
   "cell_type": "code",
   "execution_count": 1015,
   "metadata": {},
   "outputs": [],
   "source": [
    "#multiple steps:\n",
    "\n",
    "def multreplace(random_tour,distance_matrix):\n",
    "    \n",
    "    #initialize tour_length and new_tour\n",
    "    \n",
    "    tour_length=length_of_tour(random_tour,distance_matrix)\n",
    "    \n",
    "    new_tour=np.zeros(n)\n",
    "    for m in range(0,n):\n",
    "        new_tour[m]=int(random_tour[m])\n",
    "        \n",
    "    #do multiple steps\n",
    "        \n",
    "    new_length=tour_length\n",
    "    \n",
    "    while new_length<=tour_length:\n",
    "        \n",
    "        #print(\"STEP\")\n",
    "        \n",
    "        RP=tour_replace(new_tour,tour_length)\n",
    "    \n",
    "        new_length=RP[1]\n",
    "    \n",
    "        if new_length<tour_length:\n",
    "            new_tour=RP[0]\n",
    "            tour_length=RP[1]\n",
    "            #print(tour_length)\n",
    "        \n",
    "        else:\n",
    "            break\n",
    "        \n",
    "    return new_tour,tour_length"
   ]
  },
  {
   "cell_type": "code",
   "execution_count": 1016,
   "metadata": {},
   "outputs": [
    {
     "data": {
      "text/plain": [
       "(array([ 6.,  9., 16., 18.,  0., 14.,  8.,  2.,  3., 13., 15.,  4., 11.,\n",
       "        19.,  7., 17., 12.,  1., 10.,  5.]),\n",
       " 86.43328601581157)"
      ]
     },
     "execution_count": 1016,
     "metadata": {},
     "output_type": "execute_result"
    }
   ],
   "source": [
    "multreplace(random_tour,distance_matrix)"
   ]
  },
  {
   "cell_type": "markdown",
   "metadata": {},
   "source": [
    "## Tour plots"
   ]
  },
  {
   "cell_type": "code",
   "execution_count": 1017,
   "metadata": {},
   "outputs": [
    {
     "name": "stdout",
     "output_type": "stream",
     "text": [
      "[ 6.  9. 16. 18.  0. 14.  8.  2.  3. 13. 15.  4. 11. 19.  7. 17. 12.  1.\n",
      " 10.  5.]\n"
     ]
    }
   ],
   "source": [
    "test_new_tour2=multreplace(random_tour,distance_matrix)[0]\n",
    "print(test_new_tour2)"
   ]
  },
  {
   "cell_type": "code",
   "execution_count": 1018,
   "metadata": {},
   "outputs": [
    {
     "data": {
      "text/plain": [
       "(array([ 6.,  9., 16., 18.,  0., 14.,  8.,  2.,  3., 13., 15.,  4., 11.,\n",
       "        19.,  7., 17., 12.,  1., 10.,  5.]),\n",
       " 86.43328601581157)"
      ]
     },
     "execution_count": 1018,
     "metadata": {},
     "output_type": "execute_result"
    }
   ],
   "source": [
    "multreplace(test_new_tour2,distance_matrix)"
   ]
  },
  {
   "cell_type": "code",
   "execution_count": 1019,
   "metadata": {},
   "outputs": [],
   "source": [
    "#plot optimized tour (test_new_tour2)\n",
    "x_opttour2=np.zeros(n+2)\n",
    "y_opttour2=np.zeros(n+2)\n",
    "\n",
    "for i in range(1,n+1):\n",
    "    x_opttour2[i]=x_depot_costumers[int(test_new_tour2[i-1])+1]\n",
    "    y_opttour2[i]=y_depot_costumers[int(test_new_tour2[i-1])+1]"
   ]
  },
  {
   "cell_type": "code",
   "execution_count": 1020,
   "metadata": {},
   "outputs": [
    {
     "data": {
      "text/plain": [
       "[<matplotlib.lines.Line2D at 0x7fd9622f96d0>]"
      ]
     },
     "execution_count": 1020,
     "metadata": {},
     "output_type": "execute_result"
    },
    {
     "data": {
      "image/png": "[encoded data removed]",
      "text/plain": [
       "<Figure size 432x288 with 1 Axes>"
      ]
     },
     "metadata": {
      "needs_background": "light"
     },
     "output_type": "display_data"
    }
   ],
   "source": [
    "plt.plot(x_tour,y_tour) #original tour"
   ]
  },
  {
   "cell_type": "code",
   "execution_count": 1021,
   "metadata": {},
   "outputs": [
    {
     "data": {
      "text/plain": [
       "[<matplotlib.lines.Line2D at 0x7fd96245b0d0>]"
      ]
     },
     "execution_count": 1021,
     "metadata": {},
     "output_type": "execute_result"
    },
    {
     "data": {
      "image/png": "[encoded data removed]",
      "text/plain": [
       "<Figure size 432x288 with 1 Axes>"
      ]
     },
     "metadata": {
      "needs_background": "light"
     },
     "output_type": "display_data"
    }
   ],
   "source": [
    "plt.plot(x_opttour2,y_opttour2) #tour after costumer replacements"
   ]
  },
  {
   "cell_type": "code",
   "execution_count": 1022,
   "metadata": {},
   "outputs": [
    {
     "data": {
      "text/plain": [
       "[<matplotlib.lines.Line2D at 0x7fd9625add30>]"
      ]
     },
     "execution_count": 1022,
     "metadata": {},
     "output_type": "execute_result"
    },
    {
     "data": {
      "image/png": "[encoded data removed]",
      "text/plain": [
       "<Figure size 432x288 with 1 Axes>"
      ]
     },
     "metadata": {
      "needs_background": "light"
     },
     "output_type": "display_data"
    }
   ],
   "source": [
    "plt.plot(x_opttour,y_opttour) #tour after 2-opt"
   ]
  },
  {
   "cell_type": "markdown",
   "metadata": {},
   "source": [
    "#  A mixed heuristic"
   ]
  },
  {
   "cell_type": "code",
   "execution_count": 1122,
   "metadata": {},
   "outputs": [],
   "source": [
    "#2-opt first replace second loop\n",
    "\n",
    "def mixed1(random_tour,distance_matrix):\n",
    "    \n",
    "    print(random_tour)\n",
    "    \n",
    "    # initialize with 2-opt:   \n",
    "    loop_tour=twoopt(random_tour,distance_matrix)[0]\n",
    "    loop_length=twoopt(random_tour,distance_matrix)[1]\n",
    "    \n",
    "    print(loop_tour)\n",
    "    \n",
    "    a=0\n",
    "    \n",
    "    while a==0: #stop, when there is no improvement\n",
    "        for i in range(0,3): #maximal number of loops\n",
    "       \n",
    "            new_tour=multreplace(loop_tour,distance_matrix)[0]\n",
    "            print(new_tour)\n",
    "        \n",
    "            loop_tour=twoopt(new_tour,distance_matrix)[0]\n",
    "            print(loop_tour)\n",
    "            \n",
    "            if twoopt(new_tour,distance_matrix)[1]-multreplace(loop_tour,distance_matrix)[1]==0:\n",
    "                a=1\n",
    "                \n",
    "            if a==1:\n",
    "                break\n",
    "            \n",
    "        a=1\n",
    "        \n",
    "    loop_length=twoopt(loop_tour,distance_matrix)[1]\n",
    "        \n",
    "    return loop_tour,loop_length\n",
    "            \n"
   ]
  },
  {
   "cell_type": "code",
   "execution_count": 1123,
   "metadata": {},
   "outputs": [],
   "source": [
    "#replace first 2-opt second loop\n",
    "\n",
    "def mixed2(random_tour,distance_matrix):\n",
    "    \n",
    "    #print(random_tour)\n",
    "    \n",
    "    # initialize with replacement heuristic:   \n",
    "    loop_tour=multreplace(random_tour,distance_matrix)[0]\n",
    "    loop_length=multreplace(random_tour,distance_matrix)[1]\n",
    "    \n",
    "    #print(loop_tour)\n",
    "    \n",
    "    a=0\n",
    "    \n",
    "    while a==0: #stop, when there is no improvement\n",
    "        for i in range(0,3): #maximal number of loops\n",
    "        \n",
    "            new_tour=twoopt(loop_tour,distance_matrix)[0]\n",
    "            print(new_tour)\n",
    "        \n",
    "            loop_tour=multreplace(new_tour,distance_matrix)[0]\n",
    "            print(loop_tour)\n",
    "        \n",
    "            if multreplace(new_tour,distance_matrix)[1]-twoopt(loop_tour,distance_matrix)[1]==0:\n",
    "                a=1\n",
    "                \n",
    "            #print(a)\n",
    "                \n",
    "            if a==1:\n",
    "                break\n",
    "        \n",
    "    loop_length=multreplace(loop_tour,distance_matrix)[1]\n",
    "        \n",
    "    return loop_tour,loop_length\n",
    "            \n",
    "\n"
   ]
  },
  {
   "cell_type": "code",
   "execution_count": 1124,
   "metadata": {},
   "outputs": [
    {
     "name": "stdout",
     "output_type": "stream",
     "text": [
      "[19  9 13 17  0 12 14 16  6  2  3 11 15 10  8  7  5  1 18  4]\n",
      "[17.  7.  4. 19. 11. 12.  1. 10.  5.  6.  9. 16.  0. 14.  8.  3.  2. 15.\n",
      " 13. 18.]\n",
      "[17.  7. 19. 11. 12.  1. 10.  5.  6.  9. 16. 18.  0. 14.  8.  2.  3. 13.\n",
      " 15.  4.]\n",
      "[17. 12.  1. 10.  5.  6.  9. 16. 18.  0. 14.  8.  2.  3. 13. 15.  4. 11.\n",
      " 19.  7.]\n"
     ]
    },
    {
     "data": {
      "text/plain": [
       "(array([17., 12.,  1., 10.,  5.,  6.,  9., 16., 18.,  0., 14.,  8.,  2.,\n",
       "         3., 13., 15.,  4., 11., 19.,  7.]),\n",
       " 81.14516793022223)"
      ]
     },
     "execution_count": 1124,
     "metadata": {},
     "output_type": "execute_result"
    }
   ],
   "source": [
    "mixed1(random_tour,distance_matrix)"
   ]
  },
  {
   "cell_type": "code",
   "execution_count": 1125,
   "metadata": {},
   "outputs": [
    {
     "name": "stdout",
     "output_type": "stream",
     "text": [
      "[ 6.  9. 16. 18.  0. 14.  8.  2.  3. 13. 15.  4. 11. 19.  7. 17. 12.  1.\n",
      " 10.  5.]\n",
      "[ 6.  9. 16. 18.  0. 14.  8.  2.  3. 13. 15.  4. 11. 19.  7. 17. 12.  1.\n",
      " 10.  5.]\n"
     ]
    },
    {
     "data": {
      "text/plain": [
       "(array([ 6.,  9., 16., 18.,  0., 14.,  8.,  2.,  3., 13., 15.,  4., 11.,\n",
       "        19.,  7., 17., 12.,  1., 10.,  5.]),\n",
       " 86.43328601581157)"
      ]
     },
     "execution_count": 1125,
     "metadata": {},
     "output_type": "execute_result"
    }
   ],
   "source": [
    "mixed2(random_tour,distance_matrix)"
   ]
  },
  {
   "cell_type": "markdown",
   "metadata": {},
   "source": [
    "## Plots"
   ]
  },
  {
   "cell_type": "code",
   "execution_count": 1027,
   "metadata": {},
   "outputs": [
    {
     "name": "stdout",
     "output_type": "stream",
     "text": [
      "[19  9 13 17  0 12 14 16  6  2  3 11 15 10  8  7  5  1 18  4]\n",
      "[ 6.  9. 16. 18.  0. 14.  8.  2.  3. 13. 15.  4. 11. 19.  7. 17. 12.  1.\n",
      " 10.  5.]\n",
      "[ 6.  9. 16. 18.  0. 14.  8.  2.  3. 13. 15.  4. 11. 19.  7. 17. 12.  1.\n",
      " 10.  5.]\n",
      "[ 6.  9. 16. 18.  0. 14.  8.  2.  3. 13. 15.  4. 11. 19.  7. 17. 12.  1.\n",
      " 10.  5.]\n",
      "[ 6.  9. 16. 18.  0. 14.  8.  2.  3. 13. 15.  4. 11. 19.  7. 17. 12.  1.\n",
      " 10.  5.]\n",
      "[ 6.  9. 16. 18.  0. 14.  8.  2.  3. 13. 15.  4. 11. 19.  7. 17. 12.  1.\n",
      " 10.  5.]\n",
      "[ 6.  9. 16. 18.  0. 14.  8.  2.  3. 13. 15.  4. 11. 19.  7. 17. 12.  1.\n",
      " 10.  5.]\n",
      "[ 6.  9. 16. 18.  0. 14.  8.  2.  3. 13. 15.  4. 11. 19.  7. 17. 12.  1.\n",
      " 10.  5.]\n"
     ]
    }
   ],
   "source": [
    "mixed_tour2=mixed2(random_tour,distance_matrix)[0]"
   ]
  },
  {
   "cell_type": "code",
   "execution_count": 1028,
   "metadata": {},
   "outputs": [
    {
     "name": "stdout",
     "output_type": "stream",
     "text": [
      "[19  9 13 17  0 12 14 16  6  2  3 11 15 10  8  7  5  1 18  4]\n",
      "[17.  7.  4. 19. 11. 12.  1. 10.  5.  6.  9. 16.  0. 14.  8.  3.  2. 15.\n",
      " 13. 18.]\n",
      "[17.  7. 19. 11. 12.  1. 10.  5.  6.  9. 16. 18.  0. 14.  8.  2.  3. 13.\n",
      " 15.  4.]\n",
      "[17. 12.  1. 10.  5.  6.  9. 16. 18.  0. 14.  8.  2.  3. 13. 15.  4. 11.\n",
      " 19.  7.]\n",
      "[17. 12.  1. 10.  5.  6.  9. 16. 18.  0. 14.  8.  2.  3. 13. 15.  4. 11.\n",
      " 19.  7.]\n",
      "[17. 12.  1. 10.  5.  6.  9. 16. 18.  0. 14.  8.  2.  3. 13. 15.  4. 11.\n",
      " 19.  7.]\n",
      "[17. 12.  1. 10.  5.  6.  9. 16. 18.  0. 14.  8.  2.  3. 13. 15.  4. 11.\n",
      " 19.  7.]\n",
      "[17. 12.  1. 10.  5.  6.  9. 16. 18.  0. 14.  8.  2.  3. 13. 15.  4. 11.\n",
      " 19.  7.]\n"
     ]
    }
   ],
   "source": [
    "mixed_tour1=mixed1(random_tour,distance_matrix)[0]"
   ]
  },
  {
   "cell_type": "code",
   "execution_count": 1029,
   "metadata": {},
   "outputs": [],
   "source": [
    "#plot optimized tour (mixed_tour1)\n",
    "x_opttour4=np.zeros(n+2)\n",
    "y_opttour4=np.zeros(n+2)\n",
    "\n",
    "for i in range(1,n+1):\n",
    "    x_opttour4[i]=x_depot_costumers[int(mixed_tour1[i-1])+1]\n",
    "    y_opttour4[i]=y_depot_costumers[int(mixed_tour1[i-1])+1]"
   ]
  },
  {
   "cell_type": "code",
   "execution_count": 1030,
   "metadata": {},
   "outputs": [],
   "source": [
    "#plot optimized tour (mixed_tour2)\n",
    "x_opttour3=np.zeros(n+2)\n",
    "y_opttour3=np.zeros(n+2)\n",
    "\n",
    "for i in range(1,n+1):\n",
    "    x_opttour3[i]=x_depot_costumers[int(mixed_tour2[i-1])+1]\n",
    "    y_opttour3[i]=y_depot_costumers[int(mixed_tour2[i-1])+1]"
   ]
  },
  {
   "cell_type": "code",
   "execution_count": 1031,
   "metadata": {},
   "outputs": [
    {
     "data": {
      "text/plain": [
       "[<matplotlib.lines.Line2D at 0x7fd96266fcd0>]"
      ]
     },
     "execution_count": 1031,
     "metadata": {},
     "output_type": "execute_result"
    },
    {
     "data": {
      "image/png": "[encoded data removed]",
      "text/plain": [
       "<Figure size 432x288 with 1 Axes>"
      ]
     },
     "metadata": {
      "needs_background": "light"
     },
     "output_type": "display_data"
    }
   ],
   "source": [
    "plt.plot(x_opttour2,y_opttour2) #tour after costumer replacements"
   ]
  },
  {
   "cell_type": "code",
   "execution_count": 1038,
   "metadata": {},
   "outputs": [
    {
     "data": {
      "text/plain": [
       "86.43328601581157"
      ]
     },
     "execution_count": 1038,
     "metadata": {},
     "output_type": "execute_result"
    }
   ],
   "source": [
    "multreplace(random_tour,distance_matrix)[1]"
   ]
  },
  {
   "cell_type": "code",
   "execution_count": 1032,
   "metadata": {},
   "outputs": [
    {
     "data": {
      "text/plain": [
       "[<matplotlib.lines.Line2D at 0x7fd9627db610>]"
      ]
     },
     "execution_count": 1032,
     "metadata": {},
     "output_type": "execute_result"
    },
    {
     "data": {
      "image/png": "[encoded data removed]",
      "text/plain": [
       "<Figure size 432x288 with 1 Axes>"
      ]
     },
     "metadata": {
      "needs_background": "light"
     },
     "output_type": "display_data"
    }
   ],
   "source": [
    "plt.plot(x_opttour,y_opttour) #2-opt solution"
   ]
  },
  {
   "cell_type": "code",
   "execution_count": 1037,
   "metadata": {},
   "outputs": [
    {
     "data": {
      "text/plain": [
       "90.63408831453421"
      ]
     },
     "execution_count": 1037,
     "metadata": {},
     "output_type": "execute_result"
    }
   ],
   "source": [
    "twoopt(random_tour,distance_matrix)[1]"
   ]
  },
  {
   "cell_type": "code",
   "execution_count": 1033,
   "metadata": {},
   "outputs": [
    {
     "data": {
      "text/plain": [
       "[<matplotlib.lines.Line2D at 0x7fd962907fd0>]"
      ]
     },
     "execution_count": 1033,
     "metadata": {},
     "output_type": "execute_result"
    },
    {
     "data": {
      "image/png": "[encoded data removed]",
      "text/plain": [
       "<Figure size 432x288 with 1 Axes>"
      ]
     },
     "metadata": {
      "needs_background": "light"
     },
     "output_type": "display_data"
    }
   ],
   "source": [
    "plt.plot(x_opttour4,y_opttour4) #tour after mixed1"
   ]
  },
  {
   "cell_type": "code",
   "execution_count": 1035,
   "metadata": {},
   "outputs": [
    {
     "name": "stdout",
     "output_type": "stream",
     "text": [
      "[19  9 13 17  0 12 14 16  6  2  3 11 15 10  8  7  5  1 18  4]\n",
      "[17.  7.  4. 19. 11. 12.  1. 10.  5.  6.  9. 16.  0. 14.  8.  3.  2. 15.\n",
      " 13. 18.]\n",
      "[17.  7. 19. 11. 12.  1. 10.  5.  6.  9. 16. 18.  0. 14.  8.  2.  3. 13.\n",
      " 15.  4.]\n",
      "[17. 12.  1. 10.  5.  6.  9. 16. 18.  0. 14.  8.  2.  3. 13. 15.  4. 11.\n",
      " 19.  7.]\n",
      "[17. 12.  1. 10.  5.  6.  9. 16. 18.  0. 14.  8.  2.  3. 13. 15.  4. 11.\n",
      " 19.  7.]\n",
      "[17. 12.  1. 10.  5.  6.  9. 16. 18.  0. 14.  8.  2.  3. 13. 15.  4. 11.\n",
      " 19.  7.]\n",
      "[17. 12.  1. 10.  5.  6.  9. 16. 18.  0. 14.  8.  2.  3. 13. 15.  4. 11.\n",
      " 19.  7.]\n",
      "[17. 12.  1. 10.  5.  6.  9. 16. 18.  0. 14.  8.  2.  3. 13. 15.  4. 11.\n",
      " 19.  7.]\n"
     ]
    },
    {
     "data": {
      "text/plain": [
       "81.14516793022223"
      ]
     },
     "execution_count": 1035,
     "metadata": {},
     "output_type": "execute_result"
    }
   ],
   "source": [
    "mixed1(random_tour,distance_matrix)[1]"
   ]
  },
  {
   "cell_type": "code",
   "execution_count": 1034,
   "metadata": {},
   "outputs": [
    {
     "data": {
      "text/plain": [
       "[<matplotlib.lines.Line2D at 0x7fd96285ed00>]"
      ]
     },
     "execution_count": 1034,
     "metadata": {},
     "output_type": "execute_result"
    },
    {
     "data": {
      "image/png": "[encoded data removed]",
      "text/plain": [
       "<Figure size 432x288 with 1 Axes>"
      ]
     },
     "metadata": {
      "needs_background": "light"
     },
     "output_type": "display_data"
    }
   ],
   "source": [
    "plt.plot(x_opttour3,y_opttour3) #tour after mixed2"
   ]
  },
  {
   "cell_type": "code",
   "execution_count": 1036,
   "metadata": {},
   "outputs": [
    {
     "name": "stdout",
     "output_type": "stream",
     "text": [
      "[19  9 13 17  0 12 14 16  6  2  3 11 15 10  8  7  5  1 18  4]\n",
      "[ 6.  9. 16. 18.  0. 14.  8.  2.  3. 13. 15.  4. 11. 19.  7. 17. 12.  1.\n",
      " 10.  5.]\n",
      "[ 6.  9. 16. 18.  0. 14.  8.  2.  3. 13. 15.  4. 11. 19.  7. 17. 12.  1.\n",
      " 10.  5.]\n",
      "[ 6.  9. 16. 18.  0. 14.  8.  2.  3. 13. 15.  4. 11. 19.  7. 17. 12.  1.\n",
      " 10.  5.]\n",
      "[ 6.  9. 16. 18.  0. 14.  8.  2.  3. 13. 15.  4. 11. 19.  7. 17. 12.  1.\n",
      " 10.  5.]\n",
      "[ 6.  9. 16. 18.  0. 14.  8.  2.  3. 13. 15.  4. 11. 19.  7. 17. 12.  1.\n",
      " 10.  5.]\n",
      "[ 6.  9. 16. 18.  0. 14.  8.  2.  3. 13. 15.  4. 11. 19.  7. 17. 12.  1.\n",
      " 10.  5.]\n",
      "[ 6.  9. 16. 18.  0. 14.  8.  2.  3. 13. 15.  4. 11. 19.  7. 17. 12.  1.\n",
      " 10.  5.]\n"
     ]
    },
    {
     "data": {
      "text/plain": [
       "86.43328601581157"
      ]
     },
     "execution_count": 1036,
     "metadata": {},
     "output_type": "execute_result"
    }
   ],
   "source": [
    "mixed2(random_tour,distance_matrix)[1]"
   ]
  },
  {
   "cell_type": "markdown",
   "metadata": {},
   "source": [
    "# Runtimes"
   ]
  },
  {
   "cell_type": "code",
   "execution_count": null,
   "metadata": {},
   "outputs": [],
   "source": [
    "#runtime of one first improvement stmaep should be half as long as a complete search step on average"
   ]
  },
  {
   "cell_type": "code",
   "execution_count": 1046,
   "metadata": {},
   "outputs": [],
   "source": [
    "#complete strategy:\n",
    "\n",
    "def tour_replace_fullsearch(random_tour,tour_length):\n",
    "    \n",
    "    new_tour=np.zeros(n)\n",
    "    for m in range(0,n):\n",
    "        new_tour[m]=int(random_tour[m])\n",
    "        \n",
    "    current_length=0\n",
    "    l=tour_length\n",
    "    a=0\n",
    "    \n",
    "    for i in range(0,n): #pick the position of the costumer to replace #PROBLEM: doesn't increase i!!!\n",
    "        \n",
    "        #print('i:',i)\n",
    "        \n",
    "        replace=int(new_tour[i]) #costumer-1\n",
    "        #print(replace)\n",
    "        \n",
    "        for j in range(0,n): #pick new spot for the costumer\n",
    "            \n",
    "            #print('j:',j)\n",
    "            \n",
    "            if i==j:\n",
    "                #print(\"gleich\")\n",
    "                continue #no change would happen\n",
    "               \n",
    "            \n",
    "            new_tour=np.zeros(n)\n",
    "            for m in range(0,n):\n",
    "                new_tour[m]=int(random_tour[m])\n",
    "               \n",
    "            \n",
    "            loop_tour=np.zeros(n)\n",
    "            for m in range(0,n): #create the new tour\n",
    "                loop_tour[m]=int(new_tour[m])\n",
    "                \n",
    "            #print(loop_tour)\n",
    "            \n",
    "            loop_tour[j]=replace\n",
    "                \n",
    "            for m in range(0,n):\n",
    "                                 \n",
    "                if j>i:\n",
    "                        \n",
    "                    if m>=i and m<j:\n",
    "                        \n",
    "                        loop_tour[m]=new_tour[m+1]\n",
    "                        #print(new_tour[m+1])\n",
    "                                        \n",
    "                if j<i:\n",
    "                        \n",
    "                    if m>j and m<=i:\n",
    "                        \n",
    "                        loop_tour[m]=new_tour[m-1]\n",
    "                        #print(new_tour[m-1])\n",
    "                        \n",
    "            #print(loop_tour)                \n",
    "                        \n",
    "            current_length=length_of_tour(loop_tour,distance_matrix) #length of the created tour\n",
    "            #print(current_length)\n",
    "                \n",
    "            if current_length<l and current_length>0:\n",
    "                new_tour=loop_tour\n",
    "                l=current_length\n",
    "                #print(l)\n",
    "                #print(loop_tour)\n",
    "                a=1\n",
    "                #break\n",
    "                    \n",
    "        #if a==1:\n",
    "            #break\n",
    "                \n",
    "    return new_tour,l\n",
    "                    "
   ]
  },
  {
   "cell_type": "code",
   "execution_count": 1050,
   "metadata": {},
   "outputs": [],
   "source": [
    "def twoopt_fullsearch(new_tour,distance_matrix,tour_length):\n",
    "    \n",
    "    for i in range(2,n): #size of segment; 1 and n don't change the tour\n",
    "        for j in range(0,n-i+1): #start of segment j end of segment i+j-1\n",
    "            \n",
    "            loop_tour=np.zeros(n)\n",
    "            for m in range(0,n):\n",
    "                loop_tour[m]=int(new_tour[m])\n",
    "            \n",
    "            inverse_segment=np.zeros(i)\n",
    "            \n",
    "            for m in range(0,i):\n",
    "                inverse_segment[m]=loop_tour[j:i+j][::-1][m]\n",
    "                \n",
    "            s=0\n",
    "            \n",
    "            for k in range(j,i+j): #create the new tour\n",
    "                while s<i:\n",
    "                    loop_tour[j+s]=inverse_segment[s]\n",
    "                    #print(inverse_segment[s])\n",
    "                    s=s+1\n",
    "                \n",
    "            current_l=length_of_tour(loop_tour,distance_matrix)\n",
    "            #print(l)\n",
    "        \n",
    "            if current_l<tour_length: #do change the tour if an improvement is found\n",
    "                #new_tour_length=current_l\n",
    "                new_tour=loop_tour\n",
    "                #print(loop_tour)\n",
    "                #break\n",
    "            \n",
    "            #else:\n",
    "                #new_tour=np.zeros(n)\n",
    "                #for m in range(0,n):\n",
    "                    #new_tour[m]=int(random_tour[m])\n",
    "                    \n",
    "        #if current_l<tour_length: #do change the tour if an improvement is found\n",
    "            #break\n",
    "                    \n",
    "    return new_tour,current_l\n",
    "      "
   ]
  },
  {
   "cell_type": "code",
   "execution_count": 1066,
   "metadata": {},
   "outputs": [],
   "source": [
    "#size of neighborhood: n*(n-1)\n",
    "\n",
    "start = time.time()\n",
    "\n",
    "for i in range(0,100):\n",
    "    #print(i)\n",
    "    tour_replace_fullsearch(random_tour,tour_length)\n",
    "    \n",
    "end = time.time()"
   ]
  },
  {
   "cell_type": "code",
   "execution_count": 1067,
   "metadata": {},
   "outputs": [
    {
     "name": "stdout",
     "output_type": "stream",
     "text": [
      "1.365s\n"
     ]
    }
   ],
   "source": [
    "print('{:5.3f}s'.format(end-start))"
   ]
  },
  {
   "cell_type": "code",
   "execution_count": 1060,
   "metadata": {},
   "outputs": [],
   "source": [
    "#size of neighborhood: 0.5*n*(n-3) #both neighborhoods have a size quadratic in n\n",
    "\n",
    "start = time.time()\n",
    "\n",
    "for i in range(0,100):\n",
    "    #print(i)\n",
    "    twoopt_fullsearch(new_tour,distance_matrix,tour_length)\n",
    "    \n",
    "end = time.time()"
   ]
  },
  {
   "cell_type": "code",
   "execution_count": 1061,
   "metadata": {},
   "outputs": [
    {
     "name": "stdout",
     "output_type": "stream",
     "text": [
      "0.683s\n"
     ]
    }
   ],
   "source": [
    "print('{:5.3f}s'.format(end-start))"
   ]
  },
  {
   "cell_type": "code",
   "execution_count": 1072,
   "metadata": {},
   "outputs": [],
   "source": [
    "x = np.linspace(-0,50,10000)\n",
    "y = (x**2)-x\n",
    "z = ((x**2)-3*x)*0.5"
   ]
  },
  {
   "cell_type": "code",
   "execution_count": 1076,
   "metadata": {},
   "outputs": [
    {
     "data": {
      "image/png": "[encoded data removed]",
      "text/plain": [
       "<Figure size 432x288 with 1 Axes>"
      ]
     },
     "metadata": {
      "needs_background": "light"
     },
     "output_type": "display_data"
    }
   ],
   "source": [
    "plt.plot(x,y,color='red') #replace costumer\n",
    "plt.plot(x,z,color='blue') #2-opt\n",
    "plt.show()"
   ]
  },
  {
   "cell_type": "code",
   "execution_count": null,
   "metadata": {},
   "outputs": [],
   "source": []
  }
 ],
 "metadata": {
  "kernelspec": {
   "display_name": "Python 3",
   "language": "python",
   "name": "python3"
  },
  "language_info": {
   "codemirror_mode": {
    "name": "ipython",
    "version": 3
   },
   "file_extension": ".py",
   "mimetype": "text/x-python",
   "name": "python",
   "nbconvert_exporter": "python",
   "pygments_lexer": "ipython3",
   "version": "3.8.5"
  }
 },
 "nbformat": 4,
 "nbformat_minor": 5
}
