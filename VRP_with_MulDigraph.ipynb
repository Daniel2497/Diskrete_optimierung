{
 "cells": [
  {
   "cell_type": "code",
   "execution_count": 1,
   "metadata": {},
   "outputs": [],
   "source": [
    "import networkx as nx\n",
    "import csv\n",
    "import math\n",
    "import time\n",
    "import random\n",
    "import numpy as np\n",
    "import matplotlib.pyplot as plt\n",
    "from sklearn.linear_model import LinearRegression"
   ]
  },
  {
   "cell_type": "code",
   "execution_count": 2,
   "metadata": {},
   "outputs": [],
   "source": [
    "G_all_roads = nx.MultiDiGraph()\n",
    "both_false=[]\n",
    "with open('Straßengraph/edges_th_with_frc.csv', newline='') as csvfile:\n",
    "    with open('Straßengraph/coordinates_th.csv', newline='') as coordinates:    \n",
    "        spamreader = csv.reader(csvfile, delimiter=';')\n",
    "        cooreader = csv.reader(coordinates, delimiter=';')\n",
    "        count=0\n",
    "        coorrows = list(cooreader)\n",
    "        for row in spamreader:        \n",
    "            Id,u,v,length,maxspeed, maxspeedtrucks, IsF, IsB, Frc=row\n",
    "            #print(type(Id))\n",
    "            #print(Id)\n",
    "            #interestingrows=[row for idx, row in enumerate(cooreader) if idx ==int(Id)]\n",
    "            #interestingrows=[row2 for idx, row2 in enumerate(cooreader) if idx ==2]\n",
    "            #print(coorrow[int(Id)])\n",
    "            coorrow=coorrows[int(Id)]\n",
    "            #length_of_coorrow=len(coorrow[int(Id)])\n",
    "            #print(interestingrows)\n",
    "            if(IsF=='True'):#forward=True\n",
    "            #print(length1)\n",
    "                G_all_roads.add_node(u,y=coorrow[1],x=coorrow[2])\n",
    "                G_all_roads.add_node(v,y=coorrow[-2],x=coorrow[-1])\n",
    "                G_all_roads.add_edge(u,v,Id=Id,length=int(length),maxspeed=float(maxspeed),maxspeedtrucks=float(maxspeedtrucks),\n",
    "                            y1=coorrow[1],x1=coorrow[2],y2=coorrow[-2],x2=coorrow[-1],frc=int(Frc),time=int(length)/float(maxspeedtrucks))\n",
    "            #WEprint(int(list(row)[1]), int(list(row)[2]))\n",
    "            if(IsB=='True'):#forward=True\n",
    "                G_all_roads.add_node(u,y=coorrow[1],x=coorrow[2])\n",
    "                G_all_roads.add_node(v,y=coorrow[-2],x=coorrow[-1])\n",
    "                G_all_roads.add_edge(v,u,Id=Id,length=int(length),maxspeed=float(maxspeed),maxspeedtrucks=float(maxspeedtrucks),\n",
    "                           y1=coorrow[1],x1=coorrow[2],y2=coorrow[-2],x2=coorrow[-1],frc=int(Frc),time=int(length)/float(maxspeedtrucks))\n",
    "            #if(IsF!='True' and IsB !=\"True\"):\n",
    "            #   both_false.append(Id)\n",
    "            #count+=1\n",
    "            #if count>3:\n",
    "            #    break"
   ]
  },
  {
   "cell_type": "code",
   "execution_count": 5,
   "metadata": {},
   "outputs": [
    {
     "data": {
      "text/plain": [
       "5000622"
      ]
     },
     "execution_count": 5,
     "metadata": {},
     "output_type": "execute_result"
    }
   ],
   "source": [
    "len(G_all_roads.edges())"
   ]
  },
  {
   "cell_type": "code",
   "execution_count": 6,
   "metadata": {},
   "outputs": [
    {
     "data": {
      "text/plain": [
       "('5585166', '5256307')"
      ]
     },
     "execution_count": 6,
     "metadata": {},
     "output_type": "execute_result"
    }
   ],
   "source": [
    "edgelist=list(G_all_roads.edges())\n",
    "edgelist[42]"
   ]
  },
  {
   "cell_type": "code",
   "execution_count": 3,
   "metadata": {},
   "outputs": [],
   "source": [
    "coory=nx.get_node_attributes(G_all_roads,\"y\")\n",
    "coorx=nx.get_node_attributes(G_all_roads,\"x\")\n",
    "def dist(a, b):\n",
    "    x1=float(coorx[a])\n",
    "    x2=float(coorx[b])\n",
    "    y1=float(coory[a])\n",
    "    y2=float(coory[b])\n",
    "    return(math.sqrt(((x1-x2)*71)**2+((y1-y2)*111)**2)*1000*100)"
   ]
  },
  {
   "cell_type": "code",
   "execution_count": null,
   "metadata": {},
   "outputs": [],
   "source": [
    "##Get the edges from the "
   ]
  },
  {
   "cell_type": "code",
   "execution_count": 4,
   "metadata": {},
   "outputs": [],
   "source": [
    "ID_dict=nx.get_edge_attributes(G_all_roads,\"Id\")\n"
   ]
  },
  {
   "cell_type": "code",
   "execution_count": 9,
   "metadata": {},
   "outputs": [
    {
     "data": {
      "text/plain": [
       "'0'"
      ]
     },
     "execution_count": 9,
     "metadata": {},
     "output_type": "execute_result"
    }
   ],
   "source": [
    "ID_dict[('5183695', '5279099',0)]"
   ]
  },
  {
   "cell_type": "code",
   "execution_count": 10,
   "metadata": {},
   "outputs": [],
   "source": [
    "len_dict=nx.get_node_attributes(G_all_roads,\"length\")"
   ]
  },
  {
   "cell_type": "code",
   "execution_count": 20,
   "metadata": {},
   "outputs": [
    {
     "ename": "TypeError",
     "evalue": "'dict' object is not callable",
     "output_type": "error",
     "traceback": [
      "\u001b[0;31m---------------------------------------------------------------------------\u001b[0m",
      "\u001b[0;31mTypeError\u001b[0m                                 Traceback (most recent call last)",
      "\u001b[0;32m<ipython-input-20-39f1eff92aea>\u001b[0m in \u001b[0;36m<module>\u001b[0;34m\u001b[0m\n\u001b[0;32m----> 1\u001b[0;31m \u001b[0mlen_dict\u001b[0m\u001b[0;34m(\u001b[0m\u001b[0;34m)\u001b[0m\u001b[0;34m\u001b[0m\u001b[0;34m\u001b[0m\u001b[0m\n\u001b[0m",
      "\u001b[0;31mTypeError\u001b[0m: 'dict' object is not callable"
     ]
    }
   ],
   "source": [
    "len_dict()"
   ]
  },
  {
   "cell_type": "code",
   "execution_count": 11,
   "metadata": {},
   "outputs": [
    {
     "name": "stdout",
     "output_type": "stream",
     "text": [
      "IDs von der follgenden nodes\n",
      "64104\n",
      "410014\n"
     ]
    }
   ],
   "source": [
    "print(\"IDs von der follgenden nodes\")\n",
    "print(ID_dict[('5585166', '5256307',0)])\n",
    "print(ID_dict[('5585166', '5256307',1)])\n",
    "##Nun die Frage, wie kommt man zur ID die node"
   ]
  },
  {
   "cell_type": "code",
   "execution_count": 36,
   "metadata": {},
   "outputs": [
    {
     "data": {
      "text/plain": [
       "5000622"
      ]
     },
     "execution_count": 36,
     "metadata": {},
     "output_type": "execute_result"
    }
   ],
   "source": [
    "len(ID_dict)"
   ]
  },
  {
   "cell_type": "code",
   "execution_count": 37,
   "metadata": {},
   "outputs": [
    {
     "name": "stdout",
     "output_type": "stream",
     "text": [
      "<class 'dict'>\n"
     ]
    }
   ],
   "source": [
    "print(type(ID_dict)) "
   ]
  },
  {
   "cell_type": "code",
   "execution_count": 5,
   "metadata": {},
   "outputs": [],
   "source": [
    "def get_key(val,my_dict):\n",
    "    for key, value in my_dict.items():\n",
    "        if val == value:\n",
    "            return key\n",
    " \n",
    "    return \"key doesn't exist\""
   ]
  },
  {
   "cell_type": "code",
   "execution_count": 40,
   "metadata": {},
   "outputs": [
    {
     "data": {
      "text/plain": [
       "('5585166', '5256307', 0)"
      ]
     },
     "execution_count": 40,
     "metadata": {},
     "output_type": "execute_result"
    }
   ],
   "source": [
    "get_key(\"64104\",ID_dict)"
   ]
  },
  {
   "cell_type": "markdown",
   "metadata": {},
   "source": [
    "## Import edges from VRP File"
   ]
  },
  {
   "cell_type": "code",
   "execution_count": 6,
   "metadata": {},
   "outputs": [
    {
     "name": "stdout",
     "output_type": "stream",
     "text": [
      "693943\n"
     ]
    }
   ],
   "source": [
    "X=[]\n",
    "with open('VRP-Instanz/Vrp_500_Jena_Edge_Ids.csv', newline= '') as csvfile:\n",
    "    spamreader = csv.reader(csvfile, delimiter=' ')\n",
    "    for row in spamreader:\n",
    "        X.append(list(row))\n",
    "#print(X)\n",
    "print(X[0][0])"
   ]
  },
  {
   "cell_type": "code",
   "execution_count": 14,
   "metadata": {},
   "outputs": [
    {
     "data": {
      "text/plain": [
       "'814370'"
      ]
     },
     "execution_count": 14,
     "metadata": {},
     "output_type": "execute_result"
    }
   ],
   "source": [
    "X[2][0]"
   ]
  },
  {
   "cell_type": "code",
   "execution_count": 7,
   "metadata": {},
   "outputs": [
    {
     "data": {
      "text/plain": [
       "[('7140733', '6987419', 0),\n",
       " ('7066481', '7063253', 0),\n",
       " ('7074142', '10387801', 0),\n",
       " ('7232020', '7232021', 0),\n",
       " ('7239123', '7501696', 0),\n",
       " ('7700834', '7255970', 0),\n",
       " ('7332686', '7332687', 0),\n",
       " ('7444399', '7553704', 0),\n",
       " ('7502863', '7454741', 0),\n",
       " ('7602588', '7602589', 0),\n",
       " ('7195600', '6987384', 0),\n",
       " ('7059662', '7059661', 0),\n",
       " ('7142715', '7261572', 0),\n",
       " ('7265053', '7303486', 0),\n",
       " ('7283834', '7645358', 0),\n",
       " ('9412886', '7303782', 0),\n",
       " ('8583914', '7557152', 0),\n",
       " ('7347787', '7217536', 0),\n",
       " ('7178880', '7137313', 0),\n",
       " ('7498574', '7669226', 0),\n",
       " ('7019011', '7337232', 0),\n",
       " ('7231297', '7231296', 0),\n",
       " ('7155576', '7143031', 0),\n",
       " ('7173212', '7173211', 0),\n",
       " ('7134195', '7134194', 0),\n",
       " ('7134195', '7134194', 0),\n",
       " ('7204191', '7173208', 0),\n",
       " ('7211905', '7211904', 0),\n",
       " ('8635076', '7271180', 0),\n",
       " ('7266612', '7606939', 0),\n",
       " ('7392536', '7392537', 0),\n",
       " ('9392994', '7440585', 0),\n",
       " ('7254906', '7271815', 0),\n",
       " ('7278726', '7240903', 0),\n",
       " ('7346991', '7346992', 0),\n",
       " ('11679974', '7390832', 0),\n",
       " ('7230614', '7142521', 0),\n",
       " ('7227209', '7210576', 0),\n",
       " ('7380343', '7364259', 0),\n",
       " ('10364549', '7688168', 0),\n",
       " ('7282035', '12361369', 0),\n",
       " ('7369361', '7324363', 0),\n",
       " ('7176446', '8569080', 0),\n",
       " ('8594404', '6982815', 0),\n",
       " ('7035696', '6986472', 0),\n",
       " ('7288242', '7242205', 0),\n",
       " ('9125374', '7480915', 0),\n",
       " ('7578381', '7244820', 0),\n",
       " ('8474227', '7336429', 0),\n",
       " ('7599703', '6977237', 0),\n",
       " ('7309665', '7303609', 0),\n",
       " ('7267407', '7267405', 0),\n",
       " ('7258613', '7255651', 0),\n",
       " ('7205339', '7384481', 0),\n",
       " ('12258538', '7408791', 0),\n",
       " ('7217526', '7154950', 0),\n",
       " ('7270214', '6967844', 0),\n",
       " ('7248469', '7248468', 0),\n",
       " ('12193967', '12196736', 0),\n",
       " ('11679416', '7329306', 0),\n",
       " ('7290188', '7514218', 0),\n",
       " ('7126488', '7079207', 0),\n",
       " ('7329256', '7269770', 0),\n",
       " ('7262621', '7175118', 0),\n",
       " ('7529906', '7263264', 0),\n",
       " ('6968325', '7004730', 0),\n",
       " ('7215815', '7344133', 0),\n",
       " ('6965793', '12361727', 0),\n",
       " ('7700933', '7807627', 0),\n",
       " ('7543354', '7568695', 0),\n",
       " ('7140713', '7489789', 0),\n",
       " ('5451948', '5550007', 0),\n",
       " ('7170632', '8828129', 0),\n",
       " ('7163746', '7153057', 0),\n",
       " ('7359715', '7739687', 0),\n",
       " ('7479233', '7731256', 0),\n",
       " ('7251314', '7272063', 0),\n",
       " ('7171780', '7033992', 0),\n",
       " ('7258518', '7335071', 0),\n",
       " ('7566419', '7553984', 0),\n",
       " ('7036432', '10434486', 0),\n",
       " ('7051007', '7041734', 0),\n",
       " ('9452749', '9451967', 0),\n",
       " ('7294546', '7294547', 0),\n",
       " ('7657568', '7327459', 0),\n",
       " ('8581070', '8581073', 0),\n",
       " ('7210328', '7172990', 0),\n",
       " ('7299565', '7306107', 0),\n",
       " ('7353441', '7252493', 0),\n",
       " ('7338329', '7302249', 0),\n",
       " ('7544573', '7309773', 0),\n",
       " ('7175689', '7211413', 0),\n",
       " ('7269916', '6964438', 0),\n",
       " ('7445990', '7151057', 0),\n",
       " ('7146855', '7536967', 0),\n",
       " ('7162506', '7139675', 0),\n",
       " ('8864192', '8881733', 0),\n",
       " ('7343945', '7184827', 0),\n",
       " ('10390125', '6978478', 0),\n",
       " ('7459996', '7701564', 0),\n",
       " ('7191075', '7191077', 0),\n",
       " ('7440533', '7440531', 0),\n",
       " ('7528009', '11678459', 0),\n",
       " ('7283865', '7283864', 0),\n",
       " ('7345141', '7345139', 0),\n",
       " ('7624364', '7606359', 0),\n",
       " ('7468656', '7423813', 0),\n",
       " ('7756056', '7393590', 0),\n",
       " ('7756056', '7393590', 0),\n",
       " ('12259603', '7426353', 0),\n",
       " ('7042185', '7036696', 0),\n",
       " ('7168174', '7172926', 0),\n",
       " ('11678826', '11678825', 0),\n",
       " ('7232299', '7523488', 0),\n",
       " ('7276065', '6964767', 0),\n",
       " ('7245786', '7310017', 0),\n",
       " ('7127007', '7051782', 0),\n",
       " ('7354501', '7348012', 0),\n",
       " ('7756577', '6999264', 0),\n",
       " ('7573962', '7634894', 0),\n",
       " ('7541891', '7541890', 0),\n",
       " ('8583763', '6982433', 0),\n",
       " ('7426295', '7126809', 0),\n",
       " ('7150114', '6969681', 0),\n",
       " ('7147879', '7202268', 0),\n",
       " ('7484240', '7018856', 0),\n",
       " ('7455011', '7455012', 0),\n",
       " ('7017724', '7017723', 0),\n",
       " ('7013933', '7016351', 0),\n",
       " ('7315319', '7271807', 0),\n",
       " ('7175715', '7551679', 0),\n",
       " ('7351131', '7468899', 0),\n",
       " ('7008807', '7020068', 0),\n",
       " ('7369657', '7418134', 0),\n",
       " ('7245802', '7311409', 0),\n",
       " ('7327988', '7316919', 0),\n",
       " ('7323012', '7323011', 0),\n",
       " ('7339172', '7252135', 0),\n",
       " ('11679384', '7196280', 0),\n",
       " ('7093075', '7110833', 0),\n",
       " ('7518352', '7451486', 0),\n",
       " ('7324910', '7519115', 0),\n",
       " ('6963838', '7418824', 0),\n",
       " ('7223497', '7404045', 0),\n",
       " ('7079276', '7107888', 0),\n",
       " ('8582074', '7049946', 0),\n",
       " ('7442710', '7441954', 0),\n",
       " ('7205389', '7252570', 0),\n",
       " ('7290699', '7324889', 0),\n",
       " ('7310446', '7035942', 0),\n",
       " ('7228321', '7297735', 0),\n",
       " ('7279598', '6989051', 0),\n",
       " ('5474671', '5534304', 0),\n",
       " ('7266328', '7420112', 0),\n",
       " ('7001287', '8583952', 0),\n",
       " ('7429123', '7236941', 0),\n",
       " ('6981778', '7000958', 0),\n",
       " ('7393311', '7330546', 0),\n",
       " ('7549675', '7430230', 0),\n",
       " ('7039297', '7035644', 0),\n",
       " ('8633797', '7281785', 0),\n",
       " ('10361654', '7289308', 0),\n",
       " ('7591917', '9108518', 1),\n",
       " ('5438723', '5455432', 0),\n",
       " ('7062870', '9496353', 0),\n",
       " ('7303287', '7551505', 0),\n",
       " ('8891889', '7236926', 0),\n",
       " ('7272579', '7317522', 0),\n",
       " ('7053072', '7053071', 0),\n",
       " ('7193574', '7272178', 0),\n",
       " ('7558384', '7597411', 0),\n",
       " ('7254013', '7286391', 0),\n",
       " ('8654810', '7790453', 0),\n",
       " ('9146411', '9143843', 0),\n",
       " ('7328733', '7360335', 0),\n",
       " ('7197220', '7334837', 0),\n",
       " ('7484325', '7140203', 0),\n",
       " ('7442542', '7039753', 0),\n",
       " ('7199447', '7154576', 0),\n",
       " ('7274991', '7274990', 0),\n",
       " ('12283822', '7179287', 0),\n",
       " ('7147754', '7147755', 0),\n",
       " ('7044983', '7052109', 0),\n",
       " ('7156598', '7047906', 0),\n",
       " ('7322075', '7387687', 0),\n",
       " ('7410999', '7239503', 0),\n",
       " ('7519773', '7050848', 0),\n",
       " ('7323470', '7267199', 0),\n",
       " ('7206009', '7019915', 0),\n",
       " ('6987420', '7299440', 0),\n",
       " ('7035199', '7023369', 0),\n",
       " ('7043871', '7043870', 0),\n",
       " ('7227349', '7520751', 0),\n",
       " ('7352628', '7326534', 0),\n",
       " ('7177748', '9116863', 0),\n",
       " ('7115579', '7115580', 0),\n",
       " ('7523486', '7225249', 0),\n",
       " ('7312371', '7589001', 0),\n",
       " ('7212735', '7234445', 0),\n",
       " ('7250295', '7116161', 0),\n",
       " ('9143931', '7373726', 0),\n",
       " ('9381113', '7746192', 0),\n",
       " ('7377855', '7751895', 0),\n",
       " ('7331009', '7541976', 0),\n",
       " ('7215923', '7205026', 0),\n",
       " ('7452742', '7036712', 0),\n",
       " ('7236011', '6965103', 0),\n",
       " ('7031670', '7054887', 0),\n",
       " ('7272567', '7320324', 0),\n",
       " ('7270657', '7447421', 0),\n",
       " ('6961775', '10377702', 0),\n",
       " ('7199901', '7258435', 0),\n",
       " ('7253915', '7317142', 0),\n",
       " ('7333328', '7307607', 0),\n",
       " ('7332921', '7548912', 0),\n",
       " ('7362128', '7602302', 0),\n",
       " ('7503720', '7503721', 0),\n",
       " ('7235698', '7268356', 0),\n",
       " ('7261777', '12629080', 0),\n",
       " ('6996197', '7166198', 0),\n",
       " ('7619321', '6964432', 0),\n",
       " ('6970644', '7331016', 0),\n",
       " ('7030987', '6965512', 0),\n",
       " ('7234839', '7234840', 0),\n",
       " ('9091239', '9111644', 0),\n",
       " ('7385591', '7385590', 0),\n",
       " ('7561291', '7352623', 0),\n",
       " ('7190692', '7166901', 0),\n",
       " ('8876018', '7212957', 0),\n",
       " ('7273679', '7432191', 0),\n",
       " ('7488635', '7485774', 0),\n",
       " ('7164841', '7202393', 0),\n",
       " ('7460977', '7186162', 0),\n",
       " ('7115016', '7020785', 0),\n",
       " ('7323941', '7239450', 0),\n",
       " ('7100468', '7028371', 0),\n",
       " ('7304192', '7295167', 0),\n",
       " ('7386198', '7157014', 0),\n",
       " ('7753952', '7497215', 0),\n",
       " ('7113855', '7054075', 0),\n",
       " ('7230625', '7363921', 0),\n",
       " ('7348664', '7295108', 0),\n",
       " ('7292723', '7205974', 0),\n",
       " ('7796542', '7307281', 0),\n",
       " ('7222058', '7245761', 0),\n",
       " ('10418205', '7156314', 0),\n",
       " ('12281459', '7249469', 0),\n",
       " ('6984049', '7238208', 0),\n",
       " ('7273981', '7573950', 0),\n",
       " ('11681579', '7149653', 0),\n",
       " ('7333061', '7387355', 0),\n",
       " ('7186741', '7163727', 0),\n",
       " ('6993259', '6994881', 0),\n",
       " ('7386291', '7366696', 0),\n",
       " ('8776613', '7191151', 0),\n",
       " ('10369298', '7116250', 0),\n",
       " ('7198927', '7033974', 0),\n",
       " ('7198924', '7619398', 0),\n",
       " ('7251154', '7249107', 0),\n",
       " ('7177111', '7191205', 0),\n",
       " ('7482327', '7259875', 0),\n",
       " ('7171399', '7199868', 0),\n",
       " ('7156115', '7287085', 0),\n",
       " ('7355946', '7154946', 0),\n",
       " ('7201191', '7201190', 0),\n",
       " ('7188034', '6965573', 0),\n",
       " ('7495934', '7255330', 0),\n",
       " ('7359091', '7263480', 0),\n",
       " ('7035082', '7518928', 0),\n",
       " ('7246814', '7246815', 0),\n",
       " ('7294184', '7563557', 0),\n",
       " ('7302763', '7264935', 0),\n",
       " ('7172943', '7171989', 0),\n",
       " ('7098592', '11678719', 0),\n",
       " ('8938115', '8938235', 0),\n",
       " ('7564265', '7529202', 0),\n",
       " ('7799928', '7402284', 0),\n",
       " ('7167515', '7201429', 0),\n",
       " ('7291564', '7621753', 0),\n",
       " ('7140524', '7264421', 0),\n",
       " ('7242823', '7481030', 0),\n",
       " ('7345285', '7044668', 0),\n",
       " ('7495449', '7495448', 0),\n",
       " ('7295230', '7666692', 0),\n",
       " ('7298857', '7296951', 0),\n",
       " ('8654473', '7142855', 0),\n",
       " ('7037268', '7371806', 0),\n",
       " ('7142451', '6965740', 0),\n",
       " ('7159419', '7144958', 0),\n",
       " ('7475605', '7212827', 0),\n",
       " ('7323221', '7509126', 0),\n",
       " ('7437271', '7335660', 0),\n",
       " ('7298797', '7298796', 0),\n",
       " ('7275842', '8656510', 0),\n",
       " ('7242775', '7242774', 0),\n",
       " ('7188402', '7147769', 0),\n",
       " ('7382700', '7144153', 0),\n",
       " ('7283154', '7346574', 0),\n",
       " ('7481646', '9147704', 0),\n",
       " ('7023159', '6963667', 0),\n",
       " ('7736606', '7064038', 0),\n",
       " ('6997019', '6978089', 0),\n",
       " ('8474258', '8474256', 0),\n",
       " ('7299240', '7284516', 0),\n",
       " ('7510916', '7315846', 0),\n",
       " ('7064747', '7074973', 0),\n",
       " ('7246107', '6988104', 0),\n",
       " ('7177447', '7177445', 0),\n",
       " ('7329457', '7160313', 0),\n",
       " ('12611292', '7274355', 0),\n",
       " ('7189404', '7163483', 0),\n",
       " ('7708178', '7184977', 0),\n",
       " ('7194071', '7194072', 0),\n",
       " ('7271035', '7394006', 0),\n",
       " ('7547597', '7208864', 0),\n",
       " ('7150068', '7545819', 0),\n",
       " ('7165618', '7162483', 0),\n",
       " ('7183214', '7137292', 0),\n",
       " ('7212159', '7193432', 0),\n",
       " ('7194076', '7507357', 0),\n",
       " ('7173933', '7173932', 0),\n",
       " ('7160329', '7160330', 0),\n",
       " ('7342610', '7342611', 0),\n",
       " ('5461718', '5191151', 0),\n",
       " ('7293303', '7301407', 0),\n",
       " ('7261586', '7213390', 0),\n",
       " ('7331562', '7331561', 0),\n",
       " ('7215024', '7212946', 0),\n",
       " ('7186788', '7106947', 0),\n",
       " ('7729214', '7546256', 0),\n",
       " ('7281809', '7300037', 0),\n",
       " ('7174804', '7157023', 0),\n",
       " ('8624576', '8624504', 0),\n",
       " ('7311035', '7311034', 0),\n",
       " ('8966759', '8966171', 0),\n",
       " ('9494818', '7047039', 0),\n",
       " ('10435087', '10425313', 0),\n",
       " ('7236492', '7236493', 0),\n",
       " ('7213230', '7368783', 0),\n",
       " ('7133574', '7013136', 0),\n",
       " ('7334378', '7334377', 0),\n",
       " ('9085944', '7337364', 0),\n",
       " ('7505988', '7142731', 0),\n",
       " ('5614944', '5562211', 0),\n",
       " ('7026544', '9132097', 0),\n",
       " ('7283785', '7260309', 0),\n",
       " ('7716815', '7264604', 0),\n",
       " ('7553972', '7273064', 0),\n",
       " ('7145870', '7137706', 0),\n",
       " ('7187618', '7262733', 0),\n",
       " ('7286984', '7549644', 0),\n",
       " ('9495249', '7405308', 0),\n",
       " ('8581970', '7418599', 0),\n",
       " ('7462349', '7542710', 0),\n",
       " ('9496984', '7616987', 0),\n",
       " ('8733725', '7242334', 0),\n",
       " ('7514967', '7616746', 0),\n",
       " ('7004658', '7004659', 0),\n",
       " ('7230857', '7219394', 0),\n",
       " ('7234335', '7298541', 0),\n",
       " ('7277135', '7579670', 0),\n",
       " ('7330597', '7422270', 0),\n",
       " ('7446033', '7407057', 0),\n",
       " ('8799388', '7583747', 0),\n",
       " ('7805584', '7720577', 0),\n",
       " ('12272120', '7318634', 0),\n",
       " ('7044899', '7004369', 0),\n",
       " ('8474116', '8474115', 1),\n",
       " ('10404052', '6963828', 0),\n",
       " ('6984516', '6984517', 0),\n",
       " ('7041023', '10371292', 0),\n",
       " ('7171107', '7559921', 0),\n",
       " ('7424238', '7199194', 0),\n",
       " ('7220336', '7216981', 0),\n",
       " ('7257254', '7253297', 0),\n",
       " ('7281513', '8882948', 0),\n",
       " ('7301416', '7400417', 0),\n",
       " ('7430232', '7430230', 0),\n",
       " ('7560954', '11865892', 0),\n",
       " ('12267324', '7169635', 0),\n",
       " ('7324158', '7411613', 0),\n",
       " ('8625960', '7263325', 0),\n",
       " ('10412672', '7050567', 0),\n",
       " ('7363432', '7111520', 0),\n",
       " ('7447315', '7246537', 0),\n",
       " ('7259202', '7277565', 0),\n",
       " ('7280851', '7277591', 0),\n",
       " ('7323192', '7566474', 0),\n",
       " ('7384701', '7384702', 0),\n",
       " ('7526625', '7425456', 0),\n",
       " ('7243750', '7356121', 0),\n",
       " ('7307617', '7307614', 0),\n",
       " ('12630317', '12267446', 0),\n",
       " ('6962216', '12616707', 0),\n",
       " ('8581203', '7067864', 0),\n",
       " ('7114035', '7131456', 0),\n",
       " ('7184547', '7149793', 0),\n",
       " ('7150040', '7273995', 0),\n",
       " ('7227345', '7151346', 0),\n",
       " ('7161124', '7154443', 0),\n",
       " ('7399737', '7225413', 0),\n",
       " ('7229994', '7535576', 0),\n",
       " ('7249417', '7579622', 0),\n",
       " ('7289527', '9413802', 0),\n",
       " ('11681369', '7311776', 0),\n",
       " ('7318529', '9406188', 0),\n",
       " ('7324159', '7324160', 0),\n",
       " ('7560352', '7361581', 0),\n",
       " ('11678824', '11678823', 0),\n",
       " ('7242432', '7164799', 0),\n",
       " ('7176603', '7354774', 0),\n",
       " ('7212351', '7210042', 0),\n",
       " ('7355838', '7212819', 0),\n",
       " ('7276000', '7275945', 0),\n",
       " ('8582758', '7289275', 0),\n",
       " ('7093545', '7090680', 0),\n",
       " ('8594047', '7092283', 0),\n",
       " ('7108429', '7108430', 0),\n",
       " ('7137802', '7136668', 0),\n",
       " ('7150013', '7188799', 0),\n",
       " ('7179282', '7179281', 0),\n",
       " ('7184152', '7269738', 0),\n",
       " ('7190629', '7190628', 0),\n",
       " ('7746948', '7225170', 0),\n",
       " ('7259526', '7305804', 0),\n",
       " ('7274610', '7737743', 0),\n",
       " ('8799364', '7276916', 0),\n",
       " ('7591913', '7282915', 0),\n",
       " ('7287009', '7361749', 0),\n",
       " ('7293697', '7293696', 0),\n",
       " ('7345649', '7510947', 0),\n",
       " ('7257713', '7257714', 0),\n",
       " ('7792715', '9098822', 0),\n",
       " ('7297632', '6965107', 0),\n",
       " ('9087365', '6965330', 0),\n",
       " ('7018935', '7254184', 0),\n",
       " ('7022220', '7022219', 0),\n",
       " ('7062754', '7062755', 0),\n",
       " ('7152293', '7121237', 0),\n",
       " ('7139675', '7167108', 0),\n",
       " ('7228988', '7142846', 0),\n",
       " ('7332863', '7382795', 0),\n",
       " ('7356121', '7334606', 0),\n",
       " ('9109859', '7416085', 0),\n",
       " ('7463960', '7472378', 0),\n",
       " ('7504523', '7504522', 0),\n",
       " ('7803759', '7750534', 0),\n",
       " ('7020566', '6980703', 0),\n",
       " ('7039563', '7408585', 0),\n",
       " ('7233585', '7237228', 0),\n",
       " ('7272120', '7302426', 0),\n",
       " ('7365510', '7365511', 0),\n",
       " ('7047081', '7047082', 0),\n",
       " ('7183291', '7183290', 0),\n",
       " ('7248870', '7248871', 0),\n",
       " ('12619358', '8655632', 0),\n",
       " ('6994717', '6976005', 0),\n",
       " ('9114736', '7011775', 0),\n",
       " ('7440169', '7011781', 0),\n",
       " ('7036040', '7309674', 0),\n",
       " ('10408669', '7042546', 0),\n",
       " ('7059396', '7467877', 0),\n",
       " ('7060026', '7060027', 0),\n",
       " ('7072877', '7072876', 0),\n",
       " ('7108719', '7752690', 0),\n",
       " ('7323399', '7140680', 0),\n",
       " ('7151762', '7587183', 0),\n",
       " ('7352633', '7191920', 0),\n",
       " ('7218231', '7409893', 0),\n",
       " ('7255122', '7341717', 0),\n",
       " ('7309559', '7388894', 0),\n",
       " ('7369702', '7346215', 0),\n",
       " ('7346899', '7346898', 0),\n",
       " ('7386789', '12271804', 0),\n",
       " ('7411724', '7411723', 0),\n",
       " ('7412208', '7412209', 0),\n",
       " ('7500488', '7429317', 0),\n",
       " ('7531930', '7531931', 0),\n",
       " ('10392696', '10364122', 0),\n",
       " ('7289360', '7372891', 0),\n",
       " ('7344959', '7344958', 0),\n",
       " ('6985970', '6976923', 0),\n",
       " ('8582917', '6979747', 0),\n",
       " ('7114936', '7114935', 0),\n",
       " ('7197162', '7197163', 0),\n",
       " ('7145777', '7137296', 0),\n",
       " ('7194061', '7192716', 0),\n",
       " ('7741265', '7315672', 0),\n",
       " ('7332824', '9417035', 0),\n",
       " ('7445499', '7445498', 0),\n",
       " ('7496265', '7485061', 0),\n",
       " ('7500675', '9494211', 0),\n",
       " ('8624605', '7685990', 0),\n",
       " ('5458290', '5298242', 0),\n",
       " ('7166080', '7352184', 0),\n",
       " ('7212828', '7188255', 0),\n",
       " ('8902894', '7340490', 0),\n",
       " ('7343163', '7711329', 0),\n",
       " ('7207286', '7306950', 0),\n",
       " ('7027590', '7327538', 0)]"
      ]
     },
     "execution_count": 7,
     "metadata": {},
     "output_type": "execute_result"
    }
   ],
   "source": [
    "importet_edges=[]\n",
    "for i in range(len(X)):\n",
    "    importet_edges.append(get_key(X[i][0],ID_dict))\n",
    "importet_edges"
   ]
  },
  {
   "cell_type": "code",
   "execution_count": 11,
   "metadata": {},
   "outputs": [
    {
     "data": {
      "text/plain": [
       "('7140733', '6987419', 0)"
      ]
     },
     "execution_count": 11,
     "metadata": {},
     "output_type": "execute_result"
    }
   ],
   "source": [
    "get_key(X[0][0],ID_dict)"
   ]
  },
  {
   "cell_type": "code",
   "execution_count": 8,
   "metadata": {},
   "outputs": [
    {
     "data": {
      "text/plain": [
       "('11679160', '8827990', 0)"
      ]
     },
     "execution_count": 8,
     "metadata": {},
     "output_type": "execute_result"
    }
   ],
   "source": [
    "depot=get_key(\"2231801\",ID_dict)\n",
    "depot"
   ]
  },
  {
   "cell_type": "code",
   "execution_count": 53,
   "metadata": {},
   "outputs": [],
   "source": [
    "## Get factor from linear regression"
   ]
  },
  {
   "cell_type": "code",
   "execution_count": 9,
   "metadata": {},
   "outputs": [
    {
     "name": "stdout",
     "output_type": "stream",
     "text": [
      "[['-6.217415638559294e-09', '1.2599349825129136']]\n"
     ]
    },
    {
     "data": {
      "text/plain": [
       "list"
      ]
     },
     "execution_count": 9,
     "metadata": {},
     "output_type": "execute_result"
    }
   ],
   "source": [
    "lin=[]\n",
    "with open('linear_reg.csv', newline= '') as csvfile:\n",
    "    spamreader = csv.reader(csvfile, delimiter=',')\n",
    "    for row in spamreader:\n",
    "        lin.append(list(row))\n",
    "print(lin)\n",
    "type(X[0])"
   ]
  },
  {
   "cell_type": "code",
   "execution_count": 10,
   "metadata": {},
   "outputs": [
    {
     "name": "stdout",
     "output_type": "stream",
     "text": [
      "-6.217415638559294e-09 1.2599349825129136\n"
     ]
    }
   ],
   "source": [
    "reg_coef=float(lin[0][0])\n",
    "reg_inter=float(lin[0][1])\n",
    "print(reg_coef,reg_inter)"
   ]
  },
  {
   "cell_type": "markdown",
   "metadata": {},
   "source": [
    "## Use that heuristic for creating a distance Matrix of size 500*500"
   ]
  },
  {
   "cell_type": "code",
   "execution_count": 18,
   "metadata": {},
   "outputs": [],
   "source": [
    "\n",
    "distanc_matrix_13=np.zeros((500,500))\n",
    "#distanc_matrix_40=np.zeros((20,20))"
   ]
  },
  {
   "cell_type": "code",
   "execution_count": 11,
   "metadata": {},
   "outputs": [],
   "source": [
    "#def give_fact_of_length_13(euc_dist):\n",
    "#    if(euc_dist<1300000):\n",
    "#        return 1.37\n",
    "#    elif(euc_dist<midpoint_2):\n",
    "#        return model_13.intercept_+ euc_dist*model_13.coef_\n",
    "#    else:\n",
    "#        return 1.177\n",
    "def give_fact_of_length_13(euc_dist):\n",
    "    if(euc_dist<1300000):\n",
    "        return 1.37\n",
    "    elif(euc_dist<midpoint_2):\n",
    "        return reg_inter+ euc_dist*reg_coef\n",
    "    else:\n",
    "        return 1.177"
   ]
  },
  {
   "cell_type": "code",
   "execution_count": 12,
   "metadata": {},
   "outputs": [
    {
     "name": "stdout",
     "output_type": "stream",
     "text": [
      "500\n",
      "('11679160', '8827990', 0)\n",
      "('7140733', '6987419', 0)\n",
      "('11679160', '8827990', 0)\n",
      "('7140733', '6987419', 0)\n",
      "501\n"
     ]
    }
   ],
   "source": [
    "print(len(importet_edges))\n",
    "final_edges=[depot]\n",
    "for i in range(500):\n",
    "    final_edges.append(importet_edges[i])\n",
    "final_edges[3]=get_key(\"814372\",ID_dict)#Berichtigungen von Tobi\n",
    "final_edges[28]=get_key(\"1005312\",ID_dict)#Berichtigungen von Tobi\n",
    "final_edges[187]=get_key(\"794153\",ID_dict)#Berichtigungen von Tobi\n",
    "final_edges[350]=get_key(\"950070\",ID_dict)#Berichtigungen von Tobi\n",
    "\n",
    "\n",
    "print(depot)\n",
    "print(importet_edges[0])\n",
    "print(final_edges[0])\n",
    "print(final_edges[1])\n",
    "print(len(final_edges))"
   ]
  },
  {
   "cell_type": "code",
   "execution_count": null,
   "metadata": {},
   "outputs": [
    {
     "name": "stdout",
     "output_type": "stream",
     "text": [
      "Zehnte Iteration\n",
      "Zehnte Iteration\n",
      "Zehnte Iteration\n",
      "Zehnte Iteration\n",
      "Zehnte Iteration\n",
      "Zehnte Iteration\n",
      "Zehnte Iteration\n",
      "Zehnte Iteration\n",
      "Zehnte Iteration\n",
      "Zehnte Iteration\n",
      "Zehnte Iteration\n",
      "Zehnte Iteration\n",
      "Zehnte Iteration\n",
      "Zehnte Iteration\n",
      "Zehnte Iteration\n",
      "Zehnte Iteration\n",
      "Zehnte Iteration\n",
      "Zehnte Iteration\n",
      "Zehnte Iteration\n",
      "Zehnte Iteration\n",
      "Zehnte Iteration\n",
      "Zehnte Iteration\n",
      "Zehnte Iteration\n"
     ]
    }
   ],
   "source": [
    "## With Heuristic long way from 13km:\n",
    "distanc_matrix_13=np.zeros((501,501))\n",
    "midpoint_2=11280000+(16000000-11280000)/2\n",
    "start=time.time()\n",
    "for i in range(501):#500 Customer plus depot\n",
    "    if(i%10==0):\n",
    "            print(\"Zehnte Iteration\")\n",
    "    for j in range(501):        \n",
    "        euc_dist=dist(final_edges[i][0],final_edges[j][0])\n",
    "        if(euc_dist<1300000):\n",
    "            try:\n",
    "                distanc_matrix_13[i][j]=nx.astar_path_length(G_all_roads,final_edges[i][0],final_edges[j][0],heuristic=dist,weight='length')\n",
    "            except:\n",
    "                distanc_matrix_13[i][j]=euc_dist*give_fact_of_length_13(euc_dist)\n",
    "                print(i,j)\n",
    "                print(\"node i,j,:\",final_edges[i][0],final_edges[j][0])\n",
    "            \n",
    "        else:\n",
    "            distanc_matrix_13[i][j]=euc_dist*give_fact_of_length_13(euc_dist)\n",
    "end=time.time()\n",
    "time_13=end-start\n",
    "print(end-start)"
   ]
  },
  {
   "cell_type": "code",
   "execution_count": null,
   "metadata": {},
   "outputs": [],
   "source": [
    "#dauert deutlich länger, circa 5min"
   ]
  },
  {
   "cell_type": "markdown",
   "metadata": {},
   "source": [
    "for a 500 time 500 Matrix instead of a 20 times time Matrix, we need approx the (500/20)*(500/20)=25*25=625 amount of calculation time then in the current situation\n",
    "\n",
    "that would lead, that we would need with the 13 heuristic 0.065*625 approx 40s of computation time\n",
    "\n",
    "with the 40 heuristic, we would need 2.2*625 approx 1375s,=22min+55s\n",
    "\n",
    "with the classic way, we would ne 295*625 approx 107675s=29,9h =29h+54min"
   ]
  },
  {
   "cell_type": "markdown",
   "metadata": {},
   "source": [
    "## Arbeiten mit den Längen"
   ]
  },
  {
   "cell_type": "code",
   "execution_count": 22,
   "metadata": {},
   "outputs": [
    {
     "ename": "NameError",
     "evalue": "name 'sample_edges' is not defined",
     "output_type": "error",
     "traceback": [
      "\u001b[0;31m---------------------------------------------------------------------------\u001b[0m",
      "\u001b[0;31mNameError\u001b[0m                                 Traceback (most recent call last)",
      "\u001b[0;32m<ipython-input-22-41cb7ac017ff>\u001b[0m in \u001b[0;36m<module>\u001b[0;34m\u001b[0m\n\u001b[0;32m----> 1\u001b[0;31m \u001b[0;34m(\u001b[0m\u001b[0mnx\u001b[0m\u001b[0;34m.\u001b[0m\u001b[0mastar_path_length\u001b[0m\u001b[0;34m(\u001b[0m\u001b[0mG_all_roads\u001b[0m\u001b[0;34m,\u001b[0m \u001b[0msample_edges\u001b[0m\u001b[0;34m[\u001b[0m\u001b[0;36m0\u001b[0m\u001b[0;34m]\u001b[0m\u001b[0;34m[\u001b[0m\u001b[0;36m0\u001b[0m\u001b[0;34m]\u001b[0m\u001b[0;34m,\u001b[0m \u001b[0msample_edges\u001b[0m\u001b[0;34m[\u001b[0m\u001b[0;36m1\u001b[0m\u001b[0;34m]\u001b[0m\u001b[0;34m[\u001b[0m\u001b[0;36m0\u001b[0m\u001b[0;34m]\u001b[0m\u001b[0;34m,\u001b[0m \u001b[0mheuristic\u001b[0m\u001b[0;34m=\u001b[0m\u001b[0mdist\u001b[0m\u001b[0;34m,\u001b[0m \u001b[0mweight\u001b[0m\u001b[0;34m=\u001b[0m\u001b[0;34m'time'\u001b[0m\u001b[0;34m)\u001b[0m\u001b[0;34m)\u001b[0m\u001b[0;34m\u001b[0m\u001b[0;34m\u001b[0m\u001b[0m\n\u001b[0m",
      "\u001b[0;31mNameError\u001b[0m: name 'sample_edges' is not defined"
     ]
    }
   ],
   "source": [
    "(nx.astar_path_length(G_all_roads, sample_edges[0][0], sample_edges[1][0], heuristic=dist, weight='time'))"
   ]
  },
  {
   "cell_type": "code",
   "execution_count": 22,
   "metadata": {},
   "outputs": [],
   "source": [
    "def tdist_60(a,b):##Heuristic für Durschnittsgeschwindigkeit von 60km/h\n",
    "    return dist(a,b)/(60/36)"
   ]
  },
  {
   "cell_type": "markdown",
   "metadata": {},
   "source": [
    "## Erstellen von Touren mit Neighrest Neighbors Approach\n",
    "\n",
    "Idea, always choose the nearest neighbor of the current point to achieve the next point on the subtour,\n",
    "if the subtour is longer then a specific length (or time), abort the subtour and go back to the depot"
   ]
  },
  {
   "cell_type": "code",
   "execution_count": 23,
   "metadata": {},
   "outputs": [],
   "source": [
    "##Try the tour first with a 20*20 Distance Matrix\n",
    "\n",
    "##Station left:\n",
    "def search_tour_with_km_limt(distance_matrix,km_limit=500,size=501,sample_edges=final_edges):\n",
    "    #print(\"sra\")\n",
    "    stations_left=list(range(1,size))\n",
    "    #print(stations_left)\n",
    "## Abruchkriterium mit maximal 500km per Tour\n",
    "    tourlist=[] #Listen von allen Subtouren, welche derzeitig bestehen\n",
    "    last_station=0#letzte Station, wird in der Iteration häufig benutzt werden\n",
    "    curr_tour=[]\n",
    "    while(len(stations_left)>0):#\n",
    "        #print(\"in while\")\n",
    "        if(curr_tour==[]):#Beginn beim Depot\n",
    "            min_Distanz=1000000000000#some big Number\n",
    "            next_station=533 ##Out auf Bound, falls es nicht funktion\n",
    "            for station in stations_left:##Kleinste Station herausgefunden, add it to function\n",
    "                if(distance_matrix[last_station][station]<min_Distanz):\n",
    "                    next_station=station\n",
    "                    min_Distanz=distance_matrix[last_station][station]\n",
    "            curr_tour.append([next_station])\n",
    "            curr_tour.append(min_Distanz)\n",
    "            last_station=next_station\n",
    "            stations_left.remove(next_station)\n",
    "            #print(curr_tour)\n",
    "        else:\n",
    "            min_Distanz=1000000000000#some big Number\n",
    "            next_station=32 ##Out auf Bound, falls es nicht funktion\n",
    "            no_valid_Station=True#Check später in der Iteration, ob man Überhaupt noch eine Tour hinzufügen kann\n",
    "            for station in stations_left:##Kleinste Station herausgefunden, add it to function\n",
    "                this_station_is_valid=False#Check ob aktuell zu überprüfende Station gemäß des Abbruchkriterium valide ist\n",
    "            #print(curr_tour)\n",
    "                if(curr_tour[1]+distance_matrix[last_station][station]+distance_matrix[station][0]<km_limit*100000):\n",
    "                    this_station_is_valid=True\n",
    "                    no_valid_Station=False\n",
    "                if(distance_matrix[last_station][station]<min_Distanz and this_station_is_valid):\n",
    "                    next_station=station\n",
    "                    min_Distanz=distance_matrix[last_station][station]\n",
    "            if(no_valid_Station):##Es gibt keine Station mehr, die wir der Tour hinzufügen können\n",
    "                #print(\"invalide, back to depot\", curr_tour)\n",
    "                curr_tour[1]+=distance_matrix[last_station][0]#Distanz von Endstation zu Depot muss noch hinzugefügt werden\n",
    "                tourlist.append(curr_tour)\n",
    "                last_station=0\n",
    "                curr_tour=[]\n",
    "            \n",
    "            else:#Es wird eine Station hinzugefügt\n",
    "                #print(\"Weiter suchen\", curr_tour)\n",
    "                curr_tour[0].append(next_station)\n",
    "                curr_tour[1]+=min_Distanz\n",
    "                last_station=next_station\n",
    "            #print(next_station)\n",
    "                stations_left.remove(next_station)\n",
    "    return tourlist"
   ]
  },
  {
   "cell_type": "code",
   "execution_count": 24,
   "metadata": {},
   "outputs": [
    {
     "name": "stdout",
     "output_type": "stream",
     "text": [
      "0.17994451522827148\n",
      "[172, 293, 156, 73, 220, 193, 94, 101, 283, 423, 410, 291, 292, 402, 364, 399, 195, 19, 446, 78, 397, 266, 263, 138, 8, 34, 167, 205, 56, 264, 314, 379, 451, 385, 11, 366, 422, 353, 23, 435, 478, 440, 96, 262, 39, 28, 87, 279, 13, 265, 377, 194, 313, 318, 182, 55, 309, 326, 204, 118, 125, 229, 315, 149, 289, 252, 462, 480, 103, 413, 257, 486, 280, 124, 238, 181, 255, 224, 296, 113, 297, 454, 177, 330, 243, 258, 328, 335, 316, 420, 43, 9, 90, 115, 393, 311, 64, 65, 439, 317, 332, 281, 312, 260, 130, 387, 214, 348, 247, 414, 150, 59, 323, 359, 373, 401, 27, 288, 54, 350, 299, 489, 424, 245, 22, 51, 139, 487, 60, 409, 100, 70, 201, 468, 300, 192, 169, 83, 232, 189, 233, 490, 476, 162, 81, 126, 438, 383, 128, 352, 2, 282, 448, 146, 226, 200, 24, 18, 41, 48, 384, 428, 190, 58, 199, 368, 134]\n",
      "498.64496136583006\n",
      "[273, 228, 390, 400, 339, 7, 407, 472, 360, 1, 186, 433, 488, 52, 148, 437, 306, 371, 208, 396, 183, 187, 349, 492, 140, 417, 236, 367, 322, 82, 416, 129, 464, 127, 196, 445, 178, 117, 17, 256, 254, 246, 62, 216, 395, 418, 44, 133, 358, 370, 3, 419, 155, 253, 337, 111, 45, 457, 482, 66, 484, 240, 483, 102, 99, 223, 234, 302, 50, 239, 274, 357, 184, 471, 436, 342, 63, 278, 97, 250, 36, 142, 112, 98, 329, 74, 308, 374, 31, 25, 26, 95, 495, 372, 491, 231, 431, 304, 270, 131, 343, 4, 188, 382, 334, 361, 40, 120, 305, 86, 107, 381, 5, 447, 404, 212, 259, 388, 375, 474, 38, 174]\n",
      "491.70507127331314\n",
      "[143, 179, 68, 175, 222, 394, 249, 251, 331, 290, 141, 105, 158, 389, 227, 421, 496, 176, 449, 180, 319, 320, 354, 466, 470, 242, 110, 57, 493, 217, 91, 386, 481, 219, 6, 237, 456, 406, 230, 434, 408, 338, 460, 347, 351, 29, 321, 89, 92, 151, 459, 166, 473, 116, 207, 294, 37, 450, 432, 455, 325, 49, 61, 80, 32, 477, 443, 391, 84, 427, 152, 500, 21, 425, 430, 285, 144, 241, 213, 14, 30, 380, 340, 398, 225, 185, 88, 465, 221, 497, 218, 298, 411, 362, 475, 69, 202, 10, 154, 75, 42, 268, 137, 35, 271, 287, 453, 12, 211]\n",
      "499.36319459418416\n",
      "[114, 163, 429, 441, 71, 275, 77, 341, 405, 295, 363, 356, 209, 244, 197, 159, 378, 286, 458, 235, 67, 47, 72, 344, 153, 164, 324, 494, 333, 345, 46, 161, 170, 53, 215, 198, 403, 499, 173, 452, 444, 168, 33, 469, 426, 327, 392, 307, 310, 442, 135, 93, 171, 467, 16, 498, 355, 346, 303, 277, 132, 20, 79, 15, 147, 365, 284, 104, 269, 136, 376, 261]\n",
      "492.8875684255183\n"
     ]
    }
   ],
   "source": [
    "begin=time.time()\n",
    "tours=search_tour_with_km_limt(distanc_matrix_13,size=501)\n",
    "end=time.time()\n",
    "print(end-begin)\n",
    "for tour in tours:\n",
    "    print(tour[0])\n",
    "    print(tour[1]/100000)"
   ]
  },
  {
   "cell_type": "code",
   "execution_count": null,
   "metadata": {},
   "outputs": [],
   "source": [
    "search_tour_with_km_limt()"
   ]
  },
  {
   "cell_type": "code",
   "execution_count": 43,
   "metadata": {},
   "outputs": [
    {
     "data": {
      "text/plain": [
       "[[[18, 17, 19, 15, 7, 5, 4, 14, 6, 8], 49551443.16280386],\n",
       " [[1, 13, 11], 44386912.81701267],\n",
       " [[3, 10, 16], 44407243.56600118],\n",
       " [[9, 12], 47832146.897616476]]"
      ]
     },
     "execution_count": 43,
     "metadata": {},
     "output_type": "execute_result"
    }
   ],
   "source": [
    "tourlist"
   ]
  },
  {
   "cell_type": "markdown",
   "metadata": {},
   "source": [
    "## Touren mit Nearest Neighbor mit Zeitlimit"
   ]
  },
  {
   "cell_type": "code",
   "execution_count": 26,
   "metadata": {},
   "outputs": [],
   "source": [
    "time_matrix=np.zeros((20,20))"
   ]
  },
  {
   "cell_type": "code",
   "execution_count": null,
   "metadata": {},
   "outputs": [],
   "source": [
    "#also add service_time_in function, servicetime=2min (=2/60h)"
   ]
  },
  {
   "cell_type": "code",
   "execution_count": 25,
   "metadata": {},
   "outputs": [],
   "source": [
    "def search_tour_with_time_limt(distance_matrix,timelimit=9,size=20,time_matrix=np.zeros((20,20)),sample_edges=final_edges):\n",
    "#def search_tour_with_time_limt(distance_matrix,timelimit=9,size=20,time_matrix,sample_edges):\n",
    "    stations_left=list(range(1,size))\n",
    "## Abruchkriterium mit maximal timelimit per Tour\n",
    "    tourlist=[] #Listen von allen Subtouren, welche derzeitig bestehen\n",
    "    last_station=0#letzte Station, wird in der Iteration häufig benutzt werden\n",
    "    curr_tour=[]\n",
    "    while(len(stations_left)>0):#\n",
    "    #print(\"in while\")\n",
    "        if(curr_tour==[]):#Beginn beim Depot\n",
    "            #print(\"wieder hier\")\n",
    "            min_Distanz=1000000000000#some big Number\n",
    "            next_station=32 ##Out auf Bound, falls es nicht funktion\n",
    "            for station in stations_left:##Kleinste Station herausgefunden, add it to function\n",
    "                if(distance_matrix[last_station][station]<min_Distanz):\n",
    "                    next_station=station\n",
    "                    min_Distanz=distance_matrix[last_station][station]\n",
    "            #print(next_station)\n",
    "            ##Station ist klar, jetzt kann die Zeit zur nächsten Station berechnet werden\n",
    "            add_time=0\n",
    "            if(time_matrix[last_station][next_station]>0):\n",
    "                add_time=time_matrix[last_station][next_station]\n",
    "            else:\n",
    "                try:\n",
    "                    time_matrix[last_station][next_station]=nx.astar_path_length(G_all_roads,sample_edges[last_station][0],sample_edges[next_station][0],heuristic=tdist_60,weight='time')/(3600*1000)\n",
    "                    add_time=time_matrix[last_station][next_station]\n",
    "                except:\n",
    "                    time_matrix[last_station][next_station]=distance_matrix[last_station][next_station]/((60/36)*(3600*1000))#Schätze benötigt Zeit anhand euclid distanz plus Durchschnittsgeschwindigkeit von 60km/h\n",
    "                    add_time=time_matrix[last_station][next_station]\n",
    "                    print(\"Error: \",last_station,next_station)\n",
    "            add_time+=(2/60)#Servicezeit von 2 min hinzufügen\n",
    "            curr_tour.append([next_station])\n",
    "            curr_tour.append(min_Distanz)\n",
    "            curr_tour.append(add_time)\n",
    "            last_station=next_station\n",
    "            stations_left.remove(next_station)\n",
    "            #print(curr_tour,stations_left)\n",
    "        else:\n",
    "            min_Distanz=1000000000000#some big Number\n",
    "            next_station=32 ##Out auf Bound, falls es nicht funktion\n",
    "            no_valid_Station=True#Check später in der Iteration, ob man Überhaupt noch eine Tour hinzufügen kann\n",
    "            stations_for_this_station=stations_left.copy()\n",
    "            \n",
    "            counter=0\n",
    "            no_more_valid_points=True\n",
    "            #while((counter<5 or counter<len(stations_for_this_station)) and len(stations_for_this_station)>0):#Es reicht die ersten fünf zu überprüfen, sehr unwahrscheinlich, dass eine Strecke, mit längerer Entfernung eine kürzere Zeit in Anspruch nimmt\n",
    "            while(counter<5 and len(stations_for_this_station)>counter):\n",
    "            #while(counter==0):\n",
    "                min_Distanz=1000000000000\n",
    "                for station in stations_for_this_station:##Kleinste Station herausgefunden, add it to function\n",
    "                    #this_station_is_valid=False#Check ob aktuell zu überprüfende Station gemäß des Abbruchkriterium valide ist\n",
    "            #print(curr_tour)\n",
    "                    if(distance_matrix[last_station][station]<min_Distanz):\n",
    "                        next_station=station\n",
    "                        min_Distanz=distance_matrix[last_station][station]\n",
    "                add_time=0\n",
    "                if(time_matrix[last_station][next_station]>0):\n",
    "                    add_time=time_matrix[last_station][next_station]\n",
    "                else:\n",
    "                    try:\n",
    "                        time_matrix[last_station][next_station]=nx.astar_path_length(G_all_roads,sample_edges[last_station][0],sample_edges[next_station][0],heuristic=tdist_60,weight='time')/(3600*1000)\n",
    "                        add_time=time_matrix[last_station][next_station]\n",
    "                    except:\n",
    "                        time_matrix[last_station][next_station]=distance_matrix[last_station][next_station]/((60/36)*(3600*1000))#Schätze benötigt Zeit anhand euclid distanz plus Durchschnittsgeschwindigkeit von 60km/h\n",
    "                        add_time=time_matrix[last_station][next_station]\n",
    "                        print(\"Error: \",last_station,next_station)\n",
    "                back_to_depot_time=0\n",
    "                if(time_matrix[next_station][0]>0):\n",
    "                    back_to_depot_time=time_matrix[next_station][0]\n",
    "                else:\n",
    "                    try:\n",
    "                        time_matrix[next_station][0]=nx.astar_path_length(G_all_roads,sample_edges[next_station][0],sample_edges[0][0],heuristic=tdist_60,weight='time')/(3600*1000)\n",
    "                        back_to_depot_time=time_matrix[next_station][0]\n",
    "                    except:\n",
    "                        time_matrix[next_station][0]=distance_matrix[next_station][0]/((60/36)*(3600*1000))#Schätze benötigt Zeit anhand euclid distanz plus Durchschnittsgeschwindigkeit von 60km/h\n",
    "                        back_to_depot_time=time_matrix[next_station][0]\n",
    "                        print(\"Error: \",next_station,0)\n",
    "                if(curr_tour[2]+add_time+(2/60)+back_to_depot_time<timelimit):#Ausgewählte station is valide\n",
    "                    ##Hinzufügen der Station zur Tour\n",
    "                    add_time+=(2/60)#Servicezeit von 2 min hinzufügen\n",
    "                    curr_tour[0].append(next_station)\n",
    "                    curr_tour[1]+=min_Distanz\n",
    "                    curr_tour[2]+=add_time\n",
    "                    #print(curr_tour)\n",
    "                    stations_left.remove(next_station)\n",
    "                    last_station=next_station\n",
    "                    no_more_valid_points=False\n",
    "                    if(len(stations_left)==0):##Tour muss hinzugefügt werden, Programm geht in oberste while Schleife, weil len==0 Bedingung nicht erfüllt-> Tour würde nicht hinzugefügt werden\n",
    "                        curr_tour[1]+=distance_matrix[next_station][0]\n",
    "                        curr_tour[2]+=back_to_depot_time\n",
    "                        tourlist.append(curr_tour)\n",
    "                    break\n",
    "                else:\n",
    "                    counter+=1\n",
    "                    #print(next_station,stations_for_this_station,counter)\n",
    "                    stations_for_this_station.remove(next_station)#im Nächsten Versuch der While Schleife soll natürlich diese Station nicht mehr abgefragt werden\n",
    "            if(no_more_valid_points):#->Es wurde keine weitere Station gefunden, welche das Kriterium erfüllt, zurück zum Depot\n",
    "                back_to_depot_time\n",
    "                if(time_matrix[last_station][0]>0):\n",
    "                    back_to_depot_time=time_matrix[last_station][0]\n",
    "                else:\n",
    "                    try:\n",
    "                        time_matrix[last_station][0]=nx.astar_path_length(G_all_roads,sample_edges[last_station][0],sample_edges[0][0],heuristic=tdist_60,weight='time')/(3600*1000)\n",
    "                        back_to_depot_time=time_matrix[last_station][0]\n",
    "                    except:\n",
    "                        time_matrix[last_station][0]=distance_matrix[last_station][0]/((60/36)*(3600*1000))#Schätze benötigt Zeit anhand euclid distanz plus Durchschnittsgeschwindigkeit von 60km/h\n",
    "                        back_to_depot_time=time_matrix[last_station][0]\n",
    "                        print(\"Error: \",last_station,0)\n",
    "                curr_tour[1]+=distance_matrix[last_station][0]\n",
    "                curr_tour[2]+=back_to_depot_time\n",
    "                tourlist.append(curr_tour)\n",
    "                curr_tour=[]\n",
    "                last_station=0\n",
    "    return tourlist"
   ]
  },
  {
   "cell_type": "code",
   "execution_count": 26,
   "metadata": {},
   "outputs": [],
   "source": [
    "time_matrix=np.zeros((501,501))"
   ]
  },
  {
   "cell_type": "code",
   "execution_count": 27,
   "metadata": {},
   "outputs": [
    {
     "name": "stdout",
     "output_type": "stream",
     "text": [
      "68.31244397163391\n"
     ]
    }
   ],
   "source": [
    "#first attemp\n",
    "begin=time.time()\n",
    "tours_with_times=search_tour_with_time_limt(distanc_matrix_13,timelimit=9,size=501,time_matrix=time_matrix)\n",
    "end=time.time()\n",
    "print(end-begin)"
   ]
  },
  {
   "cell_type": "code",
   "execution_count": 29,
   "metadata": {},
   "outputs": [
    {
     "data": {
      "text/plain": [
       "9"
      ]
     },
     "execution_count": 29,
     "metadata": {},
     "output_type": "execute_result"
    }
   ],
   "source": [
    "len(tours_with_times)"
   ]
  },
  {
   "cell_type": "code",
   "execution_count": 38,
   "metadata": {},
   "outputs": [
    {
     "name": "stdout",
     "output_type": "stream",
     "text": [
      "0.08620309829711914\n"
     ]
    }
   ],
   "source": [
    "begin=time.time()\n",
    "tours_with_times=search_tour_with_time_limt(distanc_matrix_13,timelimit=9,size=501,time_matrix=time_matrix)\n",
    "end=time.time()\n",
    "print(end-begin)"
   ]
  },
  {
   "cell_type": "code",
   "execution_count": 31,
   "metadata": {},
   "outputs": [
    {
     "name": "stdout",
     "output_type": "stream",
     "text": [
      "[172, 293, 156, 73, 220, 193, 94, 339, 390]\n",
      "17.22069 8.462128099749224\n",
      "[273, 228, 400, 101, 283, 423, 291, 292, 399]\n",
      "24.93042 7.954652825931365\n",
      "[134, 368, 407, 7, 305, 86, 107, 381, 432]\n",
      "70.1055288646258 8.534548794487625\n",
      "[195, 402, 364, 410, 263, 266, 397, 78, 360]\n",
      "40.45645 8.846291533638007\n",
      "[19, 446, 472, 1, 186, 433, 199, 190]\n",
      "66.381213743621 8.4242520739306\n",
      "[143, 388, 375, 474, 38, 138, 8, 314, 264]\n",
      "61.86703685902436 8.469833777692239\n",
      "[40, 120, 343, 131, 4, 188, 382, 436]\n",
      "84.97205396895656 9.028827345066057\n",
      "[213, 241, 270, 304, 431, 231, 30, 25]\n",
      "88.09631213813003 8.725689371468594\n",
      "[174, 167, 205, 56, 34, 379, 451]\n",
      "55.069310165033265 8.69830565957144\n",
      "[384, 48, 41, 18, 24, 200, 191, 396, 183, 187]\n",
      "102.84716118701986 8.758191953388396\n",
      "[428, 58, 148, 52, 488, 437, 371]\n",
      "84.92797638655554 8.856718300641527\n",
      "[5, 447, 404, 212, 259]\n",
      "70.66666029454747 8.629871672576254\n",
      "[11, 385, 366, 422, 353, 23, 435, 478, 39]\n",
      "87.03727491465693 8.990963262169899\n",
      "[477, 32, 443, 391, 84, 427, 152, 500, 21, 425, 430]\n",
      "95.20526857518615 8.578670534439455\n",
      "[61, 325, 455, 49, 80, 450, 294, 37, 473]\n",
      "87.68561370443575 8.96606520533178\n",
      "[144, 285, 392, 307, 310, 442, 93, 171]\n",
      "108.74910047056642 8.857569702809906\n",
      "[334, 361, 342, 63, 278, 97, 250, 329, 112, 142, 137]\n",
      "114.803639083051 8.807031998923202\n",
      "[440, 96, 262, 28, 87, 279, 13]\n",
      "83.89978153327003 8.889830647111976\n",
      "[179, 68, 175, 222, 394, 249, 290, 55, 204]\n",
      "108.24691608021051 8.545293822274779\n",
      "[114, 166, 116, 459, 151, 89, 321]\n",
      "84.9150649460847 8.443871578276594\n",
      "[163, 429, 434, 230, 408, 338, 460, 29]\n",
      "87.08530808381532 8.869860108769496\n",
      "[207, 173, 92, 351, 71, 77]\n",
      "112.9306370207448 8.526851531455844\n",
      "[85, 139, 487, 60, 409, 100, 70, 201, 468, 27, 288, 54, 401, 359]\n",
      "113.82410167803594 8.737684638482802\n",
      "[51, 22, 299, 489, 424, 245, 350, 373, 300]\n",
      "138.0495183991357 8.896690009594483\n",
      "[14, 495, 26, 95, 31, 374, 308, 74, 98]\n",
      "95.84039822297197 9.01455441437483\n",
      "[306, 417, 236, 367, 322, 82, 416, 463, 301]\n",
      "132.00256163775893 8.765051213414154\n",
      "[471, 184, 357, 274, 239, 117, 17]\n",
      "120.6238484647894 8.793244037839122\n",
      "[372, 491, 380, 340, 398, 225, 185, 88]\n",
      "112.59728693372276 8.86672288092058\n",
      "[106, 272, 203, 267, 210, 91, 217, 493]\n",
      "124.45064716522923 8.956662467284872\n",
      "[406, 456, 237, 6, 481, 219, 276, 159]\n",
      "138.84680279154918 8.845880085613496\n",
      "[226, 146, 162, 81, 126, 438, 383, 2, 128]\n",
      "133.25557238443093 9.025172665945181\n",
      "[347, 441, 275, 341, 405, 324]\n",
      "145.49437267396448 8.990842361504765\n",
      "[208, 349, 492, 140, 234, 223, 99, 370, 133, 3, 155]\n",
      "127.51357634710382 8.482782682029079\n",
      "[331, 251, 313, 194, 377, 243, 330, 280, 257, 486, 413, 177]\n",
      "112.11947195195127 8.635494520593364\n",
      "[469, 444, 168, 33, 452, 136, 269, 365, 147]\n",
      "132.67470321733893 8.496451841459406\n",
      "[36, 271, 35, 287, 453, 12, 461, 248, 160]\n",
      "137.8679805789917 8.64262300554641\n",
      "[467, 135, 327, 426, 104, 284, 20]\n",
      "147.76883006745396 8.883506133294052\n",
      "[355, 498, 16, 465, 221, 497]\n",
      "127.91933596230669 7.965322830352816\n",
      "[336, 165, 102, 419, 358, 50, 302, 157]\n",
      "140.23763034395088 8.88639578053401\n",
      "[499, 403, 198, 170, 53, 215, 161, 333, 494]\n",
      "146.650281535906 8.910385626042833\n",
      "[265, 412, 485, 387, 214, 348, 247, 414, 150, 130]\n",
      "134.74285436366114 8.655171489087186\n",
      "[211, 121, 445, 196, 464, 127]\n",
      "114.3743611922092 8.595028186904985\n",
      "[105, 141, 309, 326, 118, 125, 229, 315, 258, 289]\n",
      "110.61161869902257 8.98009735495097\n",
      "[182, 318, 149, 328, 252, 462, 480, 296]\n",
      "112.03207141107212 8.979949456622716\n",
      "[476, 448, 282, 240, 66, 484, 482, 111]\n",
      "146.596143144463 8.65593413814076\n",
      "[67, 47, 72, 344, 153, 164, 345, 235]\n",
      "166.78969804289284 8.933553679349634\n",
      "[129, 178, 256, 254, 246, 62, 216, 395, 418, 44]\n",
      "137.45043447757106 8.725765920449964\n",
      "[458, 286, 378, 197, 356, 244, 363, 57]\n",
      "176.38105487956685 9.002304978298193\n",
      "[268, 42, 75, 154, 108, 109, 10]\n",
      "153.8338029767937 8.480315500332479\n",
      "[192, 169, 83, 232, 189, 233, 490, 352]\n",
      "153.98915983764437 8.49219561168664\n",
      "[335, 113, 297, 454, 103, 224, 238, 255]\n",
      "119.47648328978777 7.993066848215839\n",
      "[323, 59, 260, 312, 281]\n",
      "145.18309504994684 8.705397003788235\n",
      "[15, 79, 376, 261, 46, 295, 209, 386, 470]\n",
      "246.50591954524396 9.023429288055944\n",
      "[158, 389, 227, 421, 496, 176, 449, 354]\n",
      "127.10680717051947 8.990410307449709\n",
      "[124, 181, 317, 439, 332, 64, 65, 311, 393]\n",
      "133.25776282023386 8.850511973735784\n",
      "[483, 45, 457, 253, 337, 119]\n",
      "144.12705184164093 8.617637098633917\n",
      "[319, 180, 320, 466, 242, 110, 9]\n",
      "151.6945129308635 8.698504425050936\n",
      "[316, 420, 43, 90, 115, 76, 122]\n",
      "232.07023430840425 8.700462206229442\n",
      "[475, 69, 202, 362, 411, 298, 218, 346, 303, 277, 132, 369]\n",
      "200.11564505560915 8.979927868354547\n",
      "[206, 145, 479, 123, 415]\n",
      "149.8209873981173 5.826662225106301\n"
     ]
    }
   ],
   "source": [
    "for tour in tours_with_times:\n",
    "    print(tour[0])\n",
    "    print(tour[1]/100000,tour[2])"
   ]
  },
  {
   "cell_type": "code",
   "execution_count": 39,
   "metadata": {},
   "outputs": [
    {
     "data": {
      "text/plain": [
       "1452"
      ]
     },
     "execution_count": 39,
     "metadata": {},
     "output_type": "execute_result"
    }
   ],
   "source": [
    "#time_matrix\n",
    "counter=0\n",
    "for i in range(500):\n",
    "    for j in range(500):\n",
    "        if(time_matrix[i][j]!=0):\n",
    "            counter+=1\n",
    "counter"
   ]
  },
  {
   "cell_type": "code",
   "execution_count": 40,
   "metadata": {},
   "outputs": [
    {
     "data": {
      "text/plain": [
       "61"
      ]
     },
     "execution_count": 40,
     "metadata": {},
     "output_type": "execute_result"
    }
   ],
   "source": [
    "len(tours_with_times)\n",
    "#wEITERES pROBLEM:\n",
    "#tOUREN MIT ÜBERZEIT\n",
    "#Lösung: Servicezeit ins Überbrüfungskriterium stecken"
   ]
  },
  {
   "cell_type": "code",
   "execution_count": null,
   "metadata": {},
   "outputs": [],
   "source": [
    "#Export the tourlist"
   ]
  },
  {
   "cell_type": "code",
   "execution_count": 41,
   "metadata": {},
   "outputs": [],
   "source": [
    "import csv\n",
    "with open('begin_of_tour_real_data.csv', 'w') as f: \n",
    "    write = csv.writer(f) \n",
    "    for tour in tours_with_times:\n",
    "        write_tour=[]\n",
    "        for i in range(len(tour[0])):\n",
    "            write_tour.append(tour[0][i])\n",
    "        write_tour.append(tour[1])\n",
    "        write_tour.append(tour[2])\n",
    "        write.writerow(write_tour) "
   ]
  },
  {
   "cell_type": "code",
   "execution_count": 94,
   "metadata": {},
   "outputs": [],
   "source": [
    "reg=[float(model_13.coef_[0]),float(model_13.intercept_)]\n",
    "with open(\"linear_reg.csv\",'w') as g:\n",
    "    write=csv.writer(g)\n",
    "    #write.writerow(list(float(model_13.coef_)))\n",
    "    write.writerow(reg)"
   ]
  },
  {
   "cell_type": "code",
   "execution_count": 89,
   "metadata": {},
   "outputs": [
    {
     "data": {
      "text/plain": [
       "1.2599349825129136"
      ]
     },
     "execution_count": 89,
     "metadata": {},
     "output_type": "execute_result"
    }
   ],
   "source": [
    "(float(model_13.intercept_))"
   ]
  },
  {
   "cell_type": "code",
   "execution_count": 92,
   "metadata": {},
   "outputs": [
    {
     "data": {
      "text/plain": [
       "[[[18, 17, 19, 15, 7, 5, 4, 14, 6], 44761994.71224299, 8.663843873783975],\n",
       " [[8, 1, 13, 11], 45292093.475845724, 8.658722748129973],\n",
       " [[3, 10, 16, 2], 54713613.95026906, 8.165486374983836],\n",
       " [[9, 12], 47832146.897616476, 7.313923330793774]]"
      ]
     },
     "execution_count": 92,
     "metadata": {},
     "output_type": "execute_result"
    }
   ],
   "source": [
    "search_tour_with_time_limt(distanc_matrix_13,9,20,time_matrix)"
   ]
  },
  {
   "cell_type": "code",
   "execution_count": null,
   "metadata": {},
   "outputs": [],
   "source": [
    "## Measure the Runtime of this algorithm"
   ]
  },
  {
   "cell_type": "code",
   "execution_count": 96,
   "metadata": {},
   "outputs": [],
   "source": [
    "time_matrix=np.zeros((20,20))"
   ]
  },
  {
   "cell_type": "code",
   "execution_count": 97,
   "metadata": {},
   "outputs": [
    {
     "name": "stdout",
     "output_type": "stream",
     "text": [
      "22.66212511062622\n"
     ]
    }
   ],
   "source": [
    "begin=time.time()\n",
    "search_tour_with_time_limt(distanc_matrix_13,9,20,time_matrix)\n",
    "end=time.time()\n",
    "print(end-begin)"
   ]
  },
  {
   "cell_type": "code",
   "execution_count": 98,
   "metadata": {},
   "outputs": [
    {
     "name": "stdout",
     "output_type": "stream",
     "text": [
      "0.0004775524139404297\n"
     ]
    }
   ],
   "source": [
    "##Runtime, when time Distance Matrix is already meassured:\n",
    "begin=time.time()\n",
    "search_tour_with_time_limt(distanc_matrix_13,9,20,time_matrix)\n",
    "end=time.time()\n",
    "print(end-begin)"
   ]
  }
 ],
 "metadata": {
  "kernelspec": {
   "display_name": "Python 3",
   "language": "python",
   "name": "python3"
  },
  "language_info": {
   "codemirror_mode": {
    "name": "ipython",
    "version": 3
   },
   "file_extension": ".py",
   "mimetype": "text/x-python",
   "name": "python",
   "nbconvert_exporter": "python",
   "pygments_lexer": "ipython3",
   "version": "3.8.5"
  }
 },
 "nbformat": 4,
 "nbformat_minor": 4
}
